{
 "cells": [
  {
   "cell_type": "markdown",
   "metadata": {},
   "source": [
    "# Data Visualization"
   ]
  },
  {
   "cell_type": "markdown",
   "metadata": {},
   "source": [
    "## What is the objective of the visual?\n",
    "\n",
    "What will the audience need to see in the chart?\n",
    "\n",
    "*Message type*\n",
    "Consider the message for your data visualization. Do you want to show a comparison, distribution, breakup of a whole, relationship or trends?\n"
   ]
  },
  {
   "cell_type": "markdown",
   "metadata": {},
   "source": [
    "## Data types\n",
    "\n",
    "Qualitative:\n",
    "\n",
    "\n",
    "Quantiatave:\n",
    "\n",
    "- Discrete\n",
    "- Continuous\n"
   ]
  },
  {
   "cell_type": "markdown",
   "metadata": {},
   "source": [
    "## Common types of data visualization\n",
    "\n",
    "### Box Plots\n",
    "Box plots are used for exploratory and explanatory analysis to visualize a dataset's key statistics.\n",
    "\n",
    "We can use them to represent minimum and maximum values, the median value, and the lower and upper quartiles (i.e. the median of the lower and upper halves of the data).\n",
    "\n",
    "They can show distributions of one or more groups of numeric data\n",
    "\n",
    "### Scatterplots\n",
    "A scatterplot displays the relationship between two variables on an x- and y-axis (two quantitative variables). \n",
    "\n",
    "Common variant: bubble plot\n",
    "\n",
    "Distributions of one or more groups of numeric data\n",
    "\n",
    "### Line Graphs\n",
    "\n",
    "Visually similar to scatterplots but represent data points separated by time intervals with segments joined by a line. This allows for quick observation of features like acceleration (when the line goes up), deceleration (when the line goes down), and volatility (when the line moves up and down erratically).\n",
    "\n",
    "\n",
    "### Bar charts\n",
    "\n",
    "Bar charts are a simple but highly effective way of plotting categorical data against discrete values. \n",
    "\n",
    "\n",
    "### Histograms\n",
    "\n",
    "Although visually similar to bar charts, histograms are not the same thing. Bar charts measure categorical data, while histograms measure the distribution of numerical data, i.e. the frequency with which a discrete data point appears in a dataset.\n",
    "\n",
    "Major difference: lack of space between bars\n",
    "\n",
    "### Pie Charts\n",
    "\n",
    "Similar to bar charts, pie charts represent categorical data. The main difference (besides how they look) is that bar charts represent numerous categories of data, while pie charts represent a single variable, broken down into percentages or proportions.\n",
    "\n"
   ]
  },
  {
   "cell_type": "markdown",
   "metadata": {},
   "source": [
    "## Sources\n",
    "\n",
    "https://careerfoundry.com/en/blog/data-analytics/data-visualization-types/\n",
    "\n"
   ]
  }
 ],
 "metadata": {
  "kernelspec": {
   "display_name": "Python 3.10.1 64-bit",
   "language": "python",
   "name": "python3"
  },
  "language_info": {
   "name": "python",
   "version": "3.10.1"
  },
  "orig_nbformat": 4,
  "vscode": {
   "interpreter": {
    "hash": "aee8b7b246df8f9039afb4144a1f6fd8d2ca17a180786b69acc140d282b71a49"
   }
  }
 },
 "nbformat": 4,
 "nbformat_minor": 2
}
