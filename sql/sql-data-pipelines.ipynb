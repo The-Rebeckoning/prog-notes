{
 "cells": [
  {
   "cell_type": "markdown",
   "metadata": {},
   "source": [
    "This notebook goes over how to clean data and load it into a SQL server. "
   ]
  },
  {
   "cell_type": "markdown",
   "metadata": {},
   "source": [
    "# Error messages\n",
    "\n",
    "## Error Code: 1265. Data truncated for column 'duration_ms' at row 1:\n",
    "\n",
    "Try changing this to varchar250\n",
    "\n",
    "## Error Code: 1261. Row 4560 doesn't contain data for all columns\n",
    "\n"
   ]
  }
 ],
 "metadata": {
  "language_info": {
   "name": "python"
  },
  "orig_nbformat": 4
 },
 "nbformat": 4,
 "nbformat_minor": 2
}
