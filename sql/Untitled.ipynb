{
 "cells": [
  {
   "cell_type": "markdown",
   "id": "adedb2b2",
   "metadata": {},
   "source": [
    "# SQL Notes\n",
    "\n",
    "This subdirectory consists of one central SQL Notebook. \n",
    "\n",
    "It includes:\n",
    "- Pictures and sample queries\n",
    "- How to identify a subset of data needed from specific column/columns and write a SQL query to limit to those results.\n",
    "- How to Use SQL commands to filter, sort, and summarize data.\n",
    "- How to join multiple tables.\n",
    "- How to manipulate different data types including strings, dates, & numeric data using functions.\n",
    "\n"
   ]
  }
 ],
 "metadata": {
  "kernelspec": {
   "display_name": "data-science",
   "language": "python",
   "name": "data-science"
  },
  "language_info": {
   "codemirror_mode": {
    "name": "ipython",
    "version": 3
   },
   "file_extension": ".py",
   "mimetype": "text/x-python",
   "name": "python",
   "nbconvert_exporter": "python",
   "pygments_lexer": "ipython3",
   "version": "3.10.1"
  }
 },
 "nbformat": 4,
 "nbformat_minor": 5
}
