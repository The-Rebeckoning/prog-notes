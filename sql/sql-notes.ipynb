{
 "cells": [
  {
   "cell_type": "markdown",
   "metadata": {},
   "source": [
    "# Getting started\n",
    "\n",
    "## Create a new database\n",
    "\n",
    "\tCREATE DATABASE spotify\n",
    "\n",
    "## Show databases currently in the server \n",
    "\n",
    "\tSHOW DATABASES;\n",
    "\n",
    "Display the current databases available on the server using the SHOW DATABASES statement."
   ]
  },
  {
   "cell_type": "markdown",
   "metadata": {},
   "source": [
    "### MySQL data types\n",
    "\n",
    "#### Numeric\n",
    "\n",
    "- bigint\n",
    "- smallint\n",
    "- decimal\n",
    "- int\n",
    "\n",
    "#### Character\n",
    "\n",
    "Stores text information. \n",
    "\n",
    "- char: Character data of fixed-size\n",
    "- varchar: Character data types that are variable-size\n",
    "    varchar(255)\n",
    "- text\n",
    "\n",
    "#### Boolean\n",
    "\n",
    "#### Datetime\n",
    "\n",
    "#### Data Structures\n",
    "\n",
    "- JSON\n",
    "- Arrays"
   ]
  },
  {
   "cell_type": "markdown",
   "metadata": {},
   "source": [
    "### Create a table\n",
    "\n",
    "The CREATE TABLE statement is used to create a new table in a database.\n",
    "\n",
    "\n",
    "    CREATE TABLE table_name (\n",
    "        column1 datatype,\n",
    "        column2 datatype,\n",
    "        column3 datatype,\n",
    "    ....\n",
    "    );"
   ]
  },
  {
   "cell_type": "markdown",
   "metadata": {},
   "source": [
    "### Use a database\n",
    "\n",
    "Switch to the database using the USE statement:\n",
    "\n",
    "\n",
    "    USE spotify;"
   ]
  },
  {
   "cell_type": "markdown",
   "metadata": {},
   "source": [
    "### Show tables\n",
    "\n",
    "Execute the following command to get a list of all tables and views in the current database\n",
    "\n",
    "    SHOW TABLES;"
   ]
  }
 ],
 "metadata": {
  "language_info": {
   "name": "python"
  },
  "orig_nbformat": 4
 },
 "nbformat": 4,
 "nbformat_minor": 2
}
