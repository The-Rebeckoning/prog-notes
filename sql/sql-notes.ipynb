{
 "cells": [
  {
   "cell_type": "markdown",
   "metadata": {},
   "source": [
    "# Getting started\n",
    "\n",
    "## Create a new database\n",
    "\n",
    "\tCREATE DATABASE spotify\n",
    "\n",
    "## Show databases currently in the server \n",
    "\n",
    "\tSHOW DATABASES;\n",
    "\n",
    "Display the current databases available on the server using the SHOW DATABASES statement.\n",
    "\n",
    "## Show tables in selected database\n",
    "\n",
    "\tSHOW TABLES;\n",
    "\n",
    "## Show columns in selected table\n",
    "\n",
    "\tSHOW COLUMNS FROM table_name;\n",
    "\n"
   ]
  },
  {
   "cell_type": "markdown",
   "metadata": {},
   "source": [
    "# Alter table data\n",
    "\n",
    "The ALTER TABLE statement is used to add, delete, or modify columns in an existing table.\n",
    "\n",
    "The ALTER TABLE statement is also used to add and drop various constraints on an existing table.\n",
    "\n",
    "## Alter/Modify a column\n",
    "\n",
    "To change the data type of a column in a table, use the following syntax:\n",
    " \n",
    "    ALTER TABLE table_name\n",
    "    MODIFY COLUMN column_name datatype; \n",
    "\n",
    "## Remove a column\n",
    "\n",
    "    ALTER TABLE table_name\n",
    "    DROP COLUMN column_name;\n",
    "\n",
    "    "
   ]
  },
  {
   "cell_type": "markdown",
   "metadata": {},
   "source": [
    "### MySQL data types\n",
    "\n",
    "#### Numeric\n",
    "\n",
    "- bigint\n",
    "- smallint\n",
    "- decimal\n",
    "- int\n",
    "\n",
    "#### Character\n",
    "\n",
    "Stores text information. \n",
    "\n",
    "- char: Character data of fixed-size\n",
    "- varchar: Character data types that are variable-size\n",
    "    varchar(255)\n",
    "- text\n",
    "\n",
    "#### Boolean\n",
    "\n",
    "#### Datetime\n",
    "\n",
    "#### Data Structures\n",
    "\n",
    "- JSON\n",
    "- Arrays"
   ]
  },
  {
   "cell_type": "markdown",
   "metadata": {},
   "source": [
    "### Create a table\n",
    "\n",
    "The CREATE TABLE statement is used to create a new table in a database.\n",
    "\n",
    "\n",
    "    CREATE TABLE table_name (\n",
    "        column1 datatype,\n",
    "        column2 datatype,\n",
    "        column3 datatype,\n",
    "    ....\n",
    "    );\n",
    "\n",
    "\n",
    "    CREATE TABLE Persons (\n",
    "        Personid int NOT NULL AUTO_INCREMENT,\n",
    "        LastName varchar(255) NOT NULL,\n",
    "        FirstName varchar(255),\n",
    "        Age int,\n",
    "        PRIMARY KEY (Personid)\n",
    "    );"
   ]
  },
  {
   "cell_type": "markdown",
   "metadata": {},
   "source": [
    "### Use a database\n",
    "\n",
    "Switch to the database using the USE statement:\n",
    "\n",
    "\n",
    "    USE spotify;"
   ]
  },
  {
   "cell_type": "markdown",
   "metadata": {},
   "source": [
    "### Show tables\n",
    "\n",
    "Execute the following command to get a list of all tables and views in the current database\n",
    "\n",
    "    SHOW TABLES;"
   ]
  },
  {
   "cell_type": "markdown",
   "metadata": {},
   "source": [
    "## Remove a table\n",
    "\n",
    "The DROP TABLE statement is used to drop an existing table in a database.\n",
    "\n",
    "    DROP TABLE table_name;\n"
   ]
  },
  {
   "cell_type": "markdown",
   "metadata": {},
   "source": [
    "# Partitioning in MySQL\n",
    "\n",
    "Partitioning is a way in which a database (MySQL in this case) splits its actual data down into separate tables, but still get treated as a single table by the SQL layer.\n",
    "\n"
   ]
  },
  {
   "cell_type": "markdown",
   "metadata": {},
   "source": [
    "# Functions in MySQL\n",
    "\n",
    "MySQL can do much more than just store and retrieve data. We can also perform manipulations on the data before retrieving or saving it. \n",
    "\n",
    "That’s where MySQL Functions come in. Functions are simply pieces of code that perform some operations and then return a result. Some functions accept parameters while other functions do not accept parameters.\n",
    "\n",
    "- Strings functions: operate on string data types\n",
    "- Numeric functions: operate on numeric data types\n",
    "- Date functions: operate on date data types\n",
    "- Aggregate functions: operate on all of the above data types and produce summarized result sets.\n",
    "- Analytic functions"
   ]
  },
  {
   "cell_type": "markdown",
   "metadata": {},
   "source": [
    "## Analytic functions\n",
    "\n",
    "Analytic functions allow you to perform calculations on ordered sets of data.\n"
   ]
  },
  {
   "cell_type": "markdown",
   "metadata": {},
   "source": [
    "### LEAD and LAG functions\n",
    "\n",
    "Allow you to refer to values in other rows of the result set.\n",
    "\n",
    "#### LAG function\n",
    "\n",
    "\n"
   ]
  },
  {
   "cell_type": "markdown",
   "metadata": {},
   "source": [
    "# Subqueries\n",
    "\n",
    "Subquery is a SELECT coded within another SQL statement. Can be introduced using WHERE, HAVING, FROM or SELECT \n",
    "\n",
    " \n",
    "## Subqueries\n",
    "\n",
    "\tSELECT invoice_number, invoice_date, invoice_total\n",
    "\tFROM invoices\n",
    "\tWHERE invoice_total> \n",
    "\t\t(SELECT AVG(invoice_total) \n",
    "\t\tFROM invoices)\n",
    "\tORDER BY invoice_total\n",
    "\n",
    "### When to use subqueries \n",
    "\n",
    "Most subqueries can be restated as joins and most joins can be restated as subqueries\n",
    "\n",
    "### Advantages of joins:\n",
    "\n",
    "-SELECT clause of a join can include columns from both tables\n",
    "\n",
    "-A join tends to be more intuitive when it uses an existing relationship between the two tables, such as a primary key to a foreign key relationship\n",
    "\n",
    "### Advantages of subqueries\n",
    "\n",
    "- You can use a subquery to pas an aggregate value to the main query\n",
    "\n",
    "- A subquery tends to be more intuitive when it uses an ad hoc relationship between the two tables\n",
    "\n",
    "- Long, complex queries can sometimes be easier to code using subqueries"
   ]
  },
  {
   "cell_type": "code",
   "execution_count": null,
   "metadata": {},
   "outputs": [],
   "source": []
  }
 ],
 "metadata": {
  "interpreter": {
   "hash": "767d51c1340bd893661ea55ea3124f6de3c7a262a8b4abca0554b478b1e2ff90"
  },
  "kernelspec": {
   "display_name": "Python 2.7.18 64-bit",
   "language": "python",
   "name": "python3"
  },
  "language_info": {
   "name": "python",
   "version": "2.7.18"
  },
  "orig_nbformat": 4
 },
 "nbformat": 4,
 "nbformat_minor": 2
}
