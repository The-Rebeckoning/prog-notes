{
 "cells": [
  {
   "cell_type": "markdown",
   "metadata": {},
   "source": [
    "## Learn about the data in a csv file before importing into MySQL\n",
    "\n",
    "We'll review the data in our csv file so we know which tables to create in our MySQL database.\n"
   ]
  },
  {
   "cell_type": "code",
   "execution_count": 2,
   "metadata": {},
   "outputs": [],
   "source": [
    "import pandas as pd\n",
    "import numpy as np\n",
    "import seaborn as sns\n",
    "spotify_df = pd.read_csv('spotify-data/genres.csv', low_memory=False)"
   ]
  },
  {
   "cell_type": "markdown",
   "metadata": {},
   "source": [
    "Now that we've loaded our data, we'll see what types of data we have in our dataset"
   ]
  },
  {
   "cell_type": "code",
   "execution_count": 21,
   "metadata": {},
   "outputs": [
    {
     "data": {
      "text/html": [
       "<div>\n",
       "<style scoped>\n",
       "    .dataframe tbody tr th:only-of-type {\n",
       "        vertical-align: middle;\n",
       "    }\n",
       "\n",
       "    .dataframe tbody tr th {\n",
       "        vertical-align: top;\n",
       "    }\n",
       "\n",
       "    .dataframe thead th {\n",
       "        text-align: right;\n",
       "    }\n",
       "</style>\n",
       "<table border=\"1\" class=\"dataframe\">\n",
       "  <thead>\n",
       "    <tr style=\"text-align: right;\">\n",
       "      <th></th>\n",
       "      <th>danceability</th>\n",
       "      <th>energy</th>\n",
       "      <th>key</th>\n",
       "      <th>loudness</th>\n",
       "      <th>mode</th>\n",
       "      <th>speechiness</th>\n",
       "      <th>acousticness</th>\n",
       "      <th>instrumentalness</th>\n",
       "      <th>liveness</th>\n",
       "      <th>valence</th>\n",
       "      <th>tempo</th>\n",
       "      <th>duration_ms</th>\n",
       "      <th>time_signature</th>\n",
       "      <th>Unnamed: 0</th>\n",
       "    </tr>\n",
       "  </thead>\n",
       "  <tbody>\n",
       "    <tr>\n",
       "      <th>count</th>\n",
       "      <td>42305.000000</td>\n",
       "      <td>42305.000000</td>\n",
       "      <td>42305.000000</td>\n",
       "      <td>42305.000000</td>\n",
       "      <td>42305.000000</td>\n",
       "      <td>42305.000000</td>\n",
       "      <td>42305.000000</td>\n",
       "      <td>42305.000000</td>\n",
       "      <td>42305.000000</td>\n",
       "      <td>42305.000000</td>\n",
       "      <td>42305.000000</td>\n",
       "      <td>42305.000000</td>\n",
       "      <td>42305.000000</td>\n",
       "      <td>20780.000000</td>\n",
       "    </tr>\n",
       "    <tr>\n",
       "      <th>mean</th>\n",
       "      <td>0.639364</td>\n",
       "      <td>0.762516</td>\n",
       "      <td>5.370240</td>\n",
       "      <td>-6.465442</td>\n",
       "      <td>0.549462</td>\n",
       "      <td>0.136561</td>\n",
       "      <td>0.096160</td>\n",
       "      <td>0.283048</td>\n",
       "      <td>0.214079</td>\n",
       "      <td>0.357101</td>\n",
       "      <td>147.474056</td>\n",
       "      <td>250865.846685</td>\n",
       "      <td>3.972580</td>\n",
       "      <td>10483.970645</td>\n",
       "    </tr>\n",
       "    <tr>\n",
       "      <th>std</th>\n",
       "      <td>0.156617</td>\n",
       "      <td>0.183823</td>\n",
       "      <td>3.666145</td>\n",
       "      <td>2.941165</td>\n",
       "      <td>0.497553</td>\n",
       "      <td>0.126168</td>\n",
       "      <td>0.170827</td>\n",
       "      <td>0.370791</td>\n",
       "      <td>0.175576</td>\n",
       "      <td>0.233200</td>\n",
       "      <td>23.844623</td>\n",
       "      <td>102957.713571</td>\n",
       "      <td>0.268342</td>\n",
       "      <td>6052.359519</td>\n",
       "    </tr>\n",
       "    <tr>\n",
       "      <th>min</th>\n",
       "      <td>0.065100</td>\n",
       "      <td>0.000243</td>\n",
       "      <td>0.000000</td>\n",
       "      <td>-33.357000</td>\n",
       "      <td>0.000000</td>\n",
       "      <td>0.022700</td>\n",
       "      <td>0.000001</td>\n",
       "      <td>0.000000</td>\n",
       "      <td>0.010700</td>\n",
       "      <td>0.018700</td>\n",
       "      <td>57.967000</td>\n",
       "      <td>25600.000000</td>\n",
       "      <td>1.000000</td>\n",
       "      <td>0.000000</td>\n",
       "    </tr>\n",
       "    <tr>\n",
       "      <th>25%</th>\n",
       "      <td>0.524000</td>\n",
       "      <td>0.632000</td>\n",
       "      <td>1.000000</td>\n",
       "      <td>-8.161000</td>\n",
       "      <td>0.000000</td>\n",
       "      <td>0.049100</td>\n",
       "      <td>0.001730</td>\n",
       "      <td>0.000000</td>\n",
       "      <td>0.099600</td>\n",
       "      <td>0.161000</td>\n",
       "      <td>129.931000</td>\n",
       "      <td>179840.000000</td>\n",
       "      <td>4.000000</td>\n",
       "      <td>5255.750000</td>\n",
       "    </tr>\n",
       "    <tr>\n",
       "      <th>50%</th>\n",
       "      <td>0.646000</td>\n",
       "      <td>0.803000</td>\n",
       "      <td>6.000000</td>\n",
       "      <td>-6.234000</td>\n",
       "      <td>1.000000</td>\n",
       "      <td>0.075500</td>\n",
       "      <td>0.016400</td>\n",
       "      <td>0.005940</td>\n",
       "      <td>0.135000</td>\n",
       "      <td>0.322000</td>\n",
       "      <td>144.973000</td>\n",
       "      <td>224760.000000</td>\n",
       "      <td>4.000000</td>\n",
       "      <td>10479.500000</td>\n",
       "    </tr>\n",
       "    <tr>\n",
       "      <th>75%</th>\n",
       "      <td>0.766000</td>\n",
       "      <td>0.923000</td>\n",
       "      <td>9.000000</td>\n",
       "      <td>-4.513000</td>\n",
       "      <td>1.000000</td>\n",
       "      <td>0.193000</td>\n",
       "      <td>0.107000</td>\n",
       "      <td>0.722000</td>\n",
       "      <td>0.294000</td>\n",
       "      <td>0.522000</td>\n",
       "      <td>161.464000</td>\n",
       "      <td>301133.000000</td>\n",
       "      <td>4.000000</td>\n",
       "      <td>15709.250000</td>\n",
       "    </tr>\n",
       "    <tr>\n",
       "      <th>max</th>\n",
       "      <td>0.988000</td>\n",
       "      <td>1.000000</td>\n",
       "      <td>11.000000</td>\n",
       "      <td>3.148000</td>\n",
       "      <td>1.000000</td>\n",
       "      <td>0.946000</td>\n",
       "      <td>0.988000</td>\n",
       "      <td>0.989000</td>\n",
       "      <td>0.988000</td>\n",
       "      <td>0.988000</td>\n",
       "      <td>220.290000</td>\n",
       "      <td>913052.000000</td>\n",
       "      <td>5.000000</td>\n",
       "      <td>20999.000000</td>\n",
       "    </tr>\n",
       "  </tbody>\n",
       "</table>\n",
       "</div>"
      ],
      "text/plain": [
       "       danceability        energy           key      loudness          mode  \\\n",
       "count  42305.000000  42305.000000  42305.000000  42305.000000  42305.000000   \n",
       "mean       0.639364      0.762516      5.370240     -6.465442      0.549462   \n",
       "std        0.156617      0.183823      3.666145      2.941165      0.497553   \n",
       "min        0.065100      0.000243      0.000000    -33.357000      0.000000   \n",
       "25%        0.524000      0.632000      1.000000     -8.161000      0.000000   \n",
       "50%        0.646000      0.803000      6.000000     -6.234000      1.000000   \n",
       "75%        0.766000      0.923000      9.000000     -4.513000      1.000000   \n",
       "max        0.988000      1.000000     11.000000      3.148000      1.000000   \n",
       "\n",
       "        speechiness  acousticness  instrumentalness      liveness  \\\n",
       "count  42305.000000  42305.000000      42305.000000  42305.000000   \n",
       "mean       0.136561      0.096160          0.283048      0.214079   \n",
       "std        0.126168      0.170827          0.370791      0.175576   \n",
       "min        0.022700      0.000001          0.000000      0.010700   \n",
       "25%        0.049100      0.001730          0.000000      0.099600   \n",
       "50%        0.075500      0.016400          0.005940      0.135000   \n",
       "75%        0.193000      0.107000          0.722000      0.294000   \n",
       "max        0.946000      0.988000          0.989000      0.988000   \n",
       "\n",
       "            valence         tempo    duration_ms  time_signature    Unnamed: 0  \n",
       "count  42305.000000  42305.000000   42305.000000    42305.000000  20780.000000  \n",
       "mean       0.357101    147.474056  250865.846685        3.972580  10483.970645  \n",
       "std        0.233200     23.844623  102957.713571        0.268342   6052.359519  \n",
       "min        0.018700     57.967000   25600.000000        1.000000      0.000000  \n",
       "25%        0.161000    129.931000  179840.000000        4.000000   5255.750000  \n",
       "50%        0.322000    144.973000  224760.000000        4.000000  10479.500000  \n",
       "75%        0.522000    161.464000  301133.000000        4.000000  15709.250000  \n",
       "max        0.988000    220.290000  913052.000000        5.000000  20999.000000  "
      ]
     },
     "execution_count": 21,
     "metadata": {},
     "output_type": "execute_result"
    }
   ],
   "source": [
    "spotify_df.describe()\n",
    "\n",
    "spotify_df.dtypes\n",
    "\n",
    "\n"
   ]
  },
  {
   "cell_type": "code",
   "execution_count": 43,
   "metadata": {},
   "outputs": [
    {
     "data": {
      "text/plain": [
       "danceability        float64\n",
       "energy              float64\n",
       "key                   int64\n",
       "loudness            float64\n",
       "mode                  int64\n",
       "speechiness         float64\n",
       "acousticness        float64\n",
       "instrumentalness    float64\n",
       "liveness            float64\n",
       "valence             float64\n",
       "tempo               float64\n",
       "type                 object\n",
       "id                   object\n",
       "uri                  object\n",
       "track_href           object\n",
       "analysis_url         object\n",
       "duration_ms           int64\n",
       "time_signature        int64\n",
       "genre                object\n",
       "song_name            object\n",
       "Unnamed: 0          float64\n",
       "title                object\n",
       "dtype: object"
      ]
     },
     "execution_count": 43,
     "metadata": {},
     "output_type": "execute_result"
    }
   ],
   "source": [
    "spotify_df.dtypes"
   ]
  },
  {
   "cell_type": "code",
   "execution_count": 20,
   "metadata": {},
   "outputs": [
    {
     "data": {
      "text/plain": [
       "0                                NaN\n",
       "1                                NaN\n",
       "2                                NaN\n",
       "3                                NaN\n",
       "4                                NaN\n",
       "                    ...             \n",
       "42300             Euphoric Hardstyle\n",
       "42301    Greatest Hardstyle Playlist\n",
       "42302         Best of Hardstyle 2020\n",
       "42303             Euphoric Hardstyle\n",
       "42304         Best of Hardstyle 2020\n",
       "Name: title, Length: 42305, dtype: object"
      ]
     },
     "execution_count": 20,
     "metadata": {},
     "output_type": "execute_result"
    }
   ],
   "source": [
    "spotify_df.title"
   ]
  },
  {
   "cell_type": "code",
   "execution_count": 18,
   "metadata": {},
   "outputs": [
    {
     "data": {
      "text/plain": [
       "0        Dark Trap\n",
       "1        Dark Trap\n",
       "2        Dark Trap\n",
       "3        Dark Trap\n",
       "4        Dark Trap\n",
       "           ...    \n",
       "42300    hardstyle\n",
       "42301    hardstyle\n",
       "42302    hardstyle\n",
       "42303    hardstyle\n",
       "42304    hardstyle\n",
       "Name: genre, Length: 42305, dtype: object"
      ]
     },
     "execution_count": 18,
     "metadata": {},
     "output_type": "execute_result"
    }
   ],
   "source": [
    "spotify_df.genre"
   ]
  },
  {
   "cell_type": "markdown",
   "metadata": {},
   "source": [
    "Since we're not sure what will happen if we try to import \"Object\" types into MySQL, we'll create tables that store those values as strings. \n",
    "\n",
    "CREATE TABLE Persons (\n",
    "    PersonID int,\n",
    "    LastName varchar(255),\n",
    "    FirstName varchar(255),\n",
    "    Address varchar(255),\n",
    "    City varchar(255)\n",
    ");"
   ]
  },
  {
   "cell_type": "markdown",
   "metadata": {},
   "source": [
    "## Getting data ready to create our \"genres\" table\n",
    "\n",
    "We're first going to create a dictionary for this and check to make sure when we create this content we create the right data type"
   ]
  },
  {
   "cell_type": "code",
   "execution_count": 111,
   "metadata": {},
   "outputs": [
    {
     "name": "stdout",
     "output_type": "stream",
     "text": [
      "danceability float64\n",
      "energy float64\n",
      "key int64\n",
      "loudness float64\n",
      "mode int64\n",
      "speechiness float64\n",
      "acousticness float64\n",
      "instrumentalness float64\n",
      "liveness float64\n",
      "valence float64\n",
      "tempo float64\n",
      "type str\n",
      "id str\n",
      "uri str\n",
      "track_href str\n",
      "analysis_url str\n",
      "duration_ms int64\n",
      "time_signature int64\n",
      "genre str\n",
      "song_name str\n",
      "Unnamed: 0 float64\n",
      "title str\n"
     ]
    }
   ],
   "source": [
    "sql_table_vars= dict(spotify_df.dtypes)\n",
    "\n",
    "final_keys = list(sql_table_vars.keys())\n",
    "\n",
    "draft_values = []\n",
    "\n",
    "\n",
    "for value in sql_table_vars.values():\n",
    "    draft_values.append(str(value))\n",
    "\n",
    "## change the value of objet to str since sql does not have this data type (or i don't know how to insert into it)\n",
    "\n",
    "final_values = ['str' if item == 'object' else item for item in draft_values]\n",
    "\n",
    "final_dict= dict(zip(final_keys, final_values))\n",
    "\n",
    "for k in final_dict:\n",
    "    \n",
    "    print (k, final_dict[k])\n",
    "\n"
   ]
  },
  {
   "cell_type": "code",
   "execution_count": null,
   "metadata": {},
   "outputs": [],
   "source": []
  }
 ],
 "metadata": {
  "interpreter": {
   "hash": "aee8b7b246df8f9039afb4144a1f6fd8d2ca17a180786b69acc140d282b71a49"
  },
  "kernelspec": {
   "display_name": "Python 3.10.1 64-bit",
   "language": "python",
   "name": "python3"
  },
  "language_info": {
   "codemirror_mode": {
    "name": "ipython",
    "version": 3
   },
   "file_extension": ".py",
   "mimetype": "text/x-python",
   "name": "python",
   "nbconvert_exporter": "python",
   "pygments_lexer": "ipython3",
   "version": "3.10.1"
  },
  "orig_nbformat": 4
 },
 "nbformat": 4,
 "nbformat_minor": 2
}
