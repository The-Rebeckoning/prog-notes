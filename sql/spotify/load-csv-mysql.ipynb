{
 "cells": [
  {
   "cell_type": "markdown",
   "metadata": {},
   "source": [
    "## Learn about the data in a csv file before importing into MySQL\n",
    "\n",
    "We'll review the data in our csv file so we know which tables to create in our MySQL database.\n"
   ]
  },
  {
   "cell_type": "code",
   "execution_count": 13,
   "metadata": {},
   "outputs": [
    {
     "data": {
      "text/plain": [
       "Unnamed: 0                             100\n",
       "danceability                         0.832\n",
       "energy                               0.802\n",
       "key                                     11\n",
       "loudness                            -4.039\n",
       "mode                                     0\n",
       "speechiness                           0.22\n",
       "acousticness                         0.343\n",
       "instrumentalness                   0.00361\n",
       "liveness                             0.139\n",
       "valence                              0.178\n",
       "tempo                              220.012\n",
       "type                        audio_features\n",
       "id                  3lTAwJ7GAsm6mFkRejOXIm\n",
       "duration_ms                         166798\n",
       "time_signature                           4\n",
       "genre                            Dark Trap\n",
       "song_name               Plague Doctor Mask\n",
       "Unnamed: 0.1                           NaN\n",
       "title                                  NaN\n",
       "Name: 100, dtype: object"
      ]
     },
     "execution_count": 13,
     "metadata": {},
     "output_type": "execute_result"
    }
   ],
   "source": [
    "import pandas as pd\n",
    "import numpy as np\n",
    "import seaborn as sns\n",
    "spotify_df = pd.read_csv('spotify-data/genresv2.csv', low_memory=False)\n",
    "\n",
    "spotify_df.loc[100]"
   ]
  },
  {
   "cell_type": "markdown",
   "metadata": {},
   "source": [
    "Now that we've loaded our data, we'll see what types of data we have in our dataset"
   ]
  },
  {
   "cell_type": "code",
   "execution_count": 39,
   "metadata": {},
   "outputs": [
    {
     "data": {
      "text/plain": [
       "Unnamed: 0            int64\n",
       "danceability        float64\n",
       "energy              float64\n",
       "key                   int64\n",
       "loudness            float64\n",
       "mode                  int64\n",
       "speechiness         float64\n",
       "acousticness        float64\n",
       "instrumentalness    float64\n",
       "liveness            float64\n",
       "valence             float64\n",
       "tempo               float64\n",
       "type                 object\n",
       "id                   object\n",
       "duration_ms           int64\n",
       "time_signature        int64\n",
       "genre                object\n",
       "song_name            object\n",
       "Unnamed: 0.1        float64\n",
       "title                object\n",
       "dtype: object"
      ]
     },
     "execution_count": 39,
     "metadata": {},
     "output_type": "execute_result"
    }
   ],
   "source": [
    "spotify_df.describe()\n",
    "\n",
    "spotify_df.dtypes\n",
    "\n",
    "\n"
   ]
  },
  {
   "cell_type": "code",
   "execution_count": 40,
   "metadata": {},
   "outputs": [
    {
     "data": {
      "text/plain": [
       "Unnamed: 0            int64\n",
       "danceability        float64\n",
       "energy              float64\n",
       "key                   int64\n",
       "loudness            float64\n",
       "mode                  int64\n",
       "speechiness         float64\n",
       "acousticness        float64\n",
       "instrumentalness    float64\n",
       "liveness            float64\n",
       "valence             float64\n",
       "tempo               float64\n",
       "type                 object\n",
       "id                   object\n",
       "duration_ms           int64\n",
       "time_signature        int64\n",
       "genre                object\n",
       "song_name            object\n",
       "Unnamed: 0.1        float64\n",
       "title                object\n",
       "dtype: object"
      ]
     },
     "execution_count": 40,
     "metadata": {},
     "output_type": "execute_result"
    }
   ],
   "source": [
    "spotify_df.dtypes"
   ]
  },
  {
   "cell_type": "code",
   "execution_count": 41,
   "metadata": {},
   "outputs": [
    {
     "data": {
      "text/plain": [
       "<bound method DataFrame.mode of        Unnamed: 0  danceability  energy  key  loudness  mode  speechiness  \\\n",
       "0               0         0.831   0.814    2    -7.364     1       0.4200   \n",
       "1               1         0.719   0.493    8    -7.230     1       0.0794   \n",
       "2               2         0.850   0.893    5    -4.783     1       0.0623   \n",
       "3               3         0.476   0.781    0    -4.710     1       0.1030   \n",
       "4               4         0.798   0.624    2    -7.668     1       0.2930   \n",
       "...           ...           ...     ...  ...       ...   ...          ...   \n",
       "42300       42300         0.528   0.693    4    -5.148     1       0.0304   \n",
       "42301       42301         0.517   0.768    0    -7.922     0       0.0479   \n",
       "42302       42302         0.361   0.821    8    -3.102     1       0.0505   \n",
       "42303       42303         0.477   0.921    6    -4.777     0       0.0392   \n",
       "42304       42304         0.529   0.945    9    -5.862     1       0.0615   \n",
       "\n",
       "       acousticness  instrumentalness  liveness  valence    tempo  \\\n",
       "0          0.059800          0.013400    0.0556   0.3890  156.985   \n",
       "1          0.401000          0.000000    0.1180   0.1240  115.080   \n",
       "2          0.013800          0.000004    0.3720   0.0391  218.050   \n",
       "3          0.023700          0.000000    0.1140   0.1750  186.948   \n",
       "4          0.217000          0.000000    0.1660   0.5910  147.988   \n",
       "...             ...               ...       ...      ...      ...   \n",
       "42300      0.031500          0.000345    0.1210   0.3940  150.013   \n",
       "42301      0.022500          0.000018    0.2050   0.3830  149.928   \n",
       "42302      0.026000          0.000242    0.3850   0.1240  154.935   \n",
       "42303      0.000551          0.029600    0.0575   0.4880  150.042   \n",
       "42304      0.001890          0.000055    0.4140   0.1340  155.047   \n",
       "\n",
       "                 type                      id  duration_ms  time_signature  \\\n",
       "0      audio_features  2Vc6NJ9PW9gD9q343XFRKx       124539               4   \n",
       "1      audio_features  7pgJBLVz5VmnL7uGHmRj6p       224427               4   \n",
       "2      audio_features  0vSWgAlfpye0WCGeNmuNhy        98821               4   \n",
       "3      audio_features  0VSXnJqQkwuH2ei1nOQ1nu       123661               3   \n",
       "4      audio_features  4jCeguq9rMTlbMmPHuO7S3       123298               4   \n",
       "...               ...                     ...          ...             ...   \n",
       "42300  audio_features  46bXU7Sgj7104ZoXxzz9tM       269208               4   \n",
       "42301  audio_features  0he2ViGMUO3ajKTxLOfWVT       210112               4   \n",
       "42302  audio_features  72DAt9Lbpy9EUS29OzQLob       234823               4   \n",
       "42303  audio_features  6HXgExFVuE1c3cq9QjFCcU       323200               4   \n",
       "42304  audio_features  6MAAMZImxcvYhRnxDLTufD       162161               4   \n",
       "\n",
       "           genre                                      song_name  Unnamed: 0.1  \\\n",
       "0      Dark Trap                            Mercury: Retrograde           NaN   \n",
       "1      Dark Trap                                      Pathology           NaN   \n",
       "2      Dark Trap                                       Symbiote           NaN   \n",
       "3      Dark Trap  ProductOfDrugs (Prod. The Virus and Antidote)           NaN   \n",
       "4      Dark Trap                                          Venom           NaN   \n",
       "...          ...                                            ...           ...   \n",
       "42300  hardstyle                                            NaN       20995.0   \n",
       "42301  hardstyle                                            NaN       20996.0   \n",
       "42302  hardstyle                                            NaN       20997.0   \n",
       "42303  hardstyle                                            NaN       20998.0   \n",
       "42304  hardstyle                                            NaN       20999.0   \n",
       "\n",
       "                             title  \n",
       "0                              NaN  \n",
       "1                              NaN  \n",
       "2                              NaN  \n",
       "3                              NaN  \n",
       "4                              NaN  \n",
       "...                            ...  \n",
       "42300           Euphoric Hardstyle  \n",
       "42301  Greatest Hardstyle Playlist  \n",
       "42302       Best of Hardstyle 2020  \n",
       "42303           Euphoric Hardstyle  \n",
       "42304       Best of Hardstyle 2020  \n",
       "\n",
       "[42305 rows x 20 columns]>"
      ]
     },
     "execution_count": 41,
     "metadata": {},
     "output_type": "execute_result"
    }
   ],
   "source": [
    "spotify_df.mode"
   ]
  },
  {
   "cell_type": "code",
   "execution_count": 42,
   "metadata": {},
   "outputs": [
    {
     "data": {
      "text/html": [
       "<div>\n",
       "<style scoped>\n",
       "    .dataframe tbody tr th:only-of-type {\n",
       "        vertical-align: middle;\n",
       "    }\n",
       "\n",
       "    .dataframe tbody tr th {\n",
       "        vertical-align: top;\n",
       "    }\n",
       "\n",
       "    .dataframe thead th {\n",
       "        text-align: right;\n",
       "    }\n",
       "</style>\n",
       "<table border=\"1\" class=\"dataframe\">\n",
       "  <thead>\n",
       "    <tr style=\"text-align: right;\">\n",
       "      <th></th>\n",
       "      <th>Unnamed: 0</th>\n",
       "      <th>danceability</th>\n",
       "      <th>energy</th>\n",
       "      <th>key</th>\n",
       "      <th>loudness</th>\n",
       "      <th>mode</th>\n",
       "      <th>speechiness</th>\n",
       "      <th>acousticness</th>\n",
       "      <th>instrumentalness</th>\n",
       "      <th>liveness</th>\n",
       "      <th>valence</th>\n",
       "      <th>tempo</th>\n",
       "      <th>duration_ms</th>\n",
       "      <th>time_signature</th>\n",
       "      <th>Unnamed: 0.1</th>\n",
       "    </tr>\n",
       "  </thead>\n",
       "  <tbody>\n",
       "    <tr>\n",
       "      <th>count</th>\n",
       "      <td>42305.000000</td>\n",
       "      <td>42305.000000</td>\n",
       "      <td>42305.000000</td>\n",
       "      <td>42305.000000</td>\n",
       "      <td>42305.000000</td>\n",
       "      <td>42305.000000</td>\n",
       "      <td>42305.000000</td>\n",
       "      <td>42305.000000</td>\n",
       "      <td>42305.000000</td>\n",
       "      <td>42305.000000</td>\n",
       "      <td>42305.000000</td>\n",
       "      <td>42305.000000</td>\n",
       "      <td>42305.000000</td>\n",
       "      <td>42305.000000</td>\n",
       "      <td>20780.000000</td>\n",
       "    </tr>\n",
       "    <tr>\n",
       "      <th>mean</th>\n",
       "      <td>21152.000000</td>\n",
       "      <td>0.639364</td>\n",
       "      <td>0.762516</td>\n",
       "      <td>5.370240</td>\n",
       "      <td>-6.465442</td>\n",
       "      <td>0.549462</td>\n",
       "      <td>0.136561</td>\n",
       "      <td>0.096160</td>\n",
       "      <td>0.283048</td>\n",
       "      <td>0.214079</td>\n",
       "      <td>0.357101</td>\n",
       "      <td>147.474056</td>\n",
       "      <td>250865.846685</td>\n",
       "      <td>3.972580</td>\n",
       "      <td>10483.970645</td>\n",
       "    </tr>\n",
       "    <tr>\n",
       "      <th>std</th>\n",
       "      <td>12212.545906</td>\n",
       "      <td>0.156617</td>\n",
       "      <td>0.183823</td>\n",
       "      <td>3.666145</td>\n",
       "      <td>2.941165</td>\n",
       "      <td>0.497553</td>\n",
       "      <td>0.126168</td>\n",
       "      <td>0.170827</td>\n",
       "      <td>0.370791</td>\n",
       "      <td>0.175576</td>\n",
       "      <td>0.233200</td>\n",
       "      <td>23.844623</td>\n",
       "      <td>102957.713571</td>\n",
       "      <td>0.268342</td>\n",
       "      <td>6052.359519</td>\n",
       "    </tr>\n",
       "    <tr>\n",
       "      <th>min</th>\n",
       "      <td>0.000000</td>\n",
       "      <td>0.065100</td>\n",
       "      <td>0.000243</td>\n",
       "      <td>0.000000</td>\n",
       "      <td>-33.357000</td>\n",
       "      <td>0.000000</td>\n",
       "      <td>0.022700</td>\n",
       "      <td>0.000001</td>\n",
       "      <td>0.000000</td>\n",
       "      <td>0.010700</td>\n",
       "      <td>0.018700</td>\n",
       "      <td>57.967000</td>\n",
       "      <td>25600.000000</td>\n",
       "      <td>1.000000</td>\n",
       "      <td>0.000000</td>\n",
       "    </tr>\n",
       "    <tr>\n",
       "      <th>25%</th>\n",
       "      <td>10576.000000</td>\n",
       "      <td>0.524000</td>\n",
       "      <td>0.632000</td>\n",
       "      <td>1.000000</td>\n",
       "      <td>-8.161000</td>\n",
       "      <td>0.000000</td>\n",
       "      <td>0.049100</td>\n",
       "      <td>0.001730</td>\n",
       "      <td>0.000000</td>\n",
       "      <td>0.099600</td>\n",
       "      <td>0.161000</td>\n",
       "      <td>129.931000</td>\n",
       "      <td>179840.000000</td>\n",
       "      <td>4.000000</td>\n",
       "      <td>5255.750000</td>\n",
       "    </tr>\n",
       "    <tr>\n",
       "      <th>50%</th>\n",
       "      <td>21152.000000</td>\n",
       "      <td>0.646000</td>\n",
       "      <td>0.803000</td>\n",
       "      <td>6.000000</td>\n",
       "      <td>-6.234000</td>\n",
       "      <td>1.000000</td>\n",
       "      <td>0.075500</td>\n",
       "      <td>0.016400</td>\n",
       "      <td>0.005940</td>\n",
       "      <td>0.135000</td>\n",
       "      <td>0.322000</td>\n",
       "      <td>144.973000</td>\n",
       "      <td>224760.000000</td>\n",
       "      <td>4.000000</td>\n",
       "      <td>10479.500000</td>\n",
       "    </tr>\n",
       "    <tr>\n",
       "      <th>75%</th>\n",
       "      <td>31728.000000</td>\n",
       "      <td>0.766000</td>\n",
       "      <td>0.923000</td>\n",
       "      <td>9.000000</td>\n",
       "      <td>-4.513000</td>\n",
       "      <td>1.000000</td>\n",
       "      <td>0.193000</td>\n",
       "      <td>0.107000</td>\n",
       "      <td>0.722000</td>\n",
       "      <td>0.294000</td>\n",
       "      <td>0.522000</td>\n",
       "      <td>161.464000</td>\n",
       "      <td>301133.000000</td>\n",
       "      <td>4.000000</td>\n",
       "      <td>15709.250000</td>\n",
       "    </tr>\n",
       "    <tr>\n",
       "      <th>max</th>\n",
       "      <td>42304.000000</td>\n",
       "      <td>0.988000</td>\n",
       "      <td>1.000000</td>\n",
       "      <td>11.000000</td>\n",
       "      <td>3.148000</td>\n",
       "      <td>1.000000</td>\n",
       "      <td>0.946000</td>\n",
       "      <td>0.988000</td>\n",
       "      <td>0.989000</td>\n",
       "      <td>0.988000</td>\n",
       "      <td>0.988000</td>\n",
       "      <td>220.290000</td>\n",
       "      <td>913052.000000</td>\n",
       "      <td>5.000000</td>\n",
       "      <td>20999.000000</td>\n",
       "    </tr>\n",
       "  </tbody>\n",
       "</table>\n",
       "</div>"
      ],
      "text/plain": [
       "         Unnamed: 0  danceability        energy           key      loudness  \\\n",
       "count  42305.000000  42305.000000  42305.000000  42305.000000  42305.000000   \n",
       "mean   21152.000000      0.639364      0.762516      5.370240     -6.465442   \n",
       "std    12212.545906      0.156617      0.183823      3.666145      2.941165   \n",
       "min        0.000000      0.065100      0.000243      0.000000    -33.357000   \n",
       "25%    10576.000000      0.524000      0.632000      1.000000     -8.161000   \n",
       "50%    21152.000000      0.646000      0.803000      6.000000     -6.234000   \n",
       "75%    31728.000000      0.766000      0.923000      9.000000     -4.513000   \n",
       "max    42304.000000      0.988000      1.000000     11.000000      3.148000   \n",
       "\n",
       "               mode   speechiness  acousticness  instrumentalness  \\\n",
       "count  42305.000000  42305.000000  42305.000000      42305.000000   \n",
       "mean       0.549462      0.136561      0.096160          0.283048   \n",
       "std        0.497553      0.126168      0.170827          0.370791   \n",
       "min        0.000000      0.022700      0.000001          0.000000   \n",
       "25%        0.000000      0.049100      0.001730          0.000000   \n",
       "50%        1.000000      0.075500      0.016400          0.005940   \n",
       "75%        1.000000      0.193000      0.107000          0.722000   \n",
       "max        1.000000      0.946000      0.988000          0.989000   \n",
       "\n",
       "           liveness       valence         tempo    duration_ms  \\\n",
       "count  42305.000000  42305.000000  42305.000000   42305.000000   \n",
       "mean       0.214079      0.357101    147.474056  250865.846685   \n",
       "std        0.175576      0.233200     23.844623  102957.713571   \n",
       "min        0.010700      0.018700     57.967000   25600.000000   \n",
       "25%        0.099600      0.161000    129.931000  179840.000000   \n",
       "50%        0.135000      0.322000    144.973000  224760.000000   \n",
       "75%        0.294000      0.522000    161.464000  301133.000000   \n",
       "max        0.988000      0.988000    220.290000  913052.000000   \n",
       "\n",
       "       time_signature  Unnamed: 0.1  \n",
       "count    42305.000000  20780.000000  \n",
       "mean         3.972580  10483.970645  \n",
       "std          0.268342   6052.359519  \n",
       "min          1.000000      0.000000  \n",
       "25%          4.000000   5255.750000  \n",
       "50%          4.000000  10479.500000  \n",
       "75%          4.000000  15709.250000  \n",
       "max          5.000000  20999.000000  "
      ]
     },
     "execution_count": 42,
     "metadata": {},
     "output_type": "execute_result"
    }
   ],
   "source": [
    "spotify_df.describe() \n",
    "\n"
   ]
  },
  {
   "cell_type": "markdown",
   "metadata": {},
   "source": [
    "Since we're not sure what will happen if we try to import \"Object\" types into MySQL, we'll create tables that store those values as strings. \n",
    "\n",
    "CREATE TABLE Persons (\n",
    "    PersonID int,\n",
    "    LastName varchar(255),\n",
    "    FirstName varchar(255),\n",
    "    Address varchar(255),\n",
    "    City varchar(255)\n",
    ");"
   ]
  },
  {
   "cell_type": "markdown",
   "metadata": {},
   "source": [
    "## Getting data ready to create our \"genres\" table\n",
    "\n",
    "We're first going to create a dictionary for this and check to make sure when we create this content we create the right data type"
   ]
  },
  {
   "cell_type": "code",
   "execution_count": 43,
   "metadata": {},
   "outputs": [
    {
     "name": "stdout",
     "output_type": "stream",
     "text": [
      "Unnamed: 0 float\n",
      "danceability float\n",
      "energy float\n",
      "key float\n",
      "loudness float\n",
      "mode float\n",
      "speechiness float\n",
      "acousticness float\n",
      "instrumentalness float\n",
      "liveness float\n",
      "valence float\n",
      "tempo float\n",
      "type char\n",
      "id char\n",
      "duration_ms float\n",
      "time_signature float\n",
      "genre char\n",
      "song_name char\n",
      "Unnamed: 0.1 float\n",
      "title char\n"
     ]
    }
   ],
   "source": [
    "sql_table_vars= dict(spotify_df.dtypes)\n",
    "\n",
    "\n",
    "\n",
    "final_keys = list(sql_table_vars.keys())\n",
    "\n",
    "draft_values = []\n",
    "\n",
    "\n",
    "for value in sql_table_vars.values():\n",
    "    draft_values.append(str(value))\n",
    "\n",
    "## change the value of objet to str since sql does not have this data type (or i don't know how to insert into it)\n",
    "\n",
    "final_values = []\n",
    "for item in draft_values:\n",
    "    if item == 'object':\n",
    "        final_values.append('char')\n",
    "    elif item == 'float64' or item == 'int64':\n",
    "        final_values.append('float')\n",
    "    else:\n",
    "        final_values.append(item)\n",
    "\n",
    "\n",
    "final_dict= dict(zip(final_keys, final_values))\n",
    "\n",
    "for k in final_dict:\n",
    "    \n",
    "    print (k, final_dict[k])\n",
    "    "
   ]
  },
  {
   "cell_type": "code",
   "execution_count": 44,
   "metadata": {},
   "outputs": [
    {
     "name": "stdout",
     "output_type": "stream",
     "text": [
      "CREATE TABLE genres(\n",
      "Unnamed: 0 float,\n",
      "danceability float,\n",
      "energy float,\n",
      "key float,\n",
      "loudness float,\n",
      "mode float,\n",
      "speechiness float,\n",
      "acousticness float,\n",
      "instrumentalness float,\n",
      "liveness float,\n",
      "valence float,\n",
      "tempo float,\n",
      "type char,\n",
      "id char,\n",
      "duration_ms float,\n",
      "time_signature float,\n",
      "genre char,\n",
      "song_name char,\n",
      "Unnamed: 0.1 float,\n",
      "title char,\n",
      ");\n"
     ]
    }
   ],
   "source": [
    "print (\"CREATE TABLE genres(\")\n",
    "for item in final_dict:\n",
    "    print (item, final_dict[item]+\",\")\n",
    "print (\");\")\n",
    "\n",
    "\n",
    "## figure out the issues iwth key, mode, type (rename them)"
   ]
  },
  {
   "cell_type": "markdown",
   "metadata": {},
   "source": [
    "## Now we need to rename the variables that have reserved SQL words as the field names so that we can create the SQL table\n",
    "\n",
    "key  -> 2, song_key \n",
    "mode -> 4, # what is in this data?\n",
    "type -> 11 #what is this data? \n",
    "\n",
    "We'll need the index numbers to relabel the keys "
   ]
  },
  {
   "cell_type": "code",
   "execution_count": 45,
   "metadata": {},
   "outputs": [
    {
     "name": "stdout",
     "output_type": "stream",
     "text": [
      "Unnamed: 0 0\n",
      "danceability 1\n",
      "energy 2\n",
      "key 3\n",
      "loudness 4\n",
      "mode 5\n",
      "speechiness 6\n",
      "acousticness 7\n",
      "instrumentalness 8\n",
      "liveness 9\n",
      "valence 10\n",
      "tempo 11\n",
      "type 12\n",
      "id 13\n",
      "duration_ms 14\n",
      "time_signature 15\n",
      "genre 16\n",
      "song_name 17\n",
      "Unnamed: 0.1 18\n",
      "title 19\n"
     ]
    }
   ],
   "source": [
    "index_num = -1\n",
    "\n",
    "for i in final_keys:\n",
    "    index_num=index_num+1\n",
    "    print (i, index_num)\n"
   ]
  },
  {
   "cell_type": "markdown",
   "metadata": {},
   "source": [
    "### Now that we know the indexes for the variables with names that need to be changed, we'll find out what they are so we create names that make sense"
   ]
  },
  {
   "cell_type": "code",
   "execution_count": 46,
   "metadata": {},
   "outputs": [
    {
     "data": {
      "text/plain": [
       "count    42305.000000\n",
       "mean         5.370240\n",
       "std          3.666145\n",
       "min          0.000000\n",
       "25%          1.000000\n",
       "50%          6.000000\n",
       "75%          9.000000\n",
       "max         11.000000\n",
       "Name: key, dtype: float64"
      ]
     },
     "execution_count": 46,
     "metadata": {},
     "output_type": "execute_result"
    }
   ],
   "source": [
    "result = spotify_df['key'].describe()\n",
    "result"
   ]
  },
  {
   "cell_type": "markdown",
   "metadata": {},
   "source": [
    "It's unclear what these values mean- we'll label this as \"to remove\" for now and, once our csv file is imported into our table, drop the column"
   ]
  },
  {
   "cell_type": "code",
   "execution_count": 47,
   "metadata": {},
   "outputs": [
    {
     "data": {
      "text/plain": [
       "count    42305.000000\n",
       "mean         0.549462\n",
       "std          0.497553\n",
       "min          0.000000\n",
       "25%          0.000000\n",
       "50%          1.000000\n",
       "75%          1.000000\n",
       "max          1.000000\n",
       "Name: mode, dtype: float64"
      ]
     },
     "execution_count": 47,
     "metadata": {},
     "output_type": "execute_result"
    }
   ],
   "source": [
    "result = spotify_df['mode'].describe()\n",
    "result"
   ]
  },
  {
   "cell_type": "markdown",
   "metadata": {},
   "source": [
    "It's unclear what these values mean- we'll label this as \"to remove\" for now and, once our csv file is imported into our table, drop the column"
   ]
  },
  {
   "cell_type": "code",
   "execution_count": 48,
   "metadata": {},
   "outputs": [
    {
     "data": {
      "text/plain": [
       "count     42305.000000\n",
       "mean     250865.846685\n",
       "std      102957.713571\n",
       "min       25600.000000\n",
       "25%      179840.000000\n",
       "50%      224760.000000\n",
       "75%      301133.000000\n",
       "max      913052.000000\n",
       "Name: duration_ms, dtype: float64"
      ]
     },
     "execution_count": 48,
     "metadata": {},
     "output_type": "execute_result"
    }
   ],
   "source": [
    "result = spotify_df['duration_ms'].describe()\n",
    "result\n"
   ]
  },
  {
   "cell_type": "markdown",
   "metadata": {},
   "source": [
    "This one is also not very interesting- we'll drop it once the data is imported in MySQL"
   ]
  },
  {
   "cell_type": "code",
   "execution_count": 49,
   "metadata": {},
   "outputs": [
    {
     "data": {
      "text/plain": [
       "['Unnamed: 0',\n",
       " 'danceability',\n",
       " 'energy',\n",
       " 'key',\n",
       " 'loudness',\n",
       " 'mode',\n",
       " 'speechiness',\n",
       " 'acousticness',\n",
       " 'instrumentalness',\n",
       " 'liveness',\n",
       " 'valence',\n",
       " 'tempo',\n",
       " 'type',\n",
       " 'id',\n",
       " 'duration_ms',\n",
       " 'time_signature',\n",
       " 'genre',\n",
       " 'song_name',\n",
       " 'Unnamed: 0.1',\n",
       " 'title']"
      ]
     },
     "execution_count": 49,
     "metadata": {},
     "output_type": "execute_result"
    }
   ],
   "source": [
    "for i in range(len(final_keys)):\n",
    "  \n",
    "    # replace key with key_to_remove\n",
    "    if final_keys[i] == 'key_to-delete':\n",
    "        final_keys[i] = 'key_to_delete'\n",
    "  \n",
    "    # replace pant with ishan\n",
    "    if final_keys[i] == 'mode_to-delete':\n",
    "        final_keys[i] = 'mode_to_delete'\n",
    "\n",
    "\n",
    "        # replace pant with ishan\n",
    "    if final_keys[i] == 'type_to-delete':\n",
    "        final_keys[i] = 'type_to_delete' \n",
    "        \n",
    "    \n",
    "final_keys"
   ]
  },
  {
   "cell_type": "markdown",
   "metadata": {},
   "source": [
    "### Create new content for create statement"
   ]
  },
  {
   "cell_type": "code",
   "execution_count": 50,
   "metadata": {},
   "outputs": [
    {
     "name": "stdout",
     "output_type": "stream",
     "text": [
      "['Unnamed: 0', 'danceability', 'energy', 'key', 'loudness', 'mode', 'speechiness', 'acousticness', 'instrumentalness', 'liveness', 'valence', 'tempo', 'type', 'id', 'duration_ms', 'time_signature', 'genre', 'song_name', 'Unnamed: 0.1', 'title']\n",
      "CREATE TABLE genres(\n",
      "Unnamed: 0 float,\n",
      "danceability float,\n",
      "energy float,\n",
      "key float,\n",
      "loudness float,\n",
      "mode float,\n",
      "speechiness float,\n",
      "acousticness float,\n",
      "instrumentalness float,\n",
      "liveness float,\n",
      "valence float,\n",
      "tempo float,\n",
      "type char,\n",
      "id char,\n",
      "duration_ms float,\n",
      "time_signature float,\n",
      "genre char,\n",
      "song_name char,\n",
      "Unnamed: 0.1 float,\n",
      "title char,\n",
      ");\n"
     ]
    }
   ],
   "source": [
    "final_dict= dict(zip(final_keys, final_values))\n",
    "\n",
    "print (final_keys)\n",
    "print (\"CREATE TABLE genres(\")\n",
    "for item in final_dict:\n",
    "    print (item, final_dict[item]+\",\")\n",
    "print (\");\")\n",
    "\n"
   ]
  },
  {
   "cell_type": "code",
   "execution_count": 51,
   "metadata": {},
   "outputs": [],
   "source": [
    "spotify_df_clean = spotify_df.replace(',','', regex=True)\n"
   ]
  },
  {
   "cell_type": "code",
   "execution_count": 52,
   "metadata": {},
   "outputs": [],
   "source": [
    "spotify_df_new = pd.read_csv('spotify-data/genres-final.csv', low_memory=False)\n",
    "spotify_df_new = spotify_df_new.replace(',','', regex=True)\n",
    "spotify_df_new.to_csv('/Users/rebeccahayes/Projects/github/prog-notes/sql/spotify/spotify-data/genres-final.csv')\n",
    "\n",
    "\n",
    "\n",
    "\n"
   ]
  },
  {
   "cell_type": "code",
   "execution_count": 53,
   "metadata": {},
   "outputs": [
    {
     "data": {
      "text/plain": [
       "count              42305\n",
       "unique                 1\n",
       "top       audio_features\n",
       "freq               42305\n",
       "Name: type, dtype: object"
      ]
     },
     "execution_count": 53,
     "metadata": {},
     "output_type": "execute_result"
    }
   ],
   "source": [
    "spotify_df_new = spotify_df_new.replace(np.nan, '', regex=True) # All data frame\n",
    "\n",
    "spotify_df_new.to_csv('/Users/rebeccahayes/Projects/github/prog-notes/sql/spotify/spotify-data/genres-final.csv')\n",
    "\n",
    "spotify_df_new['type'].describe()\n",
    "\n",
    "\n",
    "\n"
   ]
  },
  {
   "cell_type": "code",
   "execution_count": 55,
   "metadata": {},
   "outputs": [
    {
     "data": {
      "text/plain": [
       "Unnamed: 0                            4560\n",
       "danceability                         0.487\n",
       "energy                               0.373\n",
       "key                                      5\n",
       "loudness                           -10.327\n",
       "mode                                     0\n",
       "speechiness                          0.046\n",
       "acousticness                         0.205\n",
       "instrumentalness                   0.00232\n",
       "liveness                            0.0772\n",
       "valence                              0.313\n",
       "tempo                              193.544\n",
       "type                        audio_features\n",
       "id                  5qAWdile6xrEs9R06YQL6l\n",
       "duration_ms                         146667\n",
       "time_signature                           5\n",
       "genre                            Dark Trap\n",
       "song_name               Theonlytimeiseeyou\n",
       "Unnamed: 0.1                           NaN\n",
       "title                                  NaN\n",
       "Name: 4560, dtype: object"
      ]
     },
     "execution_count": 55,
     "metadata": {},
     "output_type": "execute_result"
    }
   ],
   "source": [
    "spotify_df.loc[4560]\n"
   ]
  }
 ],
 "metadata": {
  "interpreter": {
   "hash": "aee8b7b246df8f9039afb4144a1f6fd8d2ca17a180786b69acc140d282b71a49"
  },
  "kernelspec": {
   "display_name": "Python 3.10.1 64-bit",
   "language": "python",
   "name": "python3"
  },
  "language_info": {
   "codemirror_mode": {
    "name": "ipython",
    "version": 3
   },
   "file_extension": ".py",
   "mimetype": "text/x-python",
   "name": "python",
   "nbconvert_exporter": "python",
   "pygments_lexer": "ipython3",
   "version": "3.10.1"
  },
  "orig_nbformat": 4
 },
 "nbformat": 4,
 "nbformat_minor": 2
}
