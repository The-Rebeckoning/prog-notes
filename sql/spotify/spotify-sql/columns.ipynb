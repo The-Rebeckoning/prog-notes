{
 "cells": [
  {
   "cell_type": "code",
   "execution_count": null,
   "id": "6782dac2",
   "metadata": {},
   "outputs": [],
   "source": [
    "danceability        float64\n",
    "energy              float64\n",
    "key                   int64\n",
    "loudness            float64\n",
    "mode                  int64\n",
    "speechiness         float64\n",
    "acousticness        float64\n",
    "instrumentalness    float64\n",
    "liveness            float64\n",
    "valence             float64\n",
    "tempo               float64\n",
    "type                 object\n",
    "id                   object\n",
    "uri                  object\n",
    "track_href           object\n",
    "analysis_url         object\n",
    "duration_ms           int64\n",
    "time_signature        int64\n",
    "genre                object\n",
    "song_name            object\n",
    "Unnamed: 0          float64\n",
    "title                object\n",
    "\n",
    "\n",
    "CREATE TABLE genres (\"danceability )"
   ]
  }
 ],
 "metadata": {
  "kernelspec": {
   "display_name": "Python 3.9.9 64-bit",
   "language": "python",
   "name": "python399jvsc74a57bd0b0fa6594d8f4cbf19f97940f81e996739fb7646882a419484c72d19e05852a7e"
  },
  "language_info": {
   "codemirror_mode": {
    "name": "ipython",
    "version": 3
   },
   "file_extension": ".py",
   "mimetype": "text/x-python",
   "name": "python",
   "nbconvert_exporter": "python",
   "pygments_lexer": "ipython3",
   "version": "3.9.9"
  }
 },
 "nbformat": 4,
 "nbformat_minor": 5
}
