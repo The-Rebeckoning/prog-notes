{
 "cells": [
  {
   "cell_type": "markdown",
   "id": "3af15035",
   "metadata": {},
   "source": [
    "# January 4, 2021"
   ]
  },
  {
   "cell_type": "code",
   "execution_count": 42,
   "id": "67a10ed8",
   "metadata": {},
   "outputs": [
    {
     "name": "stdout",
     "output_type": "stream",
     "text": [
      "Not an odd minute.\n",
      "Not an odd minute.\n",
      "Not an odd minute.\n",
      "Not an odd minute.\n",
      "Not an odd minute.\n"
     ]
    }
   ],
   "source": [
    "from datetime import datetime\n",
    "import random\n",
    "import time\n",
    "\n",
    "\n",
    "odds = []\n",
    "\n",
    "for num in range (0,60):\n",
    "    if num%2 != 0:\n",
    "        odds.append(num)\n",
    "\n",
    "right_this_minute = datetime.today().minute\n",
    "\n",
    "num_of_loops = range(5)\n",
    "\n",
    "random_int = (random.randint(1,4))\n",
    "\n",
    "time_interval= (time.sleep(random_int))\n",
    "\n",
    "for x in num_of_loops:\n",
    "    \n",
    "    time_interval\n",
    "    \n",
    "    if right_this_minute in odds:\n",
    "\n",
    "        print (\"This minute seems a little odd.\")\n",
    "        \n",
    "        \n",
    "        \n",
    "    else:\n",
    "\n",
    "        print (\"Not an odd minute.\")\n",
    "        \n",
    "        \n",
    "\n",
    "\n"
   ]
  },
  {
   "cell_type": "code",
   "execution_count": null,
   "id": "b16e6e08",
   "metadata": {},
   "outputs": [],
   "source": [
    "\n",
    "\n",
    "\n"
   ]
  },
  {
   "cell_type": "markdown",
   "id": "f8a8865b",
   "metadata": {},
   "source": [
    "# January 7 "
   ]
  },
  {
   "cell_type": "code",
   "execution_count": 3,
   "id": "343c0f58",
   "metadata": {},
   "outputs": [
    {
     "name": "stdout",
     "output_type": "stream",
     "text": [
      "['i', 'i', 'a']\n"
     ]
    }
   ],
   "source": [
    "vowels = [\"a\",\"e\",\"i\",\"o\",\"u\"]\n",
    "word = \"Milliways\"\n",
    "found = []\n",
    "\n",
    "for letter in word:\n",
    "    if letter in vowels:\n",
    "        found.append(letter)\n",
    "\n",
    "\n",
    "print (found)"
   ]
  },
  {
   "cell_type": "code",
   "execution_count": 87,
   "id": "27a9554e",
   "metadata": {},
   "outputs": [
    {
     "name": "stdout",
     "output_type": "stream",
     "text": [
      "Don't panic!\n",
      "['o', 'n', ' ', 't', 'a', 'p']\n",
      "on tap\n"
     ]
    }
   ],
   "source": [
    "phrase = \"Don't panic!\"\n",
    "\n",
    "plist = list(phrase)\n",
    "\n",
    "print(phrase)\n",
    "\n",
    "\n",
    "plist.remove(\"D\")\n",
    "plist.remove(\"'\")\n",
    "plist.insert(2, plist[3])\n",
    "plist.insert(4, plist[6])\n",
    "plist.insert(5, plist[6])\n",
    "plist.insert(0, plist[5])\n",
    "plist.remove(\"p\")\n",
    "plist = plist[0:6]\n",
    "print (plist)\n",
    "new_phrase= ''.join(plist)\n",
    "print (new_phrase) #\"on tap \""
   ]
  },
  {
   "cell_type": "code",
   "execution_count": 21,
   "id": "39e121ad",
   "metadata": {},
   "outputs": [
    {
     "name": "stdout",
     "output_type": "stream",
     "text": [
      "['D', 'o', 'n', \"'\", 't', ' ', 'p', 'a', 'n', 'i', 'c', '!']\n",
      "on tap\n"
     ]
    }
   ],
   "source": [
    "phrase = \"Don't panic!\"\n",
    "\n",
    "plist = list(phrase)\n",
    "new_phrase = (phrase[1]+phrase[2]+phrase[5]+phrase[4]+phrase[7]+phrase[6])\n",
    "\n",
    "\n",
    "print (plist)\n",
    "print (new_phrase)\n",
    "\n"
   ]
  },
  {
   "cell_type": "code",
   "execution_count": null,
   "id": "62d983ce",
   "metadata": {},
   "outputs": [],
   "source": []
  }
 ],
 "metadata": {
  "interpreter": {
   "hash": "f80b1109db2892da7a8fc1d15c2fa8cce44b876243a2f1c303bfb8d4332f7efc"
  },
  "kernelspec": {
   "display_name": "Python 3.8.9 64-bit ('testenv': venv)",
   "language": "python",
   "name": "python3"
  },
  "language_info": {
   "codemirror_mode": {
    "name": "ipython",
    "version": 3
   },
   "file_extension": ".py",
   "mimetype": "text/x-python",
   "name": "python",
   "nbconvert_exporter": "python",
   "pygments_lexer": "ipython3",
   "version": "3.8.9"
  }
 },
 "nbformat": 4,
 "nbformat_minor": 5
}
