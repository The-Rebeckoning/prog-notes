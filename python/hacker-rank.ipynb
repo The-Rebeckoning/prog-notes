{
 "cells": [
  {
   "cell_type": "markdown",
   "metadata": {},
   "source": [
    "ABCDEFGHIJKLIMNOQRSTUVWXYZ\n",
    "4\n",
    "Sample Output 0\n",
    "\n",
    "ABCD\n",
    "EFGH\n",
    "IJKL\n",
    "IMNO\n",
    "QRST\n",
    "UVWX\n",
    "YZ"
   ]
  },
  {
   "cell_type": "code",
   "execution_count": 11,
   "metadata": {},
   "outputs": [
    {
     "name": "stdout",
     "output_type": "stream",
     "text": [
      "ABCD\n",
      "EFGH\n",
      "IJKL\n",
      "IMNO\n",
      "QRST\n",
      "UVWX\n",
      "YZ\n"
     ]
    }
   ],
   "source": [
    "string = \"ABCDEFGHIJKLIMNOQRSTUVWXYZ\"\n",
    "max_width = 4\n",
    "\n",
    "def wrap(string, max_width):\n",
    "    counter = 0 \n",
    "    new_string = \"\"\n",
    "    for letter in string:\n",
    "        new_string= new_string+letter\n",
    "        counter =counter+1\n",
    "        if counter == max_width:\n",
    "            new_string = new_string+'\\n'\n",
    "            counter = 0\n",
    "    return new_string\n",
    "  \n",
    "print (wrap(string, max_width))"
   ]
  }
 ],
 "metadata": {
  "interpreter": {
   "hash": "aee8b7b246df8f9039afb4144a1f6fd8d2ca17a180786b69acc140d282b71a49"
  },
  "kernelspec": {
   "display_name": "Python 3.10.1 64-bit",
   "language": "python",
   "name": "python3"
  },
  "language_info": {
   "codemirror_mode": {
    "name": "ipython",
    "version": 3
   },
   "file_extension": ".py",
   "mimetype": "text/x-python",
   "name": "python",
   "nbconvert_exporter": "python",
   "pygments_lexer": "ipython3",
   "version": "3.10.1"
  },
  "orig_nbformat": 4
 },
 "nbformat": 4,
 "nbformat_minor": 2
}
