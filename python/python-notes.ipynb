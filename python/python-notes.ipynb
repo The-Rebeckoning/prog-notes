{
 "cells": [
  {
   "cell_type": "raw",
   "id": "09109b58",
   "metadata": {},
   "source": [
    "# About Python"
   ]
  },
  {
   "cell_type": "markdown",
   "id": "068bfdf7",
   "metadata": {},
   "source": [
    "## Why Python is a popular language\n",
    "\n",
    "Python offers flexibility- you don't have to specificy the variable type like you do in other languages.\n"
   ]
  },
  {
   "cell_type": "markdown",
   "id": "656b4b5a",
   "metadata": {},
   "source": [
    "# Object oriented programming\n",
    "\n"
   ]
  },
  {
   "cell_type": "markdown",
   "id": "ca3cfa12",
   "metadata": {},
   "source": [
    "# Scope\n",
    "\n",
    "\n",
    "## Local versus global scope\n",
    "\n",
    "If a variable is defined within a function, it can only be accessed within that function (is local). However, if a variable is defined outside of the function, it is global. \n",
    "\n",
    "## Python and objects\n",
    "\n",
    "Objects can have state (attributes or values) and behavior (methods).\n",
    "\n",
    "## Methods\n",
    "\n",
    "Functions that belong to objects. For example, a string object has specific methods related specifically to manipulating strings. \n",
    "\n",
    "Objects have methods associated depending on that type\n",
    "\n",
    "## Packages\n",
    "\n",
    "Directory of python scripts\n",
    "\n",
    "Specify functions, methods, types\n",
    "\n"
   ]
  },
  {
   "cell_type": "markdown",
   "id": "fdc7c695",
   "metadata": {},
   "source": [
    "## All elements in python\n",
    "\n",
    "\n",
    "### Objects: an object in a python is something that points to a value. \n",
    "\n",
    "For example, in the following code:\n",
    "\n",
    "    x = 2\n",
    "\n",
    "Two is the object. They occupy temporary memory. Functions are also objects. However, x is not an object, it's a variable. \n",
    "\n",
    "### Variables \n",
    "\n",
    "An identifier is a label associated with an object. It's also known as a \"Variable\" which is a container for storing data values. In the code above, x is the identifier. \n",
    "\n",
    "It does not need to be declared with any type. \n",
    "\n",
    "An object can exist without an identifier. . For example:\n",
    "\n",
    "    \"Hello\"\n",
    "\n",
    "### Operators\n",
    "\n",
    "An operator is something done to an object that modifies its value. In the example above,  Plus, minus, etc\n",
    "\n",
    "### Delimiters\n",
    "\n",
    "Delimiters are used to separate parts of the code. Examples of this in code are commas,parenthesis and colons.\n",
    "\n",
    "### Keywords\n",
    "\n",
    "Keywords are reserved words that have special meanings in Python. List is an example of this. So are \"def\" and \"return.\"\n",
    "\n",
    "### Comments\n",
    "\n",
    "Comments are used to document code\n",
    "\n",
    "    # This is a comment\n",
    "\n",
    "### Blank Lines\n",
    "\n",
    "Blank lines are blank lines\n",
    "\n",
    "### White Space\n",
    "\n",
    "White space is used to separate values on the same line. Although these are optional, they can make your code look better\n",
    "\n",
    "### Indentation\n",
    "\n",
    "Indentation is used to create loops, etc. They can be used to denote the dependence of code. "
   ]
  },
  {
   "cell_type": "markdown",
   "id": "4d99ee1b",
   "metadata": {},
   "source": [
    "## Built-in functions\n",
    "\n",
    "The Python interpreter has a number of functions and types built into it that are always available. Full list available [here](https://docs.python.org/3/library/functions.html) \n",
    "\n",
    "To learn about a function, type the name wrapped in help\n",
    "\n",
    "    help(max)\n",
    "### max\n",
    "\n",
    "The max() function returns the largest item in an iterable. It can also be used to find the largest item between two or more parameters.\n"
   ]
  },
  {
   "cell_type": "code",
   "execution_count": 23,
   "id": "c32c7bbd",
   "metadata": {},
   "outputs": [
    {
     "name": "stdout",
     "output_type": "stream",
     "text": [
      "34\n"
     ]
    }
   ],
   "source": [
    "numbers = [9, 34, 11, -4, 27]\n",
    "\n",
    "# find the maximum number\n",
    "max_number = max(numbers)\n",
    "print(max_number)"
   ]
  },
  {
   "cell_type": "markdown",
   "id": "e254d858",
   "metadata": {},
   "source": [
    "### round \n",
    "\n",
    "The round() function returns a floating-point number rounded to the specified number of decimals. Deafult is rounded to the closest integer"
   ]
  },
  {
   "cell_type": "code",
   "execution_count": 25,
   "id": "76a9a2a5",
   "metadata": {},
   "outputs": [
    {
     "name": "stdout",
     "output_type": "stream",
     "text": [
      "13\n",
      "13.5\n"
     ]
    }
   ],
   "source": [
    "number = 13.46\n",
    "\n",
    "# round the number\n",
    "rounded_number = round(number)\n",
    "print(rounded_number)\n",
    "rounded_number = round(number,1)\n",
    "print(rounded_number)"
   ]
  },
  {
   "cell_type": "markdown",
   "id": "0408229a",
   "metadata": {},
   "source": [
    "### map() function\n",
    "\n",
    "map() function returns a map object(which is an iterator) of the results after applying the given function to each item of a given iterable (list, tuple etc.)\n",
    "\n",
    "#### Syntax\n",
    "\n",
    "    map(fun, iter)\n",
    "\n",
    "#### Parameters \n",
    "\n",
    "fun : It is a function to which map passes each element of given iterable.\n",
    "iter : It is a iterable which is to be mapped.\n",
    "\n",
    "\n",
    "\n",
    "Python program to demonstrate working of map.\n",
    "  \n",
    "##### Return double of n\n",
    "def addition(n):\n",
    "    return n + n\n",
    "  \n",
    "##### We double all numbers using map()\n",
    "    numbers = (1, 2, 3, 4)\n",
    "    result = map(addition, numbers)\n",
    "    print(list(result))\n",
    "\n",
    "    [2, 4, 6, 8]\n",
    "\n",
    "\n",
    "##### Hacker Rank example\n",
    "\n",
    "    n = \"-7 -7 -7 -7 -6\"\n",
    "\n",
    "    def second_highest (n):\n",
    "        def test_func(n):\n",
    "            return n\n",
    "        arr = set(map(test_func, n.split()))\n",
    "        arr = list(arr)\n",
    "        str_list = []\n",
    "        for i in arr:\n",
    "            str_list.append(int(i))\n",
    "        print (str_list)\n",
    "        str_list.sort()\n",
    "        print (str_list)\n",
    "        return str_list[-2]\n",
    "\n",
    "        [-6, -7]"
   ]
  },
  {
   "cell_type": "markdown",
   "id": "4dd618a9",
   "metadata": {},
   "source": [
    "## Methods for numeric data types\n"
   ]
  },
  {
   "cell_type": "markdown",
   "id": "89556c9f",
   "metadata": {},
   "source": [
    "### abs()\n",
    "The Python abs() method returns the absolute value of a number. The absolute value of a number is the number's distance from 0. This makes any negative number positive, while positive numbers are unaffected. For example, abs(-9) would return 9, while abs(2) would return 2."
   ]
  },
  {
   "cell_type": "code",
   "execution_count": 3,
   "id": "a667dae6",
   "metadata": {},
   "outputs": [
    {
     "data": {
      "text/plain": [
       "4444"
      ]
     },
     "execution_count": 3,
     "metadata": {},
     "output_type": "execute_result"
    }
   ],
   "source": [
    "abs(-4444)\n"
   ]
  },
  {
   "cell_type": "markdown",
   "id": "93f68830",
   "metadata": {},
   "source": [
    "## Strings \n",
    "Strings processing works very well in python. \n",
    "\n",
    "They can be delimited by a single (' '), double (\" \"), triple single (''' ''') or triple double (\"\"\" \"\"\").\n",
    "\n",
    "They can also contain a tab (\\t) or newline (\\n) character.\n"
   ]
  },
  {
   "cell_type": "code",
   "execution_count": 4,
   "id": "ee69da23",
   "metadata": {},
   "outputs": [
    {
     "data": {
      "text/plain": [
       "'Rebecca'"
      ]
     },
     "execution_count": 4,
     "metadata": {},
     "output_type": "execute_result"
    }
   ],
   "source": [
    "test_string = \"Rebecca\"\n",
    "test_string"
   ]
  },
  {
   "cell_type": "markdown",
   "id": "deadb7e7",
   "metadata": {},
   "source": [
    "### Indexing\n",
    "\n",
    "By referencing index numbers, we can isolate one of the characters in a string. We do this by putting the index numbers in square brackets. "
   ]
  },
  {
   "cell_type": "markdown",
   "id": "fad416d2",
   "metadata": {},
   "source": [
    "### index()\n",
    "\n",
    "The index() method returns the index of a substring inside the string (if found). "
   ]
  },
  {
   "cell_type": "code",
   "execution_count": 5,
   "id": "bbab78bc",
   "metadata": {},
   "outputs": [
    {
     "name": "stdout",
     "output_type": "stream",
     "text": [
      "7\n"
     ]
    }
   ],
   "source": [
    "text = 'Python is fun'\n",
    "\n",
    "# find the index of is\n",
    "result = text.index('is')\n",
    "print(result)"
   ]
  },
  {
   "cell_type": "markdown",
   "id": "4b017e42",
   "metadata": {},
   "source": [
    "### Print Without Newline "
   ]
  },
  {
   "cell_type": "code",
   "execution_count": 6,
   "id": "ad44e019",
   "metadata": {},
   "outputs": [
    {
     "name": "stdout",
     "output_type": "stream",
     "text": [
      "Hello there!It is a great day.\n"
     ]
    }
   ],
   "source": [
    "print(\"Hello there!\", end = '')\n",
    "print(\"It is a great day.\")\n"
   ]
  },
  {
   "cell_type": "markdown",
   "id": "44958d7b",
   "metadata": {},
   "source": [
    "### split() Method\n",
    "\n",
    "The split() method splits a string into a list.\n",
    "\n",
    "You can specify the separator, default separator is any whitespace.\n",
    "\n",
    "    string.split(separator, maxsplit)\n",
    "\n",
    "#### example"
   ]
  },
  {
   "cell_type": "code",
   "execution_count": 7,
   "id": "8bab4613",
   "metadata": {},
   "outputs": [
    {
     "name": "stdout",
     "output_type": "stream",
     "text": [
      "['welcome', 'to', 'the', 'jungle']\n"
     ]
    }
   ],
   "source": [
    "txt = \"welcome to the jungle\"\n",
    "\n",
    "x = txt.split()\n",
    "\n",
    "print(x)"
   ]
  },
  {
   "cell_type": "markdown",
   "id": "f21fc599",
   "metadata": {},
   "source": [
    "# Built-in Data Structures\n",
    "\n",
    "Python has four built-in data structures. Data structures are the fundamental constructs around which you build your programs. Each data structure provides a particular way of organizing data so it can be accessed efficiently, depending on your use case\n",
    "\n",
    "1. Lists: ordered mutable collection of objects\n",
    "2. Dictionary: ordered set of key/value pairs\n",
    "3. Tuples: ordered, immutable lists\n",
    "4. Set: an unordered set of unique objects\n",
    "\n",
    "\n",
    "![Data structures](https://miro.medium.com/max/746/1*VdLFpmSutr5BSbEeAtpmrQ.jpeg \"Data structures\")"
   ]
  },
  {
   "cell_type": "markdown",
   "id": "201b9692",
   "metadata": {},
   "source": [
    "## Lists: an ordered, mutable collection of objects\n",
    "\n",
    "Lists are the Python equivalent of arrays in other languages. They are created by using brackets.\n",
    "\n",
    "- Dynamic: can grow and shrink\n",
    "- heterogeneous: mix and match objects of different types\n",
    "- mutable: can change a list at any time\n",
    "\n",
    "Other info about lists\n",
    "\n",
    "- Index: the index at which the element has to be inserted.\n",
    "- Element: the element to be inserted in the list."
   ]
  },
  {
   "cell_type": "code",
   "execution_count": 8,
   "id": "745992f3",
   "metadata": {},
   "outputs": [],
   "source": [
    "grocery_list = []"
   ]
  },
  {
   "cell_type": "markdown",
   "id": "0ad7dec3",
   "metadata": {},
   "source": [
    "### index() method\n",
    "\n",
    "The index() method returns the index of a particular element in the list.\n"
   ]
  },
  {
   "cell_type": "code",
   "execution_count": 9,
   "id": "3892ee76",
   "metadata": {},
   "outputs": [
    {
     "name": "stdout",
     "output_type": "stream",
     "text": [
      "1\n"
     ]
    }
   ],
   "source": [
    "animals = ['cat', 'dog', 'rabbit', 'horse']\n",
    "# get the index of 'dog'\n",
    "index_of_dog = animals.index('dog')\n",
    "print(index_of_dog)\n"
   ]
  },
  {
   "cell_type": "markdown",
   "id": "78a54369",
   "metadata": {},
   "source": [
    "### Methods to grow lists"
   ]
  },
  {
   "cell_type": "markdown",
   "id": "801dfd53",
   "metadata": {},
   "source": [
    "#### insert() method\n",
    "\n",
    "\n",
    "You can insert elements at a specific index in the list using the insert method"
   ]
  },
  {
   "cell_type": "code",
   "execution_count": 10,
   "id": "fea34fad",
   "metadata": {},
   "outputs": [
    {
     "name": "stdout",
     "output_type": "stream",
     "text": [
      "['z', 'a', 'b', 'c', 'd', 'e']\n"
     ]
    }
   ],
   "source": [
    "# Python3 program for use  \n",
    "# of insert() method \n",
    "  \n",
    "list2 = ['a', 'b', 'c', 'd', 'e'] \n",
    "  \n",
    "# insert z at the front of the list\n",
    "list2.insert(0, 'z')\n",
    "print(list2)\n",
    "\n"
   ]
  },
  {
   "cell_type": "markdown",
   "id": "5a84e1cb",
   "metadata": {},
   "source": [
    "#### append() method\n",
    "\n",
    "\n",
    "The append() method appends an element to the end of the list. If you want to add only one element to the list, you can use this method.\n",
    "\n",
    "    list.append(elmnt)"
   ]
  },
  {
   "cell_type": "code",
   "execution_count": 11,
   "id": "d64cffe8",
   "metadata": {},
   "outputs": [
    {
     "name": "stdout",
     "output_type": "stream",
     "text": [
      "['Empress', 'Hierophant', 'The Fool']\n"
     ]
    }
   ],
   "source": [
    "cards=[\"Empress\", \"Hierophant\"]\n",
    "cards.append(\"The Fool\")\n",
    "print (cards)"
   ]
  },
  {
   "cell_type": "markdown",
   "id": "783ff15e",
   "metadata": {},
   "source": [
    "#### extend() method\n",
    "\n",
    "The .extend() method increases the length of the list by the number of elements that are provided to the method, so if you want to add multiple elements to the list, you can use this method.\n",
    "\n",
    "    list.extend(iterable)\n",
    "\n",
    "iterable: Required. Any iterable (list, set, tuple, etc.)\n"
   ]
  },
  {
   "cell_type": "code",
   "execution_count": 12,
   "id": "5a2adc3f",
   "metadata": {},
   "outputs": [
    {
     "name": "stdout",
     "output_type": "stream",
     "text": [
      "['Apple Inc', 'Coca-Cola', 'Walmart', 'Amazon.com', 'DowDuPont', 'Alphabet Inc']\n"
     ]
    }
   ],
   "source": [
    "names =  ['Apple Inc', 'Coca-Cola', 'Walmart', 'Amazon.com']\n",
    "\n",
    "more_elements = ['DowDuPont', 'Alphabet Inc']\n",
    "\n",
    "names.extend(more_elements)\n",
    "\n",
    "print(names)"
   ]
  },
  {
   "cell_type": "markdown",
   "id": "3994405b",
   "metadata": {},
   "source": [
    "#### List Concatenation: \n",
    "\n",
    "We can use + operator to concatenate multiple lists and create a new list.\n",
    "\n"
   ]
  },
  {
   "cell_type": "code",
   "execution_count": 19,
   "id": "9010201f",
   "metadata": {},
   "outputs": [
    {
     "name": "stdout",
     "output_type": "stream",
     "text": [
      "[1, 3, 5, 2, 4, 6]\n"
     ]
    }
   ],
   "source": [
    "evens = [2, 4, 6]\n",
    "odds = [1, 3, 5]\n",
    "\n",
    "nums = odds + evens\n",
    "print(nums)  # [1, 3, 5, 2, 4, 6]"
   ]
  },
  {
   "cell_type": "markdown",
   "id": "e9f8f43a",
   "metadata": {},
   "source": [
    "## Methods to shrink lists"
   ]
  },
  {
   "cell_type": "code",
   "execution_count": 13,
   "id": "070b871d",
   "metadata": {},
   "outputs": [
    {
     "name": "stdout",
     "output_type": "stream",
     "text": [
      "Updated List:  [2, 3, 5, 7, 11]\n"
     ]
    }
   ],
   "source": [
    "# create a list\n",
    "prime_numbers = [2, 3, 5, 7, 9, 11]\n",
    "\n",
    "# remove 9 from the list\n",
    "prime_numbers.remove(9)\n",
    "\n",
    "\n",
    "# Updated prime_numbers List\n",
    "print('Updated List: ', prime_numbers)\n",
    "\n",
    "# Output: Updated List:  [2, 3, 5, 7, 11]"
   ]
  },
  {
   "cell_type": "markdown",
   "id": "f42c6960",
   "metadata": {},
   "source": [
    "### pop() method\n",
    "\n",
    "The pop() method removes the element at the specified position."
   ]
  },
  {
   "cell_type": "code",
   "execution_count": 14,
   "id": "9ef2b22f",
   "metadata": {},
   "outputs": [
    {
     "name": "stdout",
     "output_type": "stream",
     "text": [
      "cherry\n",
      "banana\n"
     ]
    }
   ],
   "source": [
    "fruits = ['apple', 'banana', 'cherry']\n",
    "\n",
    "x = fruits.pop() #defeault is last value \n",
    "\n",
    "print (x) \n",
    "\n",
    "x = fruits.pop(1)\n",
    "\n",
    "print (x)"
   ]
  },
  {
   "cell_type": "markdown",
   "id": "27068fa5",
   "metadata": {},
   "source": [
    "### del\n",
    "\n",
    "You can also remove elements from a list with del statements.\n",
    "\n",
    "Specify the item to be deleted by index. "
   ]
  },
  {
   "cell_type": "code",
   "execution_count": 20,
   "id": "d3d74059",
   "metadata": {},
   "outputs": [
    {
     "name": "stdout",
     "output_type": "stream",
     "text": [
      "[0, 1, 2, 3, 4, 5, 6, 7, 8, 9]\n",
      "[1, 2, 3, 4, 5, 6, 7, 8, 9]\n"
     ]
    }
   ],
   "source": [
    "l = list(range(10))\n",
    "print(l)\n",
    "# [0, 1, 2, 3, 4, 5, 6, 7, 8, 9]\n",
    "\n",
    "del l[0]\n",
    "print(l)\n",
    "# [1, 2, 3, 4, 5, 6, 7, 8, 9]"
   ]
  },
  {
   "cell_type": "markdown",
   "id": "8117ee68",
   "metadata": {},
   "source": [
    "## indexing\n",
    "\n",
    "Python uses 0-based indexing. This means that the first element in an object is located at position 0. \n",
    "\n"
   ]
  },
  {
   "cell_type": "markdown",
   "id": "b65f83fa",
   "metadata": {},
   "source": [
    "## Other list methods\n",
    "\n",
    "### sort()\n",
    "\n",
    "The sort() method sorts the list ascending by default.\n",
    "\n",
    "You can also make a function to decide the sorting criteria(s).\n",
    "\n",
    "*Syntax*\n",
    "    list.sort(reverse=True|False, key=myFunc)\n"
   ]
  },
  {
   "cell_type": "code",
   "execution_count": 4,
   "id": "01aba197",
   "metadata": {},
   "outputs": [
    {
     "name": "stdout",
     "output_type": "stream",
     "text": [
      "['BMW', 'Ford', 'Volvo']\n",
      "['Volvo', 'Ford', 'BMW']\n"
     ]
    }
   ],
   "source": [
    "cars = ['Ford', 'BMW', 'Volvo']\n",
    "\n",
    "cars.sort()\n",
    "\n",
    "print (cars)\n",
    "\n",
    "cars.sort(reverse=True)\n",
    "\n",
    "print (cars)"
   ]
  },
  {
   "cell_type": "markdown",
   "id": "c723d699",
   "metadata": {},
   "source": [
    "## slicing\n",
    "\n",
    "Slices are good for getting a subset of values in your list. The example below is 0 indexing"
   ]
  },
  {
   "cell_type": "markdown",
   "id": "1887e8ed",
   "metadata": {},
   "source": [
    "![Slicing](https://i.ytimg.com/vi/KAXvMbD1Zac/maxresdefault.jpg \"Slicing\")\n"
   ]
  },
  {
   "cell_type": "markdown",
   "id": "21441ae7",
   "metadata": {},
   "source": [
    "![Negative indexing](https://media.geeksforgeeks.org/wp-content/uploads/List-Slicing.jpg \"Negative indexing\")\n",
    "\n"
   ]
  },
  {
   "cell_type": "markdown",
   "id": "b23a3cb2",
   "metadata": {},
   "source": [
    "## subsetting\n",
    "\n",
    "For the example code below, it will return a list with the items from index 0 up to and not including index 2.\n"
   ]
  },
  {
   "cell_type": "code",
   "execution_count": 18,
   "id": "7cd07b89",
   "metadata": {},
   "outputs": [
    {
     "name": "stdout",
     "output_type": "stream",
     "text": [
      "[3, 7]\n"
     ]
    }
   ],
   "source": [
    "# Define a list\n",
    "z = [3, 7, 4, 2]\n",
    "print(z[0:2])"
   ]
  },
  {
   "cell_type": "markdown",
   "id": "8a1e3282",
   "metadata": {},
   "source": [
    "### Creating copies of lists\n",
    "\n",
    "Sometimes you want to create a copy of an existing list."
   ]
  },
  {
   "cell_type": "code",
   "execution_count": 21,
   "id": "c960088b",
   "metadata": {},
   "outputs": [
    {
     "name": "stdout",
     "output_type": "stream",
     "text": [
      "Copied List: [2, 3, 5]\n"
     ]
    }
   ],
   "source": [
    "# mixed list\n",
    "prime_numbers = [2, 3, 5]\n",
    "\n",
    "# copying a list\n",
    "numbers = prime_numbers.copy()\n",
    "\n",
    "print('Copied List:', numbers)\n",
    "\n"
   ]
  },
  {
   "cell_type": "markdown",
   "id": "f2cc4f5b",
   "metadata": {},
   "source": [
    "We can also use the = operator to copy a list. \n",
    "\n",
    "Howerver, there is one problem with copying lists in this way. If you modify new_list, old_list is also modified. It is because the new list is referencing or pointing to the same old_list object.\n"
   ]
  },
  {
   "cell_type": "code",
   "execution_count": 22,
   "id": "487fe701",
   "metadata": {},
   "outputs": [
    {
     "name": "stdout",
     "output_type": "stream",
     "text": [
      "New List: [1, 2, 3, 'a']\n",
      "Old List: [1, 2, 3, 'a']\n"
     ]
    }
   ],
   "source": [
    "old_list = [1, 2, 3]\n",
    "\n",
    "# copy list using =\n",
    "new_list = old_list\n",
    "\n",
    "\n",
    "# add an element to list\n",
    "new_list.append('a')\n",
    "\n",
    "print('New List:', new_list)\n",
    "print('Old List:', old_list)"
   ]
  },
  {
   "cell_type": "markdown",
   "id": "7de2560d",
   "metadata": {},
   "source": [
    "# Dictionaries: unordered set of key/value pairs\n",
    "\n",
    "Dictionary is used to hold a collection of key/value pairs where each unique key has a value associated with it.\n",
    "\n",
    "Dictionary is often referred to as an associative array.\n"
   ]
  },
  {
   "cell_type": "code",
   "execution_count": 14,
   "id": "70e48a1c",
   "metadata": {},
   "outputs": [
    {
     "data": {
      "text/plain": [
       "{'Name': 'Douglas', 'Gender': 'Male', 'Occupation': 'Dog'}"
      ]
     },
     "execution_count": 14,
     "metadata": {},
     "output_type": "execute_result"
    }
   ],
   "source": [
    "pet = {'Name': 'Douglas', 'Gender': 'Male', 'Occupation': 'Dog'}\n",
    "\n",
    "pet"
   ]
  },
  {
   "cell_type": "markdown",
   "id": "6b16c16c",
   "metadata": {},
   "source": [
    "## Create a dictionary from two lists"
   ]
  },
  {
   "cell_type": "code",
   "execution_count": 4,
   "id": "1e7213bb",
   "metadata": {},
   "outputs": [
    {
     "name": "stdout",
     "output_type": "stream",
     "text": [
      "{'names': ['nik', 'katie', 'james'], 'ages': [32, 31, 34]}\n"
     ]
    }
   ],
   "source": [
    "names = ['nik', 'katie', 'james']\n",
    "ages = [32, 31, 34]\n",
    "dictionary = {}\n",
    "dictionary[\"names\"] = names\n",
    "dictionary[\"ages\"] = ages\n",
    "print(dictionary)"
   ]
  },
  {
   "cell_type": "markdown",
   "id": "61619c79",
   "metadata": {},
   "source": [
    "- Insertion order is NOT maintained: cannot assume that rows are in any order \n",
    "- Like lists, you can look up individual values using brackets. However, instead of using numeric data (index numbers) to access data, dictionaries use keys"
   ]
  },
  {
   "cell_type": "code",
   "execution_count": 12,
   "id": "fa813a13",
   "metadata": {},
   "outputs": [
    {
     "data": {
      "text/plain": [
       "'Douglas'"
      ]
     },
     "execution_count": 12,
     "metadata": {},
     "output_type": "execute_result"
    }
   ],
   "source": [
    "pet ['Name']"
   ]
  },
  {
   "cell_type": "markdown",
   "id": "95215739",
   "metadata": {},
   "source": [
    "### Add dictionary value \n",
    "\n",
    "To add an item to a Python dictionary, you should assign a value to a new index key in your dictionary.\n",
    "\n",
    "    dictionary_name[key] = value"
   ]
  },
  {
   "cell_type": "markdown",
   "id": "b16dad14",
   "metadata": {},
   "source": [
    "### Update dictionary value "
   ]
  },
  {
   "cell_type": "code",
   "execution_count": 16,
   "id": "fabe4c15",
   "metadata": {},
   "outputs": [
    {
     "data": {
      "text/plain": [
       "{'Name': 'Douglas', 'Gender': 'Male', 'Occupation': 'Firefighter'}"
      ]
     },
     "execution_count": 16,
     "metadata": {},
     "output_type": "execute_result"
    }
   ],
   "source": [
    "pet ['Occupation'] = 'Firefighter'\n",
    "\n",
    "pet"
   ]
  },
  {
   "cell_type": "markdown",
   "id": "47a0b496",
   "metadata": {},
   "source": [
    "### .items() method\n",
    "\n",
    "The items() method returns a view object. The view object contains the key-value pairs of the dictionary, as tuples in a list.\n",
    "\n",
    "    dictionary.items()\n"
   ]
  },
  {
   "cell_type": "code",
   "execution_count": 6,
   "id": "25b595cb",
   "metadata": {},
   "outputs": [
    {
     "name": "stdout",
     "output_type": "stream",
     "text": [
      "dict_items([('brand', 'Ford'), ('model', 'Mustang'), ('year', 1964)])\n",
      "brand Ford\n",
      "model Mustang\n",
      "year 1964\n"
     ]
    }
   ],
   "source": [
    "car = {\n",
    "  \"brand\": \"Ford\",\n",
    "  \"model\": \"Mustang\",\n",
    "  \"year\": 1964\n",
    "}\n",
    "\n",
    "x = car.items()\n",
    "print(x)\n",
    "\n",
    "for key, value in car.items():\n",
    "  print (key,value)"
   ]
  },
  {
   "cell_type": "markdown",
   "id": "410786de",
   "metadata": {},
   "source": [
    "### get() \n",
    "\n",
    "Python dictionary method get() returns a value for the given key. If key is not available then returns default value None.\n",
    "\n"
   ]
  },
  {
   "cell_type": "markdown",
   "id": "9fe96de5",
   "metadata": {},
   "source": [
    "### .setdefault() method\n",
    "\n",
    "The setdefault() method returns the value of a key (if the key is in dictionary). If not, it inserts key with a value to the dictionary.\n",
    "\n",
    "    dict.setdefault(key[, default_value])\n",
    "\n",
    "*Parameters*\n",
    "- key - the key to be searched in the dictionary \n",
    "- default_value (optional) - key with a value default_value is inserted to the dictionary if the key is not in the dictionary. If not provided, the default_value will be None."
   ]
  },
  {
   "cell_type": "code",
   "execution_count": 2,
   "id": "c7a59b15",
   "metadata": {},
   "outputs": [
    {
     "name": "stdout",
     "output_type": "stream",
     "text": [
      "person =  {'name': 'Phill', 'age': 50}\n",
      "Age =  50\n"
     ]
    }
   ],
   "source": [
    "person = {'name': 'Phill', 'age': 50}\n",
    "\n",
    "age = person.setdefault('age')\n",
    "print('person = ',person)\n",
    "print('Age = ',age)"
   ]
  },
  {
   "cell_type": "code",
   "execution_count": 1,
   "id": "4e428033",
   "metadata": {},
   "outputs": [
    {
     "name": "stdout",
     "output_type": "stream",
     "text": [
      "1\n"
     ]
    }
   ],
   "source": [
    "dic = {\"A\": 1, \"B\": 2}\n",
    "print(dic.get(\"A\"))"
   ]
  },
  {
   "cell_type": "markdown",
   "id": "787567e2",
   "metadata": {},
   "source": [
    "### iterate over a dictionary"
   ]
  },
  {
   "cell_type": "code",
   "execution_count": 5,
   "id": "52e5f836",
   "metadata": {},
   "outputs": [
    {
     "name": "stdout",
     "output_type": "stream",
     "text": [
      "name Phill\n",
      "age 50\n"
     ]
    },
    {
     "data": {
      "text/plain": [
       "dict_items([('name', 'Phill'), ('age', 50)])"
      ]
     },
     "execution_count": 5,
     "metadata": {},
     "output_type": "execute_result"
    }
   ],
   "source": [
    "for key, value in person.items():\n",
    "    print (key,value)\n",
    "\n",
    "person.items()"
   ]
  },
  {
   "cell_type": "markdown",
   "id": "8ec14b98",
   "metadata": {},
   "source": [
    "## Tuples: An ordered immutable collection of objects\n",
    "\n",
    "- Immutable: cannot be changed\n",
    "- Can be thought of as a constant list\n"
   ]
  },
  {
   "cell_type": "markdown",
   "id": "17cfdf3b",
   "metadata": {},
   "source": [
    "## Sets: an unsorted set of unique objects\n",
    "\n",
    "An unordered collection of objects used when membership and uniqueness are main things you need to know. \n",
    "\n",
    "Are immutable and hashable: ints, floats and strings can be members of a set but lists and dictionaries can't be.\n",
    "\n",
    "You can pass any sequence to the set function to create a set of elements from the objects in the sequence (minus the duplicates)\n",
    "\n",
    "- Cannot have duplicates\n",
    "\n",
    "### Find unique members of a list using sets "
   ]
  },
  {
   "cell_type": "code",
   "execution_count": 5,
   "id": "871a0517",
   "metadata": {},
   "outputs": [
    {
     "name": "stdout",
     "output_type": "stream",
     "text": [
      "[1, 2, 3, 4, 5]\n"
     ]
    }
   ],
   "source": [
    "numbers = [1, 2, 2, 3, 3, 4, 5]\n",
    "unique_numbers = list(set(numbers))\n",
    "print(unique_numbers)"
   ]
  },
  {
   "cell_type": "markdown",
   "id": "0c0e9425",
   "metadata": {},
   "source": [
    "### union method\n",
    "#### works by combining sets\n",
    "Return a set that contains all items from both sets, duplicates are excluded. Can be applied to multiple sets. "
   ]
  },
  {
   "cell_type": "code",
   "execution_count": 10,
   "id": "2ea3e33b",
   "metadata": {},
   "outputs": [
    {
     "name": "stdout",
     "output_type": "stream",
     "text": [
      "{'cherry', 'banana', 'google', 'apple', 'microsoft'}\n"
     ]
    },
    {
     "data": {
      "text/plain": [
       "{'H', 'a', 'e', 'i', 'l', 'o', 'u'}"
      ]
     },
     "execution_count": 10,
     "metadata": {},
     "output_type": "execute_result"
    }
   ],
   "source": [
    "x = {\"apple\", \"banana\", \"cherry\"}\n",
    "y = {\"google\", \"microsoft\", \"apple\"}\n",
    "\n",
    "z = x.union(y)\n",
    "\n",
    "print (z)\n",
    "\n",
    "vowels = set ('aaaeeeiouuu')\n",
    "\n",
    "word = \"Hello\"\n",
    "\n",
    "u = vowels.union(set(word))\n",
    "\n",
    "u\n"
   ]
  },
  {
   "cell_type": "markdown",
   "id": "f329822b",
   "metadata": {},
   "source": [
    "### differences method\n",
    "#### tells you what's not shared\n",
    "\n",
    "The difference method tells you what's in one set but not the other."
   ]
  },
  {
   "cell_type": "code",
   "execution_count": 12,
   "id": "3b2e59b0",
   "metadata": {},
   "outputs": [
    {
     "data": {
      "text/plain": [
       "{'a', 'i', 'u'}"
      ]
     },
     "execution_count": 12,
     "metadata": {},
     "output_type": "execute_result"
    }
   ],
   "source": [
    "vowels = set ('aaaeeeiouuu')\n",
    "\n",
    "word = \"Hello\"\n",
    "\n",
    "u = vowels.difference(set(word))\n",
    "\n",
    "u"
   ]
  },
  {
   "cell_type": "markdown",
   "id": "d0d97ca3",
   "metadata": {},
   "source": [
    "### intersection() \n",
    "#### reports on commonality\n",
    "\n",
    "Takes the objects in one set and compares them to another and then reports on any common objects found."
   ]
  },
  {
   "cell_type": "code",
   "execution_count": 14,
   "id": "58086f62",
   "metadata": {},
   "outputs": [
    {
     "data": {
      "text/plain": [
       "{'e', 'o'}"
      ]
     },
     "execution_count": 14,
     "metadata": {},
     "output_type": "execute_result"
    }
   ],
   "source": [
    "vowels = set ('aaaeeeiouuu')\n",
    "\n",
    "word = \"Hello\"\n",
    "\n",
    "i = vowels.intersection(set(word))\n",
    "i"
   ]
  },
  {
   "cell_type": "markdown",
   "id": "452ae0fe",
   "metadata": {},
   "source": [
    "## Tuples\n",
    "\n",
    "Immutable data structure- once created and populated with data, cannot be changed. Essentially immutable lists. \n",
    "\n",
    "Must contain at least one comma \n"
   ]
  },
  {
   "cell_type": "code",
   "execution_count": 4,
   "id": "3d300252",
   "metadata": {},
   "outputs": [
    {
     "data": {
      "text/plain": [
       "tuple"
      ]
     },
     "execution_count": 4,
     "metadata": {},
     "output_type": "execute_result"
    }
   ],
   "source": [
    "t = ('Python')\n",
    "type (t)\n",
    "\n",
    "t = ('Python',)\n",
    "type (t)\n",
    "\n",
    "\n"
   ]
  },
  {
   "cell_type": "markdown",
   "id": "39631a6b",
   "metadata": {},
   "source": [
    "## Combining built-in data structures\n",
    "\n",
    "Data structures themselves can be stored in built-in data structures\n",
    "\n",
    "### Example: a dictionary of dictionaries"
   ]
  },
  {
   "cell_type": "code",
   "execution_count": 5,
   "id": "7bbbd65b",
   "metadata": {},
   "outputs": [
    {
     "name": "stdout",
     "output_type": "stream",
     "text": [
      "{1: {'name': 'John', 'age': '27', 'sex': 'Male'}, 2: {'name': 'Marie', 'age': '22', 'sex': 'Female'}}\n"
     ]
    }
   ],
   "source": [
    "people = {1: {'name': 'John', 'age': '27', 'sex': 'Male'},\n",
    "          2: {'name': 'Marie', 'age': '22', 'sex': 'Female'}}\n",
    "\n",
    "print(people)"
   ]
  },
  {
   "cell_type": "markdown",
   "id": "f260e669",
   "metadata": {},
   "source": [
    "### pprint\n",
    "\n",
    "pretty-priting allows you to print complex data structures\n"
   ]
  },
  {
   "cell_type": "code",
   "execution_count": 7,
   "id": "a080500c",
   "metadata": {},
   "outputs": [
    {
     "name": "stdout",
     "output_type": "stream",
     "text": [
      "{1: {'age': '27', 'name': 'John', 'sex': 'Male'},\n",
      " 2: {'age': '22', 'name': 'Marie', 'sex': 'Female'}}\n"
     ]
    }
   ],
   "source": [
    "import pprint\n",
    "\n",
    "pprint.pprint(people)"
   ]
  },
  {
   "cell_type": "markdown",
   "id": "7619662a",
   "metadata": {},
   "source": [
    "# Control flow\n",
    "\n",
    "A program’s control flow is the order in which the program’s code executes. The control flow of a Python program is regulated by conditional statements, loops, and function calls. \n",
    "\n",
    "## Syntax\n",
    "\n",
    "    if expression:\n",
    "        statement(s)\n",
    "    elif expression:\n",
    "        statement(s)\n",
    "    elif expression:\n",
    "        statement(s)\n",
    "    ...\n",
    "    else:\n",
    "        statement(s)"
   ]
  },
  {
   "cell_type": "code",
   "execution_count": 3,
   "id": "b5da55c0",
   "metadata": {},
   "outputs": [
    {
     "name": "stdout",
     "output_type": "stream",
     "text": [
      "x is even and non-negative\n"
     ]
    }
   ],
   "source": [
    "x = 56\n",
    "\n",
    "if x < 0: \n",
    "    print (\"x is negative\")\n",
    "elif x % 2: \n",
    "    print (\"x is positive and odd\")\n",
    "else: \n",
    "    print (\"x is even and non-negative\")\n",
    "\n",
    "\n",
    "b = 1\n",
    "\n",
    "if b ==1:\n",
    "    print (\"B is 1\")"
   ]
  },
  {
   "cell_type": "markdown",
   "id": "f8322dff",
   "metadata": {},
   "source": [
    "## wile loops and for loops\n",
    "\n",
    "We often need to repeat actions.\n",
    "\n",
    "For example, outputting goods from a list one after another or just running the same code for each number from 1 to 10.\n",
    "\n",
    "Loops are a way to repeat the same code multiple times.\n"
   ]
  },
  {
   "cell_type": "markdown",
   "id": "a2ebedb6",
   "metadata": {},
   "source": [
    "### The while Loop\n",
    "\n",
    "With the while loop we can execute a set of statements as long as a condition is true.\n",
    "\n",
    "#### Example\n",
    "Print i as long as i is less than 6:"
   ]
  },
  {
   "cell_type": "code",
   "execution_count": 9,
   "id": "6b97dae5",
   "metadata": {},
   "outputs": [
    {
     "name": "stdout",
     "output_type": "stream",
     "text": [
      "1\n",
      "2\n",
      "3\n",
      "4\n",
      "5\n"
     ]
    }
   ],
   "source": [
    "i = 1\n",
    "while i < 6:\n",
    "  print(i)\n",
    "  i += 1"
   ]
  },
  {
   "cell_type": "markdown",
   "id": "c0191a3d",
   "metadata": {},
   "source": [
    "### The for loop\n",
    "A for loop is used for iterating over a sequence (that is either a list, a tuple, a dictionary, a set, or a string).\n",
    "\n",
    "With the for loop we can execute a set of statements, once for each item in a list, tuple, set etc.\n",
    "\n",
    "#### Example\n",
    "Print each fruit in a fruit list:"
   ]
  },
  {
   "cell_type": "code",
   "execution_count": 8,
   "id": "625ae7b6",
   "metadata": {},
   "outputs": [
    {
     "name": "stdout",
     "output_type": "stream",
     "text": [
      "apple\n",
      "banana\n",
      "cherry\n"
     ]
    }
   ],
   "source": [
    "fruits = [\"apple\", \"banana\", \"cherry\"]\n",
    "for x in fruits:\n",
    "  print(x)"
   ]
  },
  {
   "cell_type": "markdown",
   "id": "fc47f857",
   "metadata": {},
   "source": [
    "## Continue, break and pass\n"
   ]
  },
  {
   "cell_type": "markdown",
   "id": "3df5e1ae",
   "metadata": {},
   "source": [
    "### Continue Statement\n",
    "\n",
    "It returns the control to the beginning of the loop."
   ]
  },
  {
   "cell_type": "code",
   "execution_count": 1,
   "id": "1b2e234d",
   "metadata": {},
   "outputs": [
    {
     "name": "stdout",
     "output_type": "stream",
     "text": [
      "Current Letter : g\n",
      "Current Letter : e\n",
      "Current Letter : e\n",
      "Current Letter : k\n",
      "Current Letter : s\n",
      "Current Letter : f\n",
      "Current Letter : o\n",
      "Current Letter : r\n",
      "Current Letter : g\n",
      "Current Letter : e\n",
      "Current Letter : e\n",
      "Current Letter : k\n",
      "Current Letter : s\n"
     ]
    }
   ],
   "source": [
    "# Prints all letters except 'e' and 's'\n",
    "for letter in 'geeksforgeeks': \n",
    "    if letter == 'e' or letter == 's':\n",
    "         pass\n",
    "    print ('Current Letter :', letter)\n",
    "    var = 10"
   ]
  },
  {
   "cell_type": "markdown",
   "id": "6f82b253",
   "metadata": {},
   "source": [
    "### break statement\n",
    "\n",
    "It brings control out of the loop"
   ]
  },
  {
   "cell_type": "code",
   "execution_count": 4,
   "id": "01123543",
   "metadata": {},
   "outputs": [
    {
     "name": "stdout",
     "output_type": "stream",
     "text": [
      "Current Letter : e\n"
     ]
    }
   ],
   "source": [
    "for letter in 'geeksforgeeks': \n",
    "  \n",
    "    # break the loop as soon it sees 'e' \n",
    "    # or 's'\n",
    "    if letter == 'e' or letter == 's':\n",
    "         break\n",
    "  \n",
    "print ('Current Letter :', letter)"
   ]
  },
  {
   "cell_type": "markdown",
   "id": "10f4742a",
   "metadata": {},
   "source": [
    "### Pass Statement\n",
    "\n",
    "We use pass statement to write empty loops. Pass is also used for empty control statement, function and classes."
   ]
  },
  {
   "cell_type": "code",
   "execution_count": 6,
   "id": "6f0af864",
   "metadata": {},
   "outputs": [
    {
     "name": "stdout",
     "output_type": "stream",
     "text": [
      "Last Letter : a\n"
     ]
    }
   ],
   "source": [
    "# An empty loop\n",
    "for letter in 'geeksforgeeks':\n",
    "    pass\n",
    "print ('Last Letter :', letter)"
   ]
  },
  {
   "cell_type": "markdown",
   "id": "88c8d1d0",
   "metadata": {},
   "source": [
    "## Python Operators\n",
    "\n",
    "Python divides the operators in the following groups:\n",
    "\n",
    "- Arithmetic operators\n",
    "- Assignment operators\n",
    "- Comparison operators\n",
    "- Logical operators\n",
    "- Identity operators\n",
    "- Membership operators\n",
    "- Bitwise operators\n",
    "\n"
   ]
  },
  {
   "cell_type": "markdown",
   "id": "d9a2e453",
   "metadata": {},
   "source": [
    "### Python Comparison Operator\n",
    "\n",
    "Comparison operators are used to compare two values\n",
    "\n",
    "==\t    \n",
    "Equal\t                    \n",
    "    x == y\t\n",
    "\n",
    "!=\t   \n",
    "Not equal\t                \n",
    "    x != y\t\n",
    "\n",
    ">\t    \n",
    "Greater than\t            \n",
    "    x > y\t\n",
    "<\t    \n",
    "Less than\t                \n",
    "    x < y\t\n",
    "    \n",
    ">=\t    \n",
    "Greater than or equal to\t\n",
    "    x >= y\t\n",
    "\n",
    "<=\t    \n",
    "Less than or equal to\t   \n",
    "    x <= y"
   ]
  },
  {
   "cell_type": "code",
   "execution_count": 16,
   "id": "6af274d9",
   "metadata": {},
   "outputs": [
    {
     "name": "stdout",
     "output_type": "stream",
     "text": [
      "8\n",
      "0\n"
     ]
    }
   ],
   "source": [
    "list_of_x = [-3,-1]\n",
    "\n",
    "def get_answer (list_of_x):\n",
    "    for i in list_of_x:\n",
    "        print (i**2-1)\n",
    "\n",
    "get_answer(list_of_x)"
   ]
  }
 ],
 "metadata": {
  "interpreter": {
   "hash": "aee8b7b246df8f9039afb4144a1f6fd8d2ca17a180786b69acc140d282b71a49"
  },
  "kernelspec": {
   "display_name": "Python 3.10.1 64-bit",
   "language": "python",
   "name": "python3"
  },
  "language_info": {
   "codemirror_mode": {
    "name": "ipython",
    "version": 3
   },
   "file_extension": ".py",
   "mimetype": "text/x-python",
   "name": "python",
   "nbconvert_exporter": "python",
   "pygments_lexer": "ipython3",
   "version": "3.10.1"
  }
 },
 "nbformat": 4,
 "nbformat_minor": 5
}
