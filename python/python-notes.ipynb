{
 "cells": [
  {
   "cell_type": "markdown",
   "id": "ca3cfa12",
   "metadata": {},
   "source": [
    "# Scope\n",
    "## Local Scope\n",
    "Variables or methods that have local scope (and for object-oriented programming, this includes instances of classes) are accessible only in the current block of code. \n",
    "\n",
    "There is a sort of \"nested sets\" model to the notion of scope. Beginning with global objects (see below), each contained block may access objects defined in a containing block; that is to say, in a code fragment in which a variable is defined and the program enters some kind of loop block, that loop sub-block does have access to that variable defined outside of the block, and it may, additionally, override it temporarily by declaring a variable of the same name in its own local scope (the scope of that loop block). See the example below. \n",
    "\n",
    "Local scope essentially refers to variables that are limited, as far as access is concerned, to the most current block of code, and not necessarily to any \"outer\" blocks that might also be counted in the nested model.\n",
    "\n",
    "## Global Scope\n",
    "Certain variables and methods can be said to have global scope. This term encompasses a very qualified situation: all of the variables defined at the very beginning of a program are available to the entire program. Likewise, in a function, the variables declared at the beginning are available to all the remaining code in that function\n",
    "\n",
    "## Python and objects\n",
    "\n",
    "\n",
    "\n",
    "Objects can have state (attributes or values) and behavior (methods).\n",
    "\n",
    "\n"
   ]
  },
  {
   "cell_type": "markdown",
   "id": "4dd618a9",
   "metadata": {},
   "source": [
    "# Methods for numeric data types\n",
    "## abs()\n",
    "The Python abs() method returns the absolute value of a number. The absolute value of a number is the number's distance from 0. This makes any negative number positive, while positive numbers are unaffected. For example, abs(-9) would return 9, while abs(2) would return 2."
   ]
  },
  {
   "cell_type": "code",
   "execution_count": 5,
   "id": "a667dae6",
   "metadata": {},
   "outputs": [
    {
     "data": {
      "text/plain": [
       "4444"
      ]
     },
     "execution_count": 5,
     "metadata": {},
     "output_type": "execute_result"
    }
   ],
   "source": [
    "abs(-4444)\n"
   ]
  },
  {
   "cell_type": "markdown",
   "id": "93f68830",
   "metadata": {},
   "source": [
    "## Strings \n",
    "Strings processing works very well in python. \n",
    "\n",
    "They can be delimited by a single (' '), double (\" \"), triple single (''' ''') or triple double (\"\"\" \"\"\").\n",
    "\n",
    "They can also contain a tab (\\t) or newline (\\n) character.\n"
   ]
  },
  {
   "cell_type": "code",
   "execution_count": 6,
   "id": "ee69da23",
   "metadata": {},
   "outputs": [
    {
     "data": {
      "text/plain": [
       "'Rebecca'"
      ]
     },
     "execution_count": 6,
     "metadata": {},
     "output_type": "execute_result"
    }
   ],
   "source": [
    "test_string = \"Rebecca\"\n",
    "test_string"
   ]
  },
  {
   "cell_type": "markdown",
   "id": "deadb7e7",
   "metadata": {},
   "source": [
    "### Indexing\n",
    "\n",
    "By referencing index numbers, we can isolate one of the characters in a string. We do this by putting the index numbers in square brackets. "
   ]
  },
  {
   "cell_type": "markdown",
   "id": "fad416d2",
   "metadata": {},
   "source": [
    "### index()\n",
    "\n",
    "The index() method returns the index of a substring inside the string (if found). "
   ]
  },
  {
   "cell_type": "code",
   "execution_count": 7,
   "id": "bbab78bc",
   "metadata": {},
   "outputs": [
    {
     "name": "stdout",
     "output_type": "stream",
     "text": [
      "7\n"
     ]
    }
   ],
   "source": [
    "text = 'Python is fun'\n",
    "\n",
    "# find the index of is\n",
    "result = text.index('is')\n",
    "print(result)"
   ]
  },
  {
   "cell_type": "markdown",
   "id": "45005a87",
   "metadata": {},
   "source": [
    "## String Format Method\n",
    "\n",
    "The format() method formats the specified value(s) and insert them inside the string's placeholder.\n",
    "\n",
    "The placeholder is defined using curly brackets: {}. Read more about the placeholders in the Placeholder section below.\n",
    "\n",
    "The format() method returns the formatted string\n",
    "\n",
    "    string.format(value1, value2...)\n"
   ]
  },
  {
   "cell_type": "code",
   "execution_count": 9,
   "id": "aca40980",
   "metadata": {},
   "outputs": [
    {
     "name": "stdout",
     "output_type": "stream",
     "text": [
      "My name is John, I'm 36\n",
      "My name is John, I'm 36\n",
      "My name is John, I'm 36\n"
     ]
    }
   ],
   "source": [
    "txt1 = \"My name is {fname}, I'm {age}\".format(fname = \"John\", age = 36)\n",
    "txt2 = \"My name is {0}, I'm {1}\".format(\"John\",36)\n",
    "txt3 = \"My name is {}, I'm {}\".format(\"John\",36)\n",
    "\n",
    "print (txt1, txt2, txt3, sep='\\n')\n",
    "\n"
   ]
  },
  {
   "cell_type": "markdown",
   "id": "f21fc599",
   "metadata": {},
   "source": [
    "# Built-in Data Structures\n",
    "\n",
    "1. Lists: ordered mutable collection of objects\n",
    "2. Dictionary: ordered set of key/value pairs\n",
    "3. Tuples: ordered, immutable lists\n",
    "4. Set: an unordred set of unique objects"
   ]
  },
  {
   "cell_type": "markdown",
   "id": "201b9692",
   "metadata": {},
   "source": [
    "# Lists: an ordered, mutable collection of objects\n",
    "\n",
    "Lists are the Python equivalent of arrays in other languages. They are created by using brackets.\n",
    "\n",
    "- Dynamic: can grow and srhink\n",
    "- heterogeneous: mix and match objects of different types\n",
    "- mutable: can change a list at any time\n",
    "\n",
    "Other info about lists\n",
    "\n",
    "- Index: the index at which the element has to be inserted.\n",
    "- Element: the element to be inserted in the list."
   ]
  },
  {
   "cell_type": "code",
   "execution_count": 14,
   "id": "745992f3",
   "metadata": {},
   "outputs": [],
   "source": [
    "grocery_list = []"
   ]
  },
  {
   "cell_type": "markdown",
   "id": "0ad7dec3",
   "metadata": {},
   "source": [
    "### index() method\n",
    "\n",
    "The index() method returns the index of a particular element in the list.\n"
   ]
  },
  {
   "cell_type": "code",
   "execution_count": 15,
   "id": "3892ee76",
   "metadata": {},
   "outputs": [
    {
     "name": "stdout",
     "output_type": "stream",
     "text": [
      "1\n"
     ]
    }
   ],
   "source": [
    "animals = ['cat', 'dog', 'rabbit', 'horse']\n",
    "# get the index of 'dog'\n",
    "index_of_dog = animals.index('dog')\n",
    "print(index_of_dog)\n"
   ]
  },
  {
   "cell_type": "markdown",
   "id": "78a54369",
   "metadata": {},
   "source": [
    "## Methods to grow lists"
   ]
  },
  {
   "cell_type": "markdown",
   "id": "801dfd53",
   "metadata": {},
   "source": [
    "### insert() method\n",
    "\n",
    "\n",
    "You can insert elements at a specific index in the list using the insert method"
   ]
  },
  {
   "cell_type": "code",
   "execution_count": 16,
   "id": "fea34fad",
   "metadata": {},
   "outputs": [
    {
     "name": "stdout",
     "output_type": "stream",
     "text": [
      "['z', 'a', 'b', 'c', 'd', 'e']\n"
     ]
    }
   ],
   "source": [
    "# Python3 program for use  \n",
    "# of insert() method \n",
    "  \n",
    "list2 = ['a', 'b', 'c', 'd', 'e'] \n",
    "  \n",
    "# insert z at the front of the list\n",
    "list2.insert(0, 'z')\n",
    "print(list2)\n",
    "\n"
   ]
  },
  {
   "cell_type": "markdown",
   "id": "5a84e1cb",
   "metadata": {},
   "source": [
    "### append() method\n",
    "\n",
    "\n",
    "The append() method appends an element to the end of the list. If you want to add only one element to the list, you can use this method.\n",
    "\n",
    "    list.append(elmnt)"
   ]
  },
  {
   "cell_type": "code",
   "execution_count": 2,
   "id": "d64cffe8",
   "metadata": {},
   "outputs": [
    {
     "name": "stdout",
     "output_type": "stream",
     "text": [
      "['Empress', 'Hierophant', 'The Fool']\n"
     ]
    }
   ],
   "source": [
    "cards=[\"Empress\", \"Hierophant\"]\n",
    "cards.append(\"The Fool\")\n",
    "print (cards)"
   ]
  },
  {
   "cell_type": "markdown",
   "id": "783ff15e",
   "metadata": {},
   "source": [
    "### extend() method\n",
    "\n",
    "The .extend() method increases the length of the list by the number of elements that are provided to the method, so if you want to add multiple elements to the list, you can use this method.\n",
    "\n",
    "    list.extend(iterable)\n",
    "\n",
    "iterable: Required. Any iterable (list, set, tuple, etc.)\n"
   ]
  },
  {
   "cell_type": "code",
   "execution_count": 3,
   "id": "5a2adc3f",
   "metadata": {},
   "outputs": [
    {
     "name": "stdout",
     "output_type": "stream",
     "text": [
      "['Apple Inc', 'Coca-Cola', 'Walmart', 'Amazon.com', 'DowDuPont', 'Alphabet Inc']\n"
     ]
    }
   ],
   "source": [
    "names =  ['Apple Inc', 'Coca-Cola', 'Walmart', 'Amazon.com']\n",
    "\n",
    "more_elements = ['DowDuPont', 'Alphabet Inc']\n",
    "\n",
    "names.extend(more_elements)\n",
    "\n",
    "print(names)"
   ]
  },
  {
   "cell_type": "markdown",
   "id": "e9f8f43a",
   "metadata": {},
   "source": [
    "## Methods to shrink lists"
   ]
  },
  {
   "cell_type": "markdown",
   "id": "adf86af4",
   "metadata": {},
   "source": [
    "### remove() method\n",
    "\n",
    "The remove() method removes the first matching element (which is passed as an argument) from the list.\n",
    "\n",
    "The remove() method takes a single element as an argument and removes it from the list\n",
    "\n",
    "### syntax\n",
    "    \n",
    "    list.remove(element)\n",
    "\n",
    "### example"
   ]
  },
  {
   "cell_type": "code",
   "execution_count": 1,
   "id": "070b871d",
   "metadata": {},
   "outputs": [
    {
     "name": "stdout",
     "output_type": "stream",
     "text": [
      "Updated List:  [2, 3, 5, 7, 11]\n"
     ]
    }
   ],
   "source": [
    "# create a list\n",
    "prime_numbers = [2, 3, 5, 7, 9, 11]\n",
    "\n",
    "# remove 9 from the list\n",
    "prime_numbers.remove(9)\n",
    "\n",
    "\n",
    "# Updated prime_numbers List\n",
    "print('Updated List: ', prime_numbers)\n",
    "\n",
    "# Output: Updated List:  [2, 3, 5, 7, 11]"
   ]
  },
  {
   "cell_type": "markdown",
   "id": "f42c6960",
   "metadata": {},
   "source": [
    "### pop() method\n",
    "\n",
    "The pop() method removes the element at the specified position."
   ]
  },
  {
   "cell_type": "code",
   "execution_count": 5,
   "id": "9ef2b22f",
   "metadata": {},
   "outputs": [
    {
     "name": "stdout",
     "output_type": "stream",
     "text": [
      "cherry\n",
      "banana\n"
     ]
    }
   ],
   "source": [
    "fruits = ['apple', 'banana', 'cherry']\n",
    "\n",
    "x = fruits.pop() #defeault is last value \n",
    "\n",
    "print (x) \n",
    "\n",
    "x = fruits.pop(1)\n",
    "\n",
    "print (x)"
   ]
  },
  {
   "cell_type": "markdown",
   "id": "7de2560d",
   "metadata": {},
   "source": [
    "# Dictionaries: ordered set of key/value pairs\n",
    "\n",
    "Dictionary is used to hold a collection of key/value pairs where each unique key has a value associated with it.\n",
    "\n",
    "Dictionary is often referred to as an associative array.\n"
   ]
  },
  {
   "cell_type": "code",
   "execution_count": 14,
   "id": "70e48a1c",
   "metadata": {},
   "outputs": [
    {
     "data": {
      "text/plain": [
       "{'Name': 'Douglas', 'Gender': 'Male', 'Occupation': 'Dog'}"
      ]
     },
     "execution_count": 14,
     "metadata": {},
     "output_type": "execute_result"
    }
   ],
   "source": [
    "pet = {'Name': 'Douglas', 'Gender': 'Male', 'Occupation': 'Dog'}\n",
    "\n",
    "pet"
   ]
  },
  {
   "cell_type": "markdown",
   "id": "61619c79",
   "metadata": {},
   "source": [
    "- Insertion order is NOT maintained: cannot assume that rows are in any order \n",
    "- Like lists, you can look up individual values using brackets. However, instead of using numeric data (index numbers) to access data, dictionaries use keys"
   ]
  },
  {
   "cell_type": "code",
   "execution_count": 12,
   "id": "fa813a13",
   "metadata": {},
   "outputs": [
    {
     "data": {
      "text/plain": [
       "'Douglas'"
      ]
     },
     "execution_count": 12,
     "metadata": {},
     "output_type": "execute_result"
    }
   ],
   "source": [
    "pet ['Name']"
   ]
  },
  {
   "cell_type": "markdown",
   "id": "b16dad14",
   "metadata": {},
   "source": [
    "### Update dictionary value "
   ]
  },
  {
   "cell_type": "code",
   "execution_count": 16,
   "id": "fabe4c15",
   "metadata": {},
   "outputs": [
    {
     "data": {
      "text/plain": [
       "{'Name': 'Douglas', 'Gender': 'Male', 'Occupation': 'Firefighter'}"
      ]
     },
     "execution_count": 16,
     "metadata": {},
     "output_type": "execute_result"
    }
   ],
   "source": [
    "pet ['Occupation'] = 'Firefighter'\n",
    "\n",
    "pet"
   ]
  },
  {
   "cell_type": "markdown",
   "id": "47a0b496",
   "metadata": {},
   "source": [
    "### .items() method\n",
    "\n",
    "The items() method returns a view object. The view object contains the key-value pairs of the dictionary, as tuples in a list.\n",
    "\n",
    "    dictionary.items()\n"
   ]
  },
  {
   "cell_type": "code",
   "execution_count": 1,
   "id": "25b595cb",
   "metadata": {},
   "outputs": [
    {
     "name": "stdout",
     "output_type": "stream",
     "text": [
      "dict_items([('brand', 'Ford'), ('model', 'Mustang'), ('year', 1964)])\n"
     ]
    }
   ],
   "source": [
    "car = {\n",
    "  \"brand\": \"Ford\",\n",
    "  \"model\": \"Mustang\",\n",
    "  \"year\": 1964\n",
    "}\n",
    "\n",
    "x = car.items()\n",
    "print(x)"
   ]
  },
  {
   "cell_type": "markdown",
   "id": "9fe96de5",
   "metadata": {},
   "source": [
    "### .setdefault() method\n",
    "\n",
    "The setdefault() method returns the value of a key (if the key is in dictionary). If not, it inserts key with a value to the dictionary.\n",
    "\n",
    "    dict.setdefault(key[, default_value])\n",
    "\n",
    "*Parameters*\n",
    "- key - the key to be searched in the dictionary \n",
    "- default_value (optional) - key with a value default_value is inserted to the dictionary if the key is not in the dictionary. If not provided, the default_value will be None."
   ]
  },
  {
   "cell_type": "code",
   "execution_count": 4,
   "id": "c7a59b15",
   "metadata": {},
   "outputs": [
    {
     "name": "stdout",
     "output_type": "stream",
     "text": [
      "person =  {'name': 'Phill', 'age': 50}\n",
      "Age =  50\n"
     ]
    }
   ],
   "source": [
    "person = {'name': 'Phill', 'age': 50}\n",
    "\n",
    "age = person.setdefault('age')\n",
    "print('person = ',person)\n",
    "print('Age = ',age)"
   ]
  },
  {
   "cell_type": "markdown",
   "id": "8ec14b98",
   "metadata": {},
   "source": [
    "# Tuples: An ordered immutable collection of objects\n",
    "\n",
    "- Immutable: cannot be changed\n",
    "- Can be thought of as a constant list\n"
   ]
  },
  {
   "cell_type": "markdown",
   "id": "17cfdf3b",
   "metadata": {},
   "source": [
    "# Sets: an unsorted set of unique objects\n",
    "\n",
    "An unordered collection of objects used when membership and uniqueness are main things you need to know. \n",
    "\n",
    "Are immutable and hashable: ints, floats and strings can be members of a set but lists and dictionaries can't be.\n",
    "\n",
    "- Cannot have duplicates\n",
    "\n",
    "## Find unique members of a list using sets "
   ]
  },
  {
   "cell_type": "code",
   "execution_count": 5,
   "id": "871a0517",
   "metadata": {},
   "outputs": [
    {
     "name": "stdout",
     "output_type": "stream",
     "text": [
      "[1, 2, 3, 4, 5]\n"
     ]
    }
   ],
   "source": [
    "numbers = [1, 2, 2, 3, 3, 4, 5]\n",
    "unique_numbers = list(set(numbers))\n",
    "print(unique_numbers)"
   ]
  },
  {
   "cell_type": "markdown",
   "id": "0c0e9425",
   "metadata": {},
   "source": [
    "## union method\n",
    "\n",
    "Return a set that contains all items from both sets, duplicates are excluded. Can be applied to multiple sets. "
   ]
  },
  {
   "cell_type": "code",
   "execution_count": 6,
   "id": "2ea3e33b",
   "metadata": {},
   "outputs": [
    {
     "name": "stdout",
     "output_type": "stream",
     "text": [
      "{'cherry', 'banana', 'google', 'apple', 'microsoft'}\n"
     ]
    }
   ],
   "source": [
    "x = {\"apple\", \"banana\", \"cherry\"}\n",
    "y = {\"google\", \"microsoft\", \"apple\"}\n",
    "\n",
    "z = x.union(y)\n",
    "\n",
    "print(z)"
   ]
  },
  {
   "cell_type": "markdown",
   "id": "f329822b",
   "metadata": {},
   "source": [
    "## differences method\n",
    "\n"
   ]
  }
 ],
 "metadata": {
  "interpreter": {
   "hash": "f80b1109db2892da7a8fc1d15c2fa8cce44b876243a2f1c303bfb8d4332f7efc"
  },
  "kernelspec": {
   "display_name": "Python 3 (ipykernel)",
   "language": "python",
   "name": "python3"
  },
  "language_info": {
   "codemirror_mode": {
    "name": "ipython",
    "version": 3
   },
   "file_extension": ".py",
   "mimetype": "text/x-python",
   "name": "python",
   "nbconvert_exporter": "python",
   "pygments_lexer": "ipython3",
   "version": "3.8.9"
  }
 },
 "nbformat": 4,
 "nbformat_minor": 5
}
