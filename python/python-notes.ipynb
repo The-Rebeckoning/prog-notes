{
 "cells": [
  {
   "cell_type": "markdown",
   "id": "ca3cfa12",
   "metadata": {},
   "source": [
    "# Scope\n",
    "## Local Scope\n",
    "Variables or methods that have local scope (and for object-oriented programming, this includes instances of classes) are accessible only in the current block of code. \n",
    "\n",
    "There is a sort of \"nested sets\" model to the notion of scope. Beginning with global objects (see below), each contained block may access objects defined in a containing block; that is to say, in a code fragment in which a variable is defined and the program enters some kind of loop block, that loop sub-block does have access to that variable defined outside of the block, and it may, additionally, override it temporarily by declaring a variable of the same name in its own local scope (the scope of that loop block). See the example below. \n",
    "\n",
    "Local scope essentially refers to variables that are limited, as far as access is concerned, to the most current block of code, and not necessarily to any \"outer\" blocks that might also be counted in the nested model.\n",
    "\n",
    "## Global Scope\n",
    "Certain variables and methods can be said to have global scope. This term encompasses a very qualified situation: all of the variables defined at the very beginning of a program are available to the entire program. Likewise, in a function, the variables declared at the beginning are available to all the remaining code in that function\n",
    "\n",
    "## Python and objects\n",
    "\n",
    "\n",
    "\n",
    "Objects can have state (attributes or values) and behavior (methods).\n",
    "\n",
    "\n"
   ]
  },
  {
   "cell_type": "markdown",
   "id": "4dd618a9",
   "metadata": {},
   "source": [
    "# Methods for numeric data types\n",
    "## abs()\n",
    "The Python abs() method returns the absolute value of a number. The absolute value of a number is the number's distance from 0. This makes any negative number positive, while positive numbers are unaffected. For example, abs(-9) would return 9, while abs(2) would return 2."
   ]
  },
  {
   "cell_type": "code",
   "execution_count": 11,
   "id": "a667dae6",
   "metadata": {},
   "outputs": [
    {
     "data": {
      "text/plain": [
       "4444"
      ]
     },
     "execution_count": 11,
     "metadata": {},
     "output_type": "execute_result"
    }
   ],
   "source": [
    "abs(-4444)\n"
   ]
  },
  {
   "cell_type": "markdown",
   "id": "93f68830",
   "metadata": {},
   "source": [
    "## Strings \n",
    "Strings processing works very well in python. \n",
    "\n",
    "They can be delimited by a single (' '), double (\" \"), triple single (''' ''') or triple double (\"\"\" \"\"\").\n",
    "\n",
    "They can also contain a tab (\\t) or newline (\\n) character.\n"
   ]
  },
  {
   "cell_type": "code",
   "execution_count": 12,
   "id": "ee69da23",
   "metadata": {},
   "outputs": [
    {
     "data": {
      "text/plain": [
       "'Rebecca'"
      ]
     },
     "execution_count": 12,
     "metadata": {},
     "output_type": "execute_result"
    }
   ],
   "source": [
    "test_string = \"Rebecca\"\n",
    "test_string"
   ]
  },
  {
   "cell_type": "markdown",
   "id": "deadb7e7",
   "metadata": {},
   "source": [
    "### Indexing\n",
    "\n",
    "By referencing index numbers, we can isolate one of the characters in a string. We do this by putting the index numbers in square brackets. "
   ]
  },
  {
   "cell_type": "markdown",
   "id": "fad416d2",
   "metadata": {},
   "source": [
    "### index()\n",
    "\n",
    "The index() method returns the index of a substring inside the string (if found). "
   ]
  },
  {
   "cell_type": "code",
   "execution_count": 13,
   "id": "bbab78bc",
   "metadata": {},
   "outputs": [
    {
     "name": "stdout",
     "output_type": "stream",
     "text": [
      "7\n"
     ]
    }
   ],
   "source": [
    "text = 'Python is fun'\n",
    "\n",
    "# find the index of is\n",
    "result = text.index('is')\n",
    "print(result)"
   ]
  },
  {
   "cell_type": "markdown",
   "id": "f21fc599",
   "metadata": {},
   "source": [
    "# Built-in Data Structures\n",
    "\n",
    "1. Lists: ordered mutable collection of objects\n",
    "2. "
   ]
  },
  {
   "cell_type": "markdown",
   "id": "201b9692",
   "metadata": {},
   "source": [
    "# Lists\n",
    "\n",
    "Lists are the Python equivalent of arrays in other languages. You use brackets to create a list. They can be sliced, diced, appended, etc. compared to tuples. They are created by using brackets.\n",
    "\n",
    "- Index: the index at which the element has to be inserted.\n",
    "- Element: the element to be inserted in the list."
   ]
  },
  {
   "cell_type": "code",
   "execution_count": 14,
   "id": "745992f3",
   "metadata": {},
   "outputs": [],
   "source": [
    "grocery_list = []"
   ]
  },
  {
   "cell_type": "markdown",
   "id": "0ad7dec3",
   "metadata": {},
   "source": [
    "## index() method\n",
    "\n",
    "The index() method returns the index of a particular element in the list.\n"
   ]
  },
  {
   "cell_type": "code",
   "execution_count": 15,
   "id": "3892ee76",
   "metadata": {},
   "outputs": [
    {
     "name": "stdout",
     "output_type": "stream",
     "text": [
      "1\n"
     ]
    }
   ],
   "source": [
    "animals = ['cat', 'dog', 'rabbit', 'horse']\n",
    "# get the index of 'dog'\n",
    "index_of_dog = animals.index('dog')\n",
    "print(index_of_dog)\n"
   ]
  },
  {
   "cell_type": "markdown",
   "id": "801dfd53",
   "metadata": {},
   "source": [
    "## insert() method\n",
    "\n",
    "\n",
    "You can insert elements at a specific index in the list using the insert method"
   ]
  },
  {
   "cell_type": "code",
   "execution_count": 16,
   "id": "fea34fad",
   "metadata": {},
   "outputs": [
    {
     "name": "stdout",
     "output_type": "stream",
     "text": [
      "['z', 'a', 'b', 'c', 'd', 'e']\n"
     ]
    }
   ],
   "source": [
    "# Python3 program for use  \n",
    "# of insert() method \n",
    "  \n",
    "list2 = ['a', 'b', 'c', 'd', 'e'] \n",
    "  \n",
    "# insert z at the front of the list\n",
    "list2.insert(0, 'z')\n",
    "print(list2)\n",
    "\n"
   ]
  },
  {
   "cell_type": "markdown",
   "id": "adf86af4",
   "metadata": {},
   "source": [
    "## remove() method\n",
    "\n",
    "The remove() method removes the first matching element (which is passed as an argument) from the list.\n",
    "\n",
    "The remove() method takes a single element as an argument and removes it from the list\n",
    "\n",
    "### syntax\n",
    "    \n",
    "    list.remove(element)\n",
    "\n",
    "### example"
   ]
  },
  {
   "cell_type": "code",
   "execution_count": 17,
   "id": "070b871d",
   "metadata": {},
   "outputs": [
    {
     "name": "stdout",
     "output_type": "stream",
     "text": [
      "Updated List:  [2, 3, 5, 7, 11]\n"
     ]
    }
   ],
   "source": [
    "# create a list\n",
    "prime_numbers = [2, 3, 5, 7, 9, 11]\n",
    "\n",
    "# remove 9 from the list\n",
    "prime_numbers.remove(9)\n",
    "\n",
    "\n",
    "# Updated prime_numbers List\n",
    "print('Updated List: ', prime_numbers)\n",
    "\n",
    "# Output: Updated List:  [2, 3, 5, 7, 11]"
   ]
  }
 ],
 "metadata": {
  "interpreter": {
   "hash": "f80b1109db2892da7a8fc1d15c2fa8cce44b876243a2f1c303bfb8d4332f7efc"
  },
  "kernelspec": {
   "display_name": "Python 3.8.9 64-bit ('testenv': venv)",
   "language": "python",
   "name": "python3"
  },
  "language_info": {
   "codemirror_mode": {
    "name": "ipython",
    "version": 3
   },
   "file_extension": ".py",
   "mimetype": "text/x-python",
   "name": "python",
   "nbconvert_exporter": "python",
   "pygments_lexer": "ipython3",
   "version": "3.8.9"
  }
 },
 "nbformat": 4,
 "nbformat_minor": 5
}
