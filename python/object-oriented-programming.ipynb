{
 "cells": [
  {
   "cell_type": "markdown",
   "metadata": {},
   "source": [
    "# Classes and objects in Python\n",
    "\n",
    "Classes are created by the user to associate data and methods into a single structure. \n",
    "\n",
    "It serves as a shell or template for an object. \n",
    "\n",
    "An object is when a class is initiated with associated traits and actions (aka attributes and methods). \n",
    "\n",
    "The user-defined attribute create the object's state and when the user wants to change that state, they use the object's methods."
   ]
  },
  {
   "cell_type": "code",
   "execution_count": 26,
   "metadata": {},
   "outputs": [
    {
     "name": "stdout",
     "output_type": "stream",
     "text": [
      "Rectangle Coordinates:  5 , 9 and 10 , 14\n",
      "You point was inside rectangle:  False\n",
      "Your area was off by: 20.0\n"
     ]
    }
   ],
   "source": [
    "# Create a Point class with the attributes x and y and the get_distance method.\n",
    "\n",
    "class Point:\n",
    "\n",
    "    def __init__(self, x, y):\n",
    "        self.x = x\n",
    "        self.y = y\n",
    "\n",
    "    def falls_in_rectangle(self, rectangle):\n",
    "        if rectangle.point1.x < self.x < rectangle.point_2.x \\\n",
    "        and rectangle.point1.y < self.y < rectangle.point_2.y:\n",
    "            return True\n",
    "        else:\n",
    "            return False\n",
    "\n",
    "class Rectangle:\n",
    "\n",
    "    def __init__(self, point1, point2):\n",
    "        self.point1 = point1\n",
    "        self.point2 = point2\n",
    "\n",
    "    def area (self):\n",
    "        return (self.point2.x - self.point1.x) * (self.point2.y - self.point1.y)\n",
    "\n",
    "\n",
    "from random import randint\n",
    "\n",
    "rectangle = Rectangle(\n",
    "    Point(randint(0,9),randint(0,9)),\n",
    "    Point (randint(10, 19), randint(10, 19)))\n",
    "\n",
    "print (\"Rectangle Coordinates: \",\n",
    "    rectangle.point1.x, \",\",\n",
    "    rectangle.point1.y, \"and\",\n",
    "    rectangle.point2.x, \",\",\n",
    "    rectangle.point2.y)\n",
    "\n",
    "# Ask the user to guess x and y \n",
    "\n",
    "user_point = Point (float(input(\"Guess X: \")),\n",
    "                float(input(\"Guess Y: \")))\n",
    "\n",
    "# Ask the user to guess the area \n",
    "\n",
    "user_area = float(input(\"Guess rectangle area:\"))\n",
    "\n",
    "print (\"You point was inside rectangle: \",\n",
    "user_point.falls_in_rectangle(rectangle))\n",
    "\n",
    "print (\"Your area was off by:\", rectangle.area()-user_area)"
   ]
  },
  {
   "cell_type": "code",
   "execution_count": null,
   "metadata": {},
   "outputs": [],
   "source": [
    "user_area = float(input(\"Guess the rectangle area:\"))"
   ]
  },
  {
   "cell_type": "code",
   "execution_count": null,
   "metadata": {},
   "outputs": [],
   "source": [
    "# Create a House class with the attribute wall_are and the method paint_needed.\n",
    "\n",
    "class House:\n",
    "\n",
    "    def __init__(self, wall_area):\n",
    "        self.wall_area = wall_area\n",
    "        \n",
    "    def paint_needed(self):\n",
    "        return (self.wall_area * 2.5)\n",
    "\n",
    "# Create an instance of the House class with a value of 100 for the wall_area.\n",
    "\n",
    "house1 = House(100)\n",
    "\n",
    "# Invoke the paint_needed method to find out how much paint will be needed for the house.\n",
    "\n",
    "house1.paint_needed()   \n",
    "\n",
    "# Create a Paint class with the attributes buckets and color and method total_price \n",
    "class Paint:\n",
    "\n",
    "    def __init__(self, buckets, color):\n",
    "        self.buckets = buckets\n",
    "        self.color = color\n",
    "    \n",
    "    def total_price (self):\n",
    "        if self.color == \"white\":\n",
    "            return (self.buckets * 1.99)\n",
    "        else:\n",
    "            return (self.buckets * 2.19)\n",
    "\n",
    "# Create an instance of Paint with a value of five for buckets and a color of black \n",
    "my_paint = Paint(5,\"black\")\n",
    "\n",
    "# Invoke the total_price method to find out the total price for five buckets of black paint. \n",
    "# Since the color of the paint is not white, the price per bucket is $2.19\n",
    "my_paint.total_price()"
   ]
  },
  {
   "cell_type": "markdown",
   "metadata": {},
   "source": [
    "# How to create a program using object-oriented programming\n",
    "\n",
    "1. Write down the objects on paper:\n",
    "\n",
    "It's helpful to think about the objects as the nouns, the attributes as the belongings of those nouns as the methods as the verbs. Refer to App 2 as a good example of how objects work. \n",
    "\n",
    "2. Create the classes to represent those objects\n",
    "\n",
    "3. Create methods\n",
    "\n",
    "4. Call the classes and methods\n",
    "\n"
   ]
  }
 ],
 "metadata": {
  "interpreter": {
   "hash": "aee8b7b246df8f9039afb4144a1f6fd8d2ca17a180786b69acc140d282b71a49"
  },
  "kernelspec": {
   "display_name": "data-science",
   "language": "python",
   "name": "data-science"
  },
  "language_info": {
   "codemirror_mode": {
    "name": "ipython",
    "version": 3
   },
   "file_extension": ".py",
   "mimetype": "text/x-python",
   "name": "python",
   "nbconvert_exporter": "python",
   "pygments_lexer": "ipython3",
   "version": "3.10.1"
  }
 },
 "nbformat": 4,
 "nbformat_minor": 2
}
