{
 "cells": [
  {
   "cell_type": "markdown",
   "metadata": {},
   "source": [
    "Given an array of integers nums and an integer target, return indices of the two numbers such that they add up to target.\n",
    "\n",
    "You may assume that each input would have exactly one solution, and you may not use the same element twice.\n",
    "\n",
    "You can return the answer in any order.\n",
    "\n",
    "Example 1:\n",
    "\n",
    "Input: nums = [2,7,11,15], target = 9\n",
    "Output: [0,1]\n",
    "Explanation: Because nums[0] + nums[1] == 9, we return [0, 1]."
   ]
  },
  {
   "cell_type": "code",
   "execution_count": 37,
   "metadata": {},
   "outputs": [
    {
     "name": "stdout",
     "output_type": "stream",
     "text": [
      "[0, 1]\n"
     ]
    },
    {
     "ename": "TypeError",
     "evalue": "unhashable type: 'list'",
     "output_type": "error",
     "traceback": [
      "\u001b[0;31m---------------------------------------------------------------------------\u001b[0m",
      "\u001b[0;31mTypeError\u001b[0m                                 Traceback (most recent call last)",
      "Cell \u001b[0;32mIn [37], line 23\u001b[0m\n\u001b[1;32m     21\u001b[0m \u001b[39mprint\u001b[39m (\u001b[39mlist\u001b[39m(length_list))\n\u001b[1;32m     22\u001b[0m num_dict \u001b[39m=\u001b[39m {}\n\u001b[0;32m---> 23\u001b[0m num_dict[nums] \u001b[39m=\u001b[39m length_list\n",
      "\u001b[0;31mTypeError\u001b[0m: unhashable type: 'list'"
     ]
    }
   ],
   "source": [
    "# Find a way to get indexes instead of actual numbers and apppend those to the answer list\n",
    "\n",
    "# https://leetcode.com/problems/two-sum/\n",
    "\n",
    "# This solution currently works for numbers that aren't the same. Need to find a way to get the index for the corresponding number\n",
    "# Try again after reviewing list comprehension\n",
    "\n",
    "nums = [2,2]\n",
    "\n",
    "target = 4\n",
    "\n",
    "length_list = range(0,len(nums))\n",
    "answer = []\n",
    "\n",
    "for i in length_list:\n",
    "    if nums[i] + nums[i+1] == target:\n",
    "        item1 = nums.index(nums[i])\n",
    "        item2 = nums.index(nums[i+1])\n",
    "        answer = [item1,item2]\n",
    "        break\n",
    "\n",
    "print (list(length_list))\n",
    "num_dict = {}\n",
    "num_dict[nums] = length_list\n",
    "\n",
    "res = {test_keys[i]: test_values[i] for i in range(len(test_keys))}"
   ]
  },
  {
   "cell_type": "code",
   "execution_count": 7,
   "metadata": {},
   "outputs": [
    {
     "name": "stdout",
     "output_type": "stream",
     "text": [
      "2\n"
     ]
    },
    {
     "data": {
      "text/plain": [
       "0"
      ]
     },
     "execution_count": 7,
     "metadata": {},
     "output_type": "execute_result"
    }
   ],
   "source": [
    "i = 0\n",
    "\n",
    "print (nums[i])\n",
    "nums.index(nums[i])"
   ]
  }
 ],
 "metadata": {
  "kernelspec": {
   "display_name": "Python 3.10.7 64-bit",
   "language": "python",
   "name": "python3"
  },
  "language_info": {
   "codemirror_mode": {
    "name": "ipython",
    "version": 3
   },
   "file_extension": ".py",
   "mimetype": "text/x-python",
   "name": "python",
   "nbconvert_exporter": "python",
   "pygments_lexer": "ipython3",
   "version": "3.10.7"
  },
  "orig_nbformat": 4,
  "vscode": {
   "interpreter": {
    "hash": "aee8b7b246df8f9039afb4144a1f6fd8d2ca17a180786b69acc140d282b71a49"
   }
  }
 },
 "nbformat": 4,
 "nbformat_minor": 2
}
