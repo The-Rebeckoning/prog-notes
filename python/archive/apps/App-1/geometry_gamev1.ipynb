{
 "cells": [
  {
   "cell_type": "code",
   "execution_count": null,
   "id": "78fbb421",
   "metadata": {},
   "outputs": [],
   "source": [
    "import turtle\n",
    "\n",
    "# Create a canvas instance \n",
    "myturtle = turtle.Turtle()\n",
    "\n",
    "# Go to a certain coordinate\n",
    "myturtle.pendown()\n",
    "myturtle.goto(50, 75)\n",
    "\n",
    "myturtle.pendown()\n",
    "myturtle.forward(100) # Move 100 pixes\n",
    "myturtle.left(90) # Turn 90 degrees\n",
    "myturtle.forward(200)\n",
    "myturtle.left(90)\n",
    "myturtle.forward(100)\n",
    "myturtle.left(90)\n",
    "myturtle.forward(200)\n",
    "\n",
    "\n",
    "turtle.done()\n"
   ]
  },
  {
   "cell_type": "code",
   "execution_count": null,
   "id": "c365c41c",
   "metadata": {},
   "outputs": [
    {
     "name": "stdout",
     "output_type": "stream",
     "text": [
      "Guess x: 33\n",
      "Guess y: 44\n",
      "Guess rectangle area: 400\n",
      "Your point was inside rectangle:  False\n",
      "Your area was off by:  -57804.0\n"
     ]
    }
   ],
   "source": [
    "from random import randint\n",
    "import turtle\n",
    "\n",
    "class Point:\n",
    "\n",
    "    def __init__(self, x, y):\n",
    "        self.x = x\n",
    "        self.y = y\n",
    "\n",
    "    def falls_in_rectangle(self, rectangle):\n",
    "        if rectangle.point1.x < self.x < rectangle.point2.x \\\n",
    "                and rectangle.point1.y < self.y < rectangle.point2.y:\n",
    "            return True\n",
    "        else:\n",
    "            return False\n",
    "\n",
    "\n",
    "class Rectangle:\n",
    "\n",
    "    def __init__(self, point1, point2):\n",
    "        self.point1 = point1\n",
    "        self.point2 = point2\n",
    "\n",
    "    def area(self):\n",
    "        return (self.point2.x - self.point1.x) * \\\n",
    "               (self.point2.y - self.point1.y)\n",
    "\n",
    "\n",
    "class GuiRectangle (Rectangle):\n",
    "        \n",
    "    def draw(self, canvas):\n",
    "\n",
    "        # Go to a certain coordinate\n",
    "        canvas.penup()\n",
    "        canvas.goto(self.point1.x, self.point1.y)\n",
    "        \n",
    "        \n",
    "        canvas.pendown()\n",
    "        canvas.forward(self.point2.x-self.point1.x) # Move 100 pixes\n",
    "        canvas.left(90) # Turn 90 degrees\n",
    "        canvas.forward(self.point2.y-self.point1.y)\n",
    "        canvas.left(90)\n",
    "        canvas.forward(self.point2.x-self.point1.x)\n",
    "        canvas.left(90)\n",
    "        canvas.forward(self.point2.y-self.point1.y)\n",
    "\n",
    "\n",
    "class GuiPoint(Point):\n",
    "    \n",
    "    def draw(self, canvas, size=5, color='red'):\n",
    "        canvas.penup()\n",
    "        canvas.goto(self.x, self.y)\n",
    "        canvas.pendown()\n",
    "        canvas.dot(size, color)\n",
    "\n",
    "\n",
    "# Create rectangle object\n",
    "rectangle = GuiRectangle(Point(randint(0, 400), randint(0, 400)),\n",
    "              Point(randint(10, 400), randint(10, 400)))\n",
    "\n",
    "# Print rectangle coordinates\n",
    "print(\"Rectangle Coordinates: \",\n",
    "      rectangle.point1.x, \",\",\n",
    "      rectangle.point1.y, \"and\",\n",
    "      rectangle.point2.x, \",\",\n",
    "      rectangle.point2.y)\n",
    "\n",
    "# Get point and area from user\n",
    "user_point = GuiPoint(float(input(\"Guess x: \")), float(input(\"Guess y: \")))\n",
    "user_area = float(input(\"Guess rectangle area: \"))\n",
    "\n",
    "# Print out the game result\n",
    "print(\"Your point was inside rectangle: \", user_point.falls_in_rectangle(rectangle))\n",
    "print(\"Your area was off by: \", rectangle.area() - user_area)\n",
    "\n",
    "myturtle = turtle.Turtle()\n",
    "rectangle.draw(canvas=myturtle)\n",
    "user_point.draw(canvas=myturtle)\n",
    "turtle.done()"
   ]
  },
  {
   "cell_type": "code",
   "execution_count": 57,
   "id": "45fbe5f0",
   "metadata": {},
   "outputs": [
    {
     "data": {
      "text/plain": [
       "4.776"
      ]
     },
     "execution_count": 57,
     "metadata": {},
     "output_type": "execute_result"
    }
   ],
   "source": [
    "class Paint:\n",
    "\n",
    "    def __init__(self, buckets, color): # Or get house area and height\n",
    "        self.color = color\n",
    "        self.buckets = buckets\n",
    "\n",
    "    def total_price(self):\n",
    "        if self.color == \"white\":\n",
    "            return self.buckets * 1.99\n",
    "        else:\n",
    "            return self.buckets * 2.19\n",
    "\n",
    "class DiscountedPaint(Paint):\n",
    "    \n",
    "    def discounted_price (self, discount_percentage):\n",
    "        final_price = self.total_price() - (self.total_price() * (discount_percentage/100))\n",
    "        return final_price\n",
    "\n",
    "discounted_paint = DiscountedPaint(3,\"white\")\n",
    "\n",
    "discounted_paint.discounted_price(20)\n",
    "\n",
    "\n"
   ]
  },
  {
   "cell_type": "code",
   "execution_count": null,
   "id": "fb9e97ae",
   "metadata": {},
   "outputs": [],
   "source": [
    "\n",
    "    \"\"\"\n",
    "        def discounted_price(discount_percentage):\n",
    "        final_discounted_price = self.total_price() \n",
    "        - (self.total_price()*discount_percentage)\n",
    "        return final_discounted_price\n",
    "    \"\"\""
   ]
  },
  {
   "cell_type": "code",
   "execution_count": null,
   "id": "e9b546f6",
   "metadata": {},
   "outputs": [],
   "source": []
  }
 ],
 "metadata": {
  "kernelspec": {
   "display_name": "Python 3 (ipykernel)",
   "language": "python",
   "name": "python3"
  },
  "language_info": {
   "codemirror_mode": {
    "name": "ipython",
    "version": 3
   },
   "file_extension": ".py",
   "mimetype": "text/x-python",
   "name": "python",
   "nbconvert_exporter": "python",
   "pygments_lexer": "ipython3",
   "version": "3.10.1"
  }
 },
 "nbformat": 4,
 "nbformat_minor": 5
}
