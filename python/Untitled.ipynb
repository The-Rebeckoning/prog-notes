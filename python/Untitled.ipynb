{
 "cells": [
  {
   "cell_type": "markdown",
   "id": "02576b8e",
   "metadata": {},
   "source": [
    "# Python Notes\n",
    "\n",
    "This subdirectory consists of Python notebooks. It includes pictures, code snippets and comments that provide an introduction to this widely used programming language.\n",
    "\n",
    "## Table of Contents\n",
    "\n",
    "1. [Python Notes]()\n",
    "2. [Object Oriented Programming]()\n",
    "3. [Matplotlib]()\n",
    "4. [Pandas]()\n",
    "5. [Numpy]()\n",
    "\n",
    "\n",
    "### Python Notes\n",
    "\n",
    "Central Jupyter Notebook with code snippets. Content covers basic data types, methods, conditional statements and syntax.\n",
    "\n",
    "### Object Oriented Programming\n",
    "\n",
    "This notebook focuses specifically on principles behind to Object Oriented Programming (OOP) and how to use OOP to write programs in Python.\n",
    "\n",
    "### Matplotlib\n",
    "\n",
    "A notebook that provides an introduction to the data visualization library matplotlib.\n",
    "\n",
    "### Pandas\n",
    "\n",
    "A notebook that provides an introduction to the beloved library pandas. \n",
    "\n",
    "\n",
    "### Numpy\n",
    "\n",
    "Introduction to the scientific computing package Numpy.\n",
    "\n",
    "\n"
   ]
  }
 ],
 "metadata": {
  "kernelspec": {
   "display_name": "Python 3 (ipykernel)",
   "language": "python",
   "name": "python3"
  },
  "language_info": {
   "codemirror_mode": {
    "name": "ipython",
    "version": 3
   },
   "file_extension": ".py",
   "mimetype": "text/x-python",
   "name": "python",
   "nbconvert_exporter": "python",
   "pygments_lexer": "ipython3",
   "version": "3.10.1"
  }
 },
 "nbformat": 4,
 "nbformat_minor": 5
}
