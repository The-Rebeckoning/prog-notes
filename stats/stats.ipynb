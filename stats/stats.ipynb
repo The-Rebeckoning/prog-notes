{
 "cells": [
  {
   "cell_type": "markdown",
   "id": "433f3722",
   "metadata": {},
   "source": [
    "# Statistics\n",
    "\n",
    "\n"
   ]
  },
  {
   "cell_type": "markdown",
   "id": "c6ffacc3",
   "metadata": {},
   "source": [
    "**Interquartile range (IQR)**\n",
    "\n",
    "Interquartile range is the difference between the third and first quartile of data.\n",
    "\n",
    "IQR = Q3 - Q1\n",
    "\n",
    "It is the amount of of the spread in the middle 50% of a dataset (the data that falls between the first and third quartile). It's also called the midspread. Use the IQR to assess the variability where most of your values lie. \n",
    "\n",
    "**Finding outliers using the IQR**\n",
    "\n",
    "We can use a formula to calculate outliers.\n",
    "\n",
    "Lower limit = Q1 – 1.5*IQR\n",
    "\n",
    "Upper limit = Q3 + 1.5*IQR\n",
    "\n",
    "![Outliers and IQR](https://www.statology.org/wp-content/uploads/2021/01/iqrOutlier1-1536x408.png \"IQR\")\n"
   ]
  },
  {
   "cell_type": "markdown",
   "id": "37a65216",
   "metadata": {},
   "source": [
    "**Variance and standard deviation of a population**\n",
    "\n",
    "\n",
    "\n",
    "Standard deviation indicates how far away a value is from the mean. Colloquially, it's referred to as \"the spread.\" It refers to how spread out numbers are in a data set. Variance gives in an actual value for how much (total) numbers in a dataset vary from the mean.\n",
    "\n",
    "In everyday language, deviation is how different something is from what might be considered normal.\n",
    "\n",
    "![Difference between variance and standard deviation](https://cdn1.byjus.com/wp-content/uploads/2021/03/variance-and-sd-formula.png \"Variance and standard deviation\")\n",
    "\n",
    "\n",
    "\n"
   ]
  }
 ],
 "metadata": {
  "kernelspec": {
   "display_name": "Python 3 (ipykernel)",
   "language": "python",
   "name": "python3"
  },
  "language_info": {
   "codemirror_mode": {
    "name": "ipython",
    "version": 3
   },
   "file_extension": ".py",
   "mimetype": "text/x-python",
   "name": "python",
   "nbconvert_exporter": "python",
   "pygments_lexer": "ipython3",
   "version": "3.10.1"
  }
 },
 "nbformat": 4,
 "nbformat_minor": 5
}
