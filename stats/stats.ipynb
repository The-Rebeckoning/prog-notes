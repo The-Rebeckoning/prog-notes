{
 "cells": [
  {
   "cell_type": "markdown",
   "id": "433f3722",
   "metadata": {},
   "source": [
    "# Statistics\n",
    "\n"
   ]
  },
  {
   "cell_type": "markdown",
   "id": "9390626f",
   "metadata": {},
   "source": [
    "## Measures of central tendency\n",
    "\n",
    "### Mean\n",
    "\n",
    "Mean is the average of all numbers in a dataset. "
   ]
  },
  {
   "cell_type": "code",
   "execution_count": 23,
   "id": "7af1cd38",
   "metadata": {},
   "outputs": [
    {
     "data": {
      "text/plain": [
       "6.1"
      ]
     },
     "execution_count": 23,
     "metadata": {},
     "output_type": "execute_result"
    }
   ],
   "source": [
    "import numpy as np\n",
    "import random\n",
    "import statistics as stats\n",
    "\n",
    "# Create loop to generate list of ten random numbers between three and ten\n",
    "nums = []\n",
    "for i in range(10):\n",
    "    num = random.randint(3,10)\n",
    "    nums.append(num)\n",
    "\n",
    "# Caluclate the mean using the mean method\n",
    "\n",
    "mean = np.mean(nums)\n",
    "\n",
    "mean"
   ]
  },
  {
   "cell_type": "markdown",
   "id": "223ce9df",
   "metadata": {},
   "source": [
    "### Median\n",
    "\n",
    "Media is when get you put all the numbers in ascending order and the number is the middle value. If the number of values you're calculating is event, then it's average of the two middle numbers. "
   ]
  },
  {
   "cell_type": "code",
   "execution_count": 24,
   "id": "69cd63b9",
   "metadata": {},
   "outputs": [
    {
     "name": "stdout",
     "output_type": "stream",
     "text": [
      "the median of [3, 3, 4, 4, 4, 6, 8, 9, 10, 10] is:\n",
      " 5.0\n"
     ]
    }
   ],
   "source": [
    "# Calculate the median using the median method of numpy\n",
    "\n",
    "# Sort the nums list\n",
    "nums.sort()\n",
    "median = np.median(nums)\n",
    "\n",
    "print(\"the median of\", nums,\"is:\\n\", median)"
   ]
  },
  {
   "cell_type": "markdown",
   "id": "03167e90",
   "metadata": {},
   "source": [
    "### Mode\n",
    "\n",
    "Mode is the most frequently ocurring value in a data set.\n"
   ]
  },
  {
   "cell_type": "code",
   "execution_count": 25,
   "id": "666e4fde",
   "metadata": {},
   "outputs": [
    {
     "name": "stdout",
     "output_type": "stream",
     "text": [
      "the mode of [3, 3, 4, 4, 4, 6, 8, 9, 10, 10] is:\n",
      " 4\n"
     ]
    }
   ],
   "source": [
    "# Calculate the mode using the mode method of stats\n",
    "\n",
    "mode = stats.mode(nums)\n",
    "print(\"the mode of\", nums,\"is:\\n\", mode)\n",
    "\n"
   ]
  },
  {
   "cell_type": "markdown",
   "id": "9fe18a21",
   "metadata": {},
   "source": [
    "## Covariance and correlation\n",
    "\n",
    "Both covariance and correlation are measures of how dependent two variables are.\n",
    "\n",
    "Covariance can be any number (negative or positive) whereas correlation is a number between -1 and 1. Since correlation is standardized, it's useful for comparing different dependencies across variables.\n",
    "\n",
    "**Source: Covariance vs Correlation (wallstreetmojo.com)**\n",
    "\n",
    "![Covariance and correlation](https://cdn.wallstreetmojo.com/wp-content/uploads/2021/06/Covariance-vs-Correlation-info.jpg.webp)\n",
    "\n",
    "\n"
   ]
  },
  {
   "cell_type": "markdown",
   "id": "a3db4871",
   "metadata": {},
   "source": [
    "## Distributions\n",
    "\n",
    "A distribution as a function that describes the relationship between observations in a sample space.\n",
    "\n",
    "**Binomial distribution.**\n",
    "A binomial distribution takes two arguments: number of experiments and the probabilty of succss. \n",
    "\n",
    "Example: let's say we're trying to calculate the likelihood of rolling a die and getting a six three times out of ten rolls. \n",
    "\n",
    "- Number of experiments: 10\n",
    "- Likihood of rolling a three each roll: 1/6\n",
    "\n",
    "\n",
    "- Only two possible and mutually exclusive outcomes.\n",
    "- Predefinesd and finite number of experiments/trials\n",
    "- Trials/experiemnts are identitical and the success of one trial doesn't the sucess of another\n",
    "\n",
    "\n",
    "**Bernoulli distribution.**\n",
    "\n",
    "A bionmial distribution with only one experiment.\n",
    "\n",
    "**Poisson distribution.**\n",
    "\n",
    "A Poisson distribution models the probability of a given number of events occurring in a fixed interval of time or space if these events occur with a constant mean rate, independently of the time since the last event. \n",
    "\n",
    "**Bimodal distribution.**\n",
    "\n",
    "Distribution with two peaks\n",
    "\n",
    "**Normal distribution.**\n",
    " \n",
    "Bell curve (normally distributed). Formed using percentiles and standard deviations. The most studied and well-known distribution.\n",
    "\n",
    "\n",
    "- 68.2% of the data is within one standard deviation of the data.\n",
    "- 95.4% of the data is within two standard deviations of the data.\n",
    "- 99.6% of the data is within three standard deviations of the data.\n",
    "\n",
    "![Normal distribution](https://miro.medium.com/max/1400/1*0-i7B1pkTS0xDH-5CsszmQ.png)\n",
    "\n",
    "**Uniform distributio**\n",
    "\n",
    "Y value is the about the same for each value of x.\n",
    "\n"
   ]
  },
  {
   "cell_type": "markdown",
   "id": "c6ffacc3",
   "metadata": {},
   "source": [
    "**Interquartile range (IQR)**\n",
    "\n",
    "Interquartile range is the difference between the third and first quartile of data.\n",
    "\n",
    "IQR = Q3 - Q1\n",
    "\n",
    "It is the amount of of the spread in the middle 50% of a dataset (the data that falls between the first and third quartile). It's also called the midspread. Use the IQR to assess the variability where most of your values lie. \n",
    "\n",
    "**Finding outliers using the IQR**\n",
    "\n",
    "We can use a formula to calculate outliers.\n",
    "\n",
    "Lower limit = Q1 – (1.5*IQR)\n",
    "\n",
    "Upper limit = Q3 + (1.5*IQR)\n",
    "\n",
    "![Outliers and IQR](https://www.statology.org/wp-content/uploads/2021/01/iqrOutlier1-1536x408.png \"IQR\")\n"
   ]
  },
  {
   "cell_type": "markdown",
   "id": "37a65216",
   "metadata": {},
   "source": [
    "**Variance and standard deviation of a population**\n",
    "\n",
    "\n",
    "\n",
    "Standard deviation is referred to as \"the spread.\" It refers to how spread out numbers are in a data set. It's a measure how much observations of the data set differs from its mean.\n",
    "\n",
    "Variance gives in an actual value for how much (total) numbers in a dataset vary from the mean.\n",
    "\n",
    "In everyday language, deviation is how different something is from what might be considered normal.\n",
    "\n",
    "![Difference between variance and standard deviation](https://cdn1.byjus.com/wp-content/uploads/2021/03/variance-and-sd-formula.png \"Variance and standard deviation\")\n",
    "\n",
    "\n"
   ]
  },
  {
   "cell_type": "code",
   "execution_count": 26,
   "id": "543e31ea",
   "metadata": {},
   "outputs": [
    {
     "name": "stdout",
     "output_type": "stream",
     "text": [
      "the variance of [3, 3, 4, 4, 4, 6, 8, 9, 10, 10] is:\n",
      " 7.489999999999999\n",
      "the standard deviation of [3, 3, 4, 4, 4, 6, 8, 9, 10, 10] is:\n",
      " 2.7367864366808017\n"
     ]
    }
   ],
   "source": [
    "# Calculate the variance and standard deviation\n",
    "\n",
    "variance = np.var(nums)\n",
    "standard_dev = np.std(nums)\n",
    "\n",
    "print(\"the variance of\", nums,\"is:\\n\", variance)\n",
    "print(\"the standard deviation of\", nums,\"is:\\n\", standard_dev)"
   ]
  },
  {
   "cell_type": "code",
   "execution_count": 27,
   "id": "349a165f",
   "metadata": {},
   "outputs": [
    {
     "name": "stdout",
     "output_type": "stream",
     "text": [
      "12.4\n",
      "12.4\n",
      "12.4\n",
      "final standard deviation for the sample is 5.366563145999495\n"
     ]
    }
   ],
   "source": [
    "import math\n",
    "\n",
    "mean_list = [8,11,17,7,19]\n",
    "\n",
    "\n",
    "# Allow for user to select either variance or standard deviation. \n",
    "\n",
    "# This will dictate whether the sum is divided by n or n-1\n",
    "\n",
    "option = \"standard deviation\" \n",
    "\n",
    "# Select either population or sample depending on the data that is provided.\n",
    "\n",
    "# This will dictate whether the amount is divided by the square root.\n",
    "\n",
    "size = \"sample\"\n",
    "\n",
    "# Get the mean.\n",
    "\n",
    "def get_mean (mean_list):\n",
    "    final_mean = 0\n",
    "    for n in mean_list:\n",
    "        final_mean = (final_mean+n)\n",
    "    final_mean = final_mean/len(mean_list)\n",
    "    print (final_mean)\n",
    "    return final_mean\n",
    "\n",
    "print (get_mean(mean_list))\n",
    "the_mean = (get_mean(mean_list))\n",
    "\n",
    "#print (\"the mean:\",the_mean)\n",
    "def distance_to_mean(mean_list, the_mean):\n",
    "    sum_of_squares = 0\n",
    "    # Function to calculate the square of the distance to the mean\n",
    "    distance_to_mean = []\n",
    "    for n in mean_list:\n",
    "        distance_to_mean.append((the_mean-n)**2)\n",
    "    for n in distance_to_mean:\n",
    "        sum_of_squares = sum_of_squares+n\n",
    "    return sum_of_squares\n",
    "sum_of_squares = (distance_to_mean(mean_list, the_mean))\n",
    "\n",
    "def variance_or_std(mean_list, sum_of_squares):\n",
    "# Get value of n depending on if we're calculating a value for a sample or a population\n",
    "    if size == \"population\":\n",
    "        n = len(mean_list)\n",
    "    else:\n",
    "        n = len(mean_list)-1\n",
    "    final_value = sum_of_squares/n\n",
    "    if option == \"standard deviation\":\n",
    "        final_value = math.sqrt(final_value)\n",
    "    final_value = (\"final \"+option+\" for the \"+size+\" is \"+str(final_value))\n",
    "    return (final_value)\n",
    "\n",
    "print (variance_or_std(mean_list, sum_of_squares))\n",
    "\n",
    "n_list = [3,7,4,2]\n",
    "def mean_absolute_deviation (n_list):\n",
    "    # Calculate the average for the list of numbers\n",
    "    average_n = 0\n",
    "    for i in n_list:\n",
    "        average_n = average_n+i\n",
    "    average_n = average_n/len(n_list)\n",
    "    # Calculate the differences between the average and the numbers\n",
    "    differences = []\n",
    "    for i in n_list:\n",
    "        differences.append(abs(average_n-i))\n",
    "    mad_value = 0\n",
    "    # Calculate the MAD\n",
    "    for i in differences:\n",
    "        mad_value = mad_value+i\n",
    "    mad_value = mad_value/len(n_list)\n",
    "    return mad_value\n",
    "\n",
    "\n",
    "#mean_absolute_deviation(n_list)\n"
   ]
  },
  {
   "cell_type": "markdown",
   "id": "54ee91ee",
   "metadata": {},
   "source": [
    "**Mean absolute deviation**\n",
    "\n",
    "The mean absolute deviation tells us, for a set of numbers, how much the numbers differ from the average.\n",
    "\n",
    "To calculate the MAD, you get the mean for a set of numbers, find the difference between each number and the average and then get the average of  those differences.\n",
    "\n",
    "This tells us how much, on average, the numbers deviate from the mean. "
   ]
  },
  {
   "cell_type": "markdown",
   "id": "4b7c30ed",
   "metadata": {},
   "source": [
    "**Percentiles**\n",
    "\n",
    "Percentiles tell you what percentage of data falls at or below a certain percentage.\n",
    "\n",
    "Therefore if a data point is in the 90th percentile, this means that 90% of the data points in that distribution are equal to or lower to the percentile."
   ]
  },
  {
   "cell_type": "markdown",
   "id": "4aa9a9ba",
   "metadata": {},
   "source": [
    "**Z Scores**\n",
    "\n",
    "Z scores tell you if a data point falls above and below the mean.\n",
    "\n",
    "Z Score = observed value - mean/standard deviation\n",
    "\n",
    "A positive z score indicates that the value in question lies a certain amount above or below the mean. \n",
    "\n",
    "![Z-Scores](https://www.simplypsychology.org/Z-score-formula.jpg \"Z-Scores\")"
   ]
  },
  {
   "cell_type": "markdown",
   "id": "5de2a811",
   "metadata": {},
   "source": [
    "**Effects of linear transformations**\n",
    "\n"
   ]
  },
  {
   "cell_type": "markdown",
   "id": "175f1f72",
   "metadata": {},
   "source": [
    "# Probability\n",
    "\n",
    "Probability gives us a language by which to describe cause and effect. \n",
    "\n",
    "How often will something occur?\n",
    "\n",
    "Probability of event:\n",
    "\n",
    "Number of favorable outcomes/ total number of outcomes\n",
    "\n",
    "Probability of composite event\n",
    "\n",
    "In order to know the probability of a composite event, you add the likelihood of each event ocurring together.\n",
    "\n",
    "For example, if you want to know the likehood of getting an event number from a die roll, you would add 1/6+1/6+1/6 which would give you 3/6 or 1/2.\n",
    "\n",
    "## Dependence versus independence\n",
    "\n"
   ]
  },
  {
   "cell_type": "markdown",
   "id": "12e02c09",
   "metadata": {},
   "source": [
    "## "
   ]
  }
 ],
 "metadata": {
  "kernelspec": {
   "display_name": "sql",
   "language": "python",
   "name": "sql"
  },
  "language_info": {
   "codemirror_mode": {
    "name": "ipython",
    "version": 3
   },
   "file_extension": ".py",
   "mimetype": "text/x-python",
   "name": "python",
   "nbconvert_exporter": "python",
   "pygments_lexer": "ipython3",
   "version": "3.10.1"
  }
 },
 "nbformat": 4,
 "nbformat_minor": 5
}
