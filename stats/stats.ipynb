{
 "cells": [
  {
   "cell_type": "markdown",
   "id": "433f3722",
   "metadata": {},
   "source": [
    "# Statistics\n",
    "\n"
   ]
  },
  {
   "cell_type": "markdown",
   "id": "9390626f",
   "metadata": {},
   "source": [
    "## Measures of central tendency\n",
    "\n",
    "### Mean\n",
    "\n",
    "Mean is the average of all numbers in a dataset. It's also known as an average. \n",
    "\n",
    "It's a standard measure of the center of data. "
   ]
  },
  {
   "cell_type": "code",
   "execution_count": 2,
   "id": "7af1cd38",
   "metadata": {},
   "outputs": [
    {
     "data": {
      "text/plain": [
       "8.1"
      ]
     },
     "execution_count": 2,
     "metadata": {},
     "output_type": "execute_result"
    }
   ],
   "source": [
    "import numpy as np\n",
    "import random\n",
    "import statistics as stats\n",
    "\n",
    "# Create loop to generate list of ten random numbers between three and ten\n",
    "nums = []\n",
    "for i in range(10):\n",
    "    num = random.randint(3,10)\n",
    "    nums.append(num)\n",
    "\n",
    "# Caluclate the mean using the mean method\n",
    "\n",
    "mean = np.mean(nums)\n",
    "\n",
    "mean"
   ]
  },
  {
   "cell_type": "markdown",
   "id": "223ce9df",
   "metadata": {},
   "source": [
    "### Median\n",
    "\n",
    "Media is when get you put all the numbers in ascending order and the number is the middle value. If the number of values you're calculating is event, then it's average of the two middle numbers. "
   ]
  },
  {
   "cell_type": "code",
   "execution_count": 3,
   "id": "69cd63b9",
   "metadata": {},
   "outputs": [
    {
     "name": "stdout",
     "output_type": "stream",
     "text": [
      "the median of [4, 5, 8, 8, 9, 9, 9, 9, 10, 10] is:\n",
      " 9.0\n"
     ]
    }
   ],
   "source": [
    "# Calculate the median using the median method of numpy\n",
    "\n",
    "# Sort the nums list\n",
    "nums.sort()\n",
    "median = np.median(nums)\n",
    "\n",
    "print(\"the median of\", nums,\"is:\\n\", median)"
   ]
  },
  {
   "cell_type": "markdown",
   "id": "03167e90",
   "metadata": {},
   "source": [
    "### Mode\n",
    "\n",
    "Mode is the most frequently ocurring value in a data set.\n"
   ]
  },
  {
   "cell_type": "code",
   "execution_count": 4,
   "id": "666e4fde",
   "metadata": {},
   "outputs": [
    {
     "name": "stdout",
     "output_type": "stream",
     "text": [
      "the mode of [4, 5, 8, 8, 9, 9, 9, 9, 10, 10] is:\n",
      " 9\n"
     ]
    }
   ],
   "source": [
    "# Calculate the mode using the mode method of stats\n",
    "\n",
    "mode = stats.mode(nums)\n",
    "print(\"the mode of\", nums,\"is:\\n\", mode)\n",
    "\n"
   ]
  },
  {
   "cell_type": "markdown",
   "id": "9fe18a21",
   "metadata": {},
   "source": [
    "## Covariance and correlation\n",
    "\n",
    "Both covariance and correlation are measures of how dependent two variables are.\n",
    "\n",
    "Covariance can be any number (negative or positive) whereas correlation is a number between -1 and 1. Since correlation is standardized, it's useful for comparing different dependencies across variables.\n",
    "\n",
    "**Source: Covariance vs Correlation (wallstreetmojo.com)**\n",
    "\n",
    "![Covariance and correlation](https://cdn.wallstreetmojo.com/wp-content/uploads/2021/06/Covariance-vs-Correlation-info.jpg)\n",
    "\n",
    "\n"
   ]
  },
  {
   "cell_type": "markdown",
   "id": "10361851",
   "metadata": {},
   "source": [
    "## Probability Distributions\n",
    "\n",
    "Otherwise known as a distribution. A distribution as a function that describes the relationship between observations in a particular sample (data points). A graph is a visual representation of distribution. \n",
    "\n",
    "### Probability Distributions\n",
    "\n",
    "Different types of distributions (different if variable is discrete or continous).\n",
    "\n",
    "The reason these two distributions are different is because discrete variables (those that are countable) are represented differently than those that are not countable. \n",
    "\n",
    "![Probability distributions](https://miro.medium.com/max/942/1*4uD1j7NvakmaLmlpgGwk-A.png)"
   ]
  },
  {
   "cell_type": "markdown",
   "id": "a3db4871",
   "metadata": {},
   "source": [
    "#### Discrete Probability Distribution\n",
    "\n",
    "**Binomial distribution.**\n",
    "\n",
    "A binomial distribution shows the likelihood of succcess.\n",
    "\n",
    "\n",
    "Example: let's say we're trying to calculate the likelihood of rolling a die and getting a six three times out of ten rolls. \n",
    "\n",
    "- Number of experiments: 10\n",
    "- Likihood of rolling a three each roll: 1/6\n",
    "\n",
    "\n",
    "- Only two possible and mutually exclusive outcomes.\n",
    "- Predefinesd and finite number of experiments/trials\n",
    "- Trials/experiemnts are identitical and the success of one trial doesn't the sucess of another\n",
    "\n",
    "**Poisson distribution.**\n",
    "\n",
    "A Poisson distribution models the probability of a given number of events occurring in a fixed interval of time or space if these events occur with a constant mean rate, independently of the time since the last event.\n",
    "\n",
    "Examples:\n",
    "Number of car accidents in a day\n",
    "Number of dandelions per square foot"
   ]
  },
  {
   "cell_type": "markdown",
   "id": "f3675926",
   "metadata": {},
   "source": [
    "#### Continous Probability Distribution\n",
    "\n",
    "**Normal distribution.**\n",
    " \n",
    "Also known as Gaussian Distribution or Bell Curve. \n",
    "Bell curve (normally distributed). Formed using percentiles and standard deviations. The most studied and well-known distribution.\n",
    "\n",
    "\n",
    "- 68.2% of the data is within one standard deviation of the data.\n",
    "- 95.4% of the data is within two standard deviations of the data.\n",
    "- 99.6% of the data is within three standard deviations of the data.\n",
    "\n",
    "![Normal distribution](https://miro.medium.com/max/1400/1*0-i7B1pkTS0xDH-5CsszmQ.png)\n",
    "\n",
    "**Uniform distributio**\n",
    "\n",
    "Y value is about the same for each value of x.\n",
    "\n",
    "![Uniform distribution](https://i0.wp.com/statisticsbyjim.com/wp-content/uploads/2021/11/uniform_distribution_discrete.png?resize=576%2C384&ssl=1)"
   ]
  },
  {
   "cell_type": "markdown",
   "id": "9e75fc4e",
   "metadata": {},
   "source": [
    "\n",
    "**Bernoulli distribution.**\n",
    "\n",
    "A bionmial distribution with only one experiment.\n",
    "\n",
    " \n",
    "\n",
    "**Bimodal distribution.**\n",
    "\n",
    "Distribution with two peaks"
   ]
  },
  {
   "cell_type": "markdown",
   "id": "c6ffacc3",
   "metadata": {},
   "source": [
    "**Interquartile range (IQR)**\n",
    "\n",
    "Interquartile range is the difference between the third and first quartile of data.\n",
    "\n",
    "IQR = Q3 - Q1\n",
    "\n",
    "It is the amount of of the spread in the middle 50% of a dataset (the data that falls between the first and third quartile). It's also called the midspread. Use the IQR to assess the variability where most of your values lie. \n",
    "\n",
    "**Finding outliers using the IQR**\n",
    "\n",
    "We can use a formula to calculate outliers.\n",
    "\n",
    "Lower limit = Q1 – (1.5*IQR)\n",
    "\n",
    "Upper limit = Q3 + (1.5*IQR)\n",
    "\n",
    "![Outliers and IQR](https://www.statology.org/wp-content/uploads/2021/01/iqrOutlier1-1536x408.png \"IQR\")\n"
   ]
  },
  {
   "cell_type": "markdown",
   "id": "37a65216",
   "metadata": {},
   "source": [
    "**Variance and standard deviation of a population**\n",
    "\n",
    "\n",
    "\n",
    "Standard deviation is referred to as \"the spread.\" It refers to how spread out numbers are in a data set. It's a measure how much observations of the data set differs from its mean.\n",
    "\n",
    "Variance gives in an actual value for how much (total) numbers in a dataset vary from the mean.\n",
    "\n",
    "In everyday language, deviation is how different something is from what might be considered normal.\n",
    "\n",
    "![Difference between variance and standard deviation](https://cdn1.byjus.com/wp-content/uploads/2021/03/variance-and-sd-formula.png \"Variance and standard deviation\")\n",
    "\n",
    "\n"
   ]
  },
  {
   "cell_type": "code",
   "execution_count": 10,
   "id": "543e31ea",
   "metadata": {},
   "outputs": [
    {
     "name": "stdout",
     "output_type": "stream",
     "text": [
      "the variance of [7, 1, 9, 13, 19] is:\n",
      " 36.160000000000004\n",
      "the standard deviation of [7, 1, 9, 13, 19] is:\n",
      " 6.013318551349164\n"
     ]
    }
   ],
   "source": [
    "# Calculate the variance and standard deviation\n",
    "\n",
    "nums = [7,1,9,13,19]\n",
    "variance = np.var(nums)\n",
    "standard_dev = np.std(nums)\n",
    "\n",
    "print(\"the variance of\", nums,\"is:\\n\", variance)\n",
    "print(\"the standard deviation of\", nums,\"is:\\n\", standard_dev)"
   ]
  },
  {
   "cell_type": "code",
   "execution_count": 13,
   "id": "349a165f",
   "metadata": {},
   "outputs": [
    {
     "name": "stdout",
     "output_type": "stream",
     "text": [
      "8.0\n",
      "8.0\n",
      "8.0\n",
      "final standard deviation for the sample is 4.47213595499958\n"
     ]
    },
    {
     "data": {
      "text/plain": [
       "19.998784000000004"
      ]
     },
     "execution_count": 13,
     "metadata": {},
     "output_type": "execute_result"
    }
   ],
   "source": [
    "import math\n",
    "\n",
    "mean_list = [7,1,9,13,10]\n",
    "\n",
    "\n",
    "# Allow for user to select either variance or standard deviation. \n",
    "\n",
    "# This will dictate whether the sum is divided by n or n-1\n",
    "\n",
    "option = \"standard deviation\" \n",
    "\n",
    "# Select either population or sample depending on the data that is provided.\n",
    "\n",
    "# This will dictate whether the amount is divided by the square root.\n",
    "\n",
    "size = \"sample\"\n",
    "\n",
    "# Get the mean.\n",
    "\n",
    "def get_mean (mean_list):\n",
    "    final_mean = 0\n",
    "    for n in mean_list:\n",
    "        final_mean = (final_mean+n)\n",
    "    final_mean = final_mean/len(mean_list)\n",
    "    print (final_mean)\n",
    "    return final_mean\n",
    "\n",
    "print (get_mean(mean_list))\n",
    "the_mean = (get_mean(mean_list))\n",
    "\n",
    "#print (\"the mean:\",the_mean)\n",
    "def distance_to_mean(mean_list, the_mean):\n",
    "    sum_of_squares = 0\n",
    "    # Function to calculate the square of the distance to the mean\n",
    "    distance_to_mean = []\n",
    "    for n in mean_list:\n",
    "        distance_to_mean.append((the_mean-n)**2)\n",
    "    for n in distance_to_mean:\n",
    "        sum_of_squares = sum_of_squares+n\n",
    "    return sum_of_squares\n",
    "sum_of_squares = (distance_to_mean(mean_list, the_mean))\n",
    "\n",
    "def variance_or_std(mean_list, sum_of_squares):\n",
    "# Get value of n depending on if we're calculating a value for a sample or a population\n",
    "    if size == \"population\":\n",
    "        n = len(mean_list)\n",
    "    else:\n",
    "        n = len(mean_list)-1\n",
    "    final_value = sum_of_squares/n\n",
    "    if option == \"standard deviation\":\n",
    "        final_value = math.sqrt(final_value)\n",
    "    final_value = (\"final \"+option+\" for the \"+size+\" is \"+str(final_value))\n",
    "    return (final_value)\n",
    "\n",
    "print (variance_or_std(mean_list, sum_of_squares))\n",
    "\n",
    "n_list = [3,7,4,2]\n",
    "def mean_absolute_deviation (n_list):\n",
    "    # Calculate the average for the list of numbers\n",
    "    average_n = 0\n",
    "    for i in n_list:\n",
    "        average_n = average_n+i\n",
    "    average_n = average_n/len(n_list)\n",
    "    # Calculate the differences between the average and the numbers\n",
    "    differences = []\n",
    "    for i in n_list:\n",
    "        differences.append(abs(average_n-i))\n",
    "    mad_value = 0\n",
    "    # Calculate the MAD\n",
    "    for i in differences:\n",
    "        mad_value = mad_value+i\n",
    "    mad_value = mad_value/len(n_list)\n",
    "    return mad_value\n",
    "\n",
    "\n",
    "#mean_absolute_deviation(n_list)\n",
    "\n",
    "4.472**2\n"
   ]
  },
  {
   "cell_type": "markdown",
   "id": "54ee91ee",
   "metadata": {},
   "source": [
    "**Mean absolute deviation**\n",
    "\n",
    "The mean absolute deviation tells us, for a set of numbers, how much the numbers differ from the average.\n",
    "\n",
    "To calculate the MAD, you get the mean for a set of numbers, find the difference between each number and the average and then get the average of  those differences.\n",
    "\n",
    "This tells us how much, on average, the numbers deviate from the mean. "
   ]
  },
  {
   "cell_type": "markdown",
   "id": "4b7c30ed",
   "metadata": {},
   "source": [
    "**Percentiles**\n",
    "\n",
    "Percentiles tell you what percentage of data falls at or below a certain percentage.\n",
    "\n",
    "Therefore if a data point is in the 90th percentile, this means that 90% of the data points in that distribution are equal to or lower to the percentile."
   ]
  },
  {
   "cell_type": "markdown",
   "id": "4aa9a9ba",
   "metadata": {},
   "source": [
    "**Z Scores**\n",
    "\n",
    "Z scores tell you if a data point falls above and below the mean.\n",
    "\n",
    "Z Score = observed value - mean/standard deviation\n",
    "\n",
    "A positive z score indicates that the value in question lies a certain amount above or below the mean. \n",
    "\n",
    "![Z-Scores](https://www.simplypsychology.org/Z-score-formula.jpg \"Z-Scores\")"
   ]
  },
  {
   "cell_type": "markdown",
   "id": "175f1f72",
   "metadata": {},
   "source": [
    "# Probability\n",
    "\n",
    "Probability gives us a language by which to describe cause and effect. \n",
    "\n",
    "How often will something occur?\n",
    "\n",
    "Probability of event:\n",
    "\n",
    "Number of favorable outcomes/ total number of outcomes\n",
    "\n",
    "Probability of composite event\n",
    "\n",
    "In order to know the probability of a composite event, you add the likelihood of each event ocurring together.\n",
    "\n",
    "For example, if you want to know the likehood of getting an event number from a die roll, you would add 1/6+1/6+1/6 which would give you 3/6 or 1/2.\n",
    "\n",
    "## Conditional probability\n",
    "\n",
    "Conditional probability is the likehood that something will happen based on something else.\n",
    "\n",
    "It means that results are not independent from each other. \n",
    "\n",
    "For example:\n",
    "\n",
    "- Event A is that an individual applying for college will be accepted. There is an 80% chance that this individual will be accepted to college.\n",
    "- Event B is that this individual will be given dormitory housing. Dormitory housing will only be provided for 60% of all of the accepted students.\n",
    "- P (Accepted and dormitory housing) = P (Dormitory Housing | Accepted) P (Accepted) = (0.60)*(0.80) = 0.48.\n",
    "\n",
    "### Conditional probability formula\n",
    "\n",
    "P(B|A) = P(A and B) / P(A)\n",
    "Or:\n",
    "\n",
    "P(B|A) = P(A∩B) / P(A)\n",
    "Where\n",
    "P = Probability\n",
    "A = Event A\n",
    "B = Event B\n"
   ]
  },
  {
   "cell_type": "markdown",
   "id": "461416f8",
   "metadata": {},
   "source": [
    "## Bayes' Rule\n",
    "\n",
    "Known as the most important rule in Data Science. It describes how to update a belief given some evidence. It describes the act of learning.\n",
    "\n",
    "Sensitivity\n",
    "\n",
    "Specificity versus \n"
   ]
  },
  {
   "cell_type": "markdown",
   "id": "76c0baa3",
   "metadata": {},
   "source": [
    "## Regression\n",
    "\n",
    "Regression is used to predict whether the value of a dependent variable can be predicted based on the value of one or more independent variables. \n",
    "\n",
    "### Continous versus categorical data\n",
    "\n",
    "**Simple Linear Regression**\n",
    "\n",
    "Simple linear regression estimates the value of a dependent variable based on the value of an independent variable. \n",
    "\n",
    "- Use one independent variable\n",
    "- Dependent variable is metric\n",
    "  \n",
    "Example: Does the weekly working time have an influence on the hourly wage of employees?\n",
    "\n",
    "**Multiple Linear Regression**\n",
    "\n",
    "Multiple linear regression is used to estimate the value of a depdent variable (criterion) based on independent variables (predictors).\n",
    "\n",
    "- Use multiple independent variables\n",
    "- Dependent variable is metric\n",
    "\n",
    "Does the weekly working time and age have an influence on the hourly wage of employees?\n",
    "\n",
    "**Logistic Regression**\n",
    "\n",
    "- Depedent variable is categorical (has the expression yes or no)\n",
    "- Can use  multiple independent variables\n",
    "\n",
    "Does the weekly working time and age of employees have an influence on the probability for the risk of burnout?"
   ]
  },
  {
   "cell_type": "markdown",
   "id": "6ab71c21",
   "metadata": {},
   "source": [
    "## Hypothesis testing\n",
    "\n",
    "Hypothesis testing describes the process of finding out whether a hypothesis we have is true or false. \n",
    "\n",
    "A common example used is a criminal trial. In the US, the justice system is supposed to assume the defendent is innocent until proven guilty.\n",
    "\n",
    "Therefore, we initially assume that the defendent is innocent.\n",
    "\n",
    "    Null hypothesis: The defendent is innocent.\n",
    "    Alternative hypothesis: The defendent is guilty\n",
    "\n",
    "We either reject the null hypothesis (accept the alternate hypothesis) or fail to reject the null hypothesis (accept the null hypothesis).\n",
    "\n",
    "One way to know whether we accept or reject the null-hypothesis, we calculate a p-value.\n",
    "\n",
    "### p-value\n",
    "\n",
    "A p-value allows us to decide whether or not we can confidently accept or reject a null hypothesis. \n",
    "\n",
    "The significance level is determined before the test (alpha score). The sigificance level tells us how confident we want to be in our results (95% is the standard) and that the difference we observe is a result of chance or something else. In other words, if the p-value is below the alpha score, it means we can reject our null hypothesis and that the difference we describe is not due to chance and is due to the explanation outlined in our alternative hypothesis.\n",
    "\n",
    "\n",
    "    alpha < p-value 0,01 of: very significant result.\n",
    "    alpha < p-value of 0.05 : significant result.\n",
    "    alpha > p-value of 0,05- : not significant result.\n",
    "\n",
    "\n",
    "\n",
    "\n"
   ]
  },
  {
   "cell_type": "markdown",
   "id": "986ab7e0",
   "metadata": {},
   "source": [
    "## A/B Testing\n",
    "\n",
    "A/B testing is a practical example of statistical hypothesis testing. \n",
    "\n",
    "It's most often used to test different layouts. In this example, let's say we have two layouts: Page A and Page B.\n",
    "\n",
    "Let's say we want to understand which page creates better conversion rates.\n",
    "\n",
    "Our hypothesis is that our new page (Page B) will create higher conversion rates than Page A.\n",
    "\n",
    "We will then create two sample populations and ask those two groups of users to use the corresponding page to find out which page performs better. \n",
    "\n",
    "For the purposes of the test, we automtically assume that the new version is not marked improvement. From there, we create a mechanism to find out if it's a marked improvement. \n",
    "\n",
    "[Source](https://conversionsciences.com/ab-testing-statistics/)"
   ]
  },
  {
   "cell_type": "markdown",
   "id": "a9557d6e",
   "metadata": {},
   "source": [
    "# Other Information\n",
    "\n",
    "## Variables\n",
    "\n",
    "In mathematics, a variable is something that contains a placeholder value that is subject to change.\n",
    "\n",
    "Here are the different types of variables.\n",
    "\n",
    "![Variables](https://thefactfactor.com/wp-content/uploads/2019/06/Variables.png \"Variables\")\n"
   ]
  },
  {
   "cell_type": "markdown",
   "id": "dbaa4893",
   "metadata": {},
   "source": [
    "## Numeric\n",
    "\n",
    "![Numeric data types](https://image.slidesharecdn.com/discretevscontinuousdata-comparisonchart-180629142250/95/discrete-vs-continuous-data-comparison-chart-1-638.jpg?cb=1530282199\n",
    ")\n",
    "\n"
   ]
  }
 ],
 "metadata": {
  "kernelspec": {
   "display_name": "data-science",
   "language": "python",
   "name": "data-science"
  },
  "language_info": {
   "codemirror_mode": {
    "name": "ipython",
    "version": 3
   },
   "file_extension": ".py",
   "mimetype": "text/x-python",
   "name": "python",
   "nbconvert_exporter": "python",
   "pygments_lexer": "ipython3",
   "version": "3.10.1"
  }
 },
 "nbformat": 4,
 "nbformat_minor": 5
}
