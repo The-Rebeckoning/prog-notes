{
 "cells": [
  {
   "cell_type": "markdown",
   "id": "433f3722",
   "metadata": {},
   "source": [
    "# Statistics\n",
    "\n",
    "\n"
   ]
  },
  {
   "cell_type": "markdown",
   "id": "c6ffacc3",
   "metadata": {},
   "source": [
    "**Interquartile range (IQR)\n",
    "**\n",
    "Interquartile range is the difference between the third and first quartile of data.\n",
    "\n",
    "IQR = Q3 - Q1\n",
    "\n",
    "It is the amount of of the spread in the middle 50% of a dataset (the data that falls between the first and third quartile). It's also called the midspread. Use the IQR to assess the variability where most of your values lie. \n",
    "\n"
   ]
  },
  {
   "cell_type": "markdown",
   "id": "37a65216",
   "metadata": {},
   "source": [
    "**Variance and standard deviation of a population**\n",
    "\n",
    "*Standard deviation*\n",
    "\n",
    "Standard deviation indicates how far away a value is from the mean. Colloquially, it's referred to as \"the spread.\"\n",
    "\n",
    "In everyday language, deviation is how different something is from what might be considered normal.\n",
    "\n",
    "\n",
    "![Difference between variance and standard deviation](./Variance-VERSUS-Standard-Deviation.jpeg \"Variance and standard deviation\")\n"
   ]
  },
  {
   "cell_type": "code",
   "execution_count": null,
   "id": "bbd139a8",
   "metadata": {},
   "outputs": [],
   "source": []
  }
 ],
 "metadata": {
  "kernelspec": {
   "display_name": "Python 3 (ipykernel)",
   "language": "python",
   "name": "python3"
  },
  "language_info": {
   "codemirror_mode": {
    "name": "ipython",
    "version": 3
   },
   "file_extension": ".py",
   "mimetype": "text/x-python",
   "name": "python",
   "nbconvert_exporter": "python",
   "pygments_lexer": "ipython3",
   "version": "3.10.1"
  }
 },
 "nbformat": 4,
 "nbformat_minor": 5
}
