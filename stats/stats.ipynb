{
 "cells": [
  {
   "cell_type": "markdown",
   "id": "433f3722",
   "metadata": {},
   "source": [
    "# Statistics\n",
    "\n",
    "\n"
   ]
  },
  {
   "cell_type": "markdown",
   "id": "c6ffacc3",
   "metadata": {},
   "source": [
    "**Interquartile range (IQR)**\n",
    "\n",
    "Interquartile range is the difference between the third and first quartile of data.\n",
    "\n",
    "IQR = Q3 - Q1\n",
    "\n",
    "It is the amount of of the spread in the middle 50% of a dataset (the data that falls between the first and third quartile). It's also called the midspread. Use the IQR to assess the variability where most of your values lie. \n",
    "\n",
    "**Finding outliers using the IQR**\n",
    "\n",
    "We can use a formula to calculate outliers.\n",
    "\n",
    "Lower limit = Q1 – (1.5*IQR)\n",
    "\n",
    "Upper limit = Q3 + (1.5*IQR)\n",
    "\n",
    "![Outliers and IQR](https://www.statology.org/wp-content/uploads/2021/01/iqrOutlier1-1536x408.png \"IQR\")\n"
   ]
  },
  {
   "cell_type": "markdown",
   "id": "37a65216",
   "metadata": {},
   "source": [
    "**Variance and standard deviation of a population**\n",
    "\n",
    "\n",
    "\n",
    "Standard deviation indicates how far away a value is from the mean. Colloquially, it's referred to as \"the spread.\" It refers to how spread out numbers are in a data set. Variance gives in an actual value for how much (total) numbers in a dataset vary from the mean.\n",
    "\n",
    "In everyday language, deviation is how different something is from what might be considered normal.\n",
    "\n",
    "![Difference between variance and standard deviation](https://cdn1.byjus.com/wp-content/uploads/2021/03/variance-and-sd-formula.png \"Variance and standard deviation\")\n",
    "\n",
    "\n",
    "\n"
   ]
  },
  {
   "cell_type": "code",
   "execution_count": 14,
   "id": "349a165f",
   "metadata": {},
   "outputs": [
    {
     "name": "stdout",
     "output_type": "stream",
     "text": [
      "12.4\n",
      "12.4\n",
      "12.4\n",
      "final standard deviation for the sample is 5.366563145999495\n"
     ]
    }
   ],
   "source": [
    "import math\n",
    "\n",
    "mean_list = [8,11,17,7,19]\n",
    "\n",
    "\n",
    "# Allow for user to select either variance or standard deviation. \n",
    "\n",
    "# This will dictate whether the sum is divided by n or n-1\n",
    "\n",
    "option = \"standard deviation\" \n",
    "\n",
    "# Select either population or sample depending on the data that is provided.\n",
    "\n",
    "# This will dictate whether the amount is divided by the square root.\n",
    "\n",
    "size = \"sample\"\n",
    "\n",
    "# Get the mean.\n",
    "\n",
    "def get_mean (mean_list):\n",
    "    final_mean = 0\n",
    "    for n in mean_list:\n",
    "        final_mean = (final_mean+n)\n",
    "    final_mean = final_mean/len(mean_list)\n",
    "    print (final_mean)\n",
    "    return final_mean\n",
    "\n",
    "print (get_mean(mean_list))\n",
    "the_mean = (get_mean(mean_list))\n",
    "\n",
    "#print (\"the mean:\",the_mean)\n",
    "def distance_to_mean(mean_list, the_mean):\n",
    "    sum_of_squares = 0\n",
    "    # Function to calculate the square of the distance to the mean\n",
    "    distance_to_mean = []\n",
    "    for n in mean_list:\n",
    "        distance_to_mean.append((the_mean-n)**2)\n",
    "    for n in distance_to_mean:\n",
    "        sum_of_squares = sum_of_squares+n\n",
    "    return sum_of_squares\n",
    "sum_of_squares = (distance_to_mean(mean_list, the_mean))\n",
    "\n",
    "def variance_or_std(mean_list, sum_of_squares):\n",
    "# Get value of n depending on if we're calculating a value for a sample or a population\n",
    "    if size == \"population\":\n",
    "        n = len(mean_list)\n",
    "    else:\n",
    "        n = len(mean_list)-1\n",
    "    final_value = sum_of_squares/n\n",
    "    if option == \"standard deviation\":\n",
    "        final_value = math.sqrt(final_value)\n",
    "    final_value = (\"final \"+option+\" for the \"+size+\" is \"+str(final_value))\n",
    "    return (final_value)\n",
    "\n",
    "print (variance_or_std(mean_list, sum_of_squares))\n",
    "\n",
    "n_list = [3,7,4,2]\n",
    "def mean_absolute_deviation (n_list):\n",
    "    # Calculate the average for the list of numbers\n",
    "    average_n = 0\n",
    "    for i in n_list:\n",
    "        average_n = average_n+i\n",
    "    average_n = average_n/len(n_list)\n",
    "    # Calculate the differences between the average and the numbers\n",
    "    differences = []\n",
    "    for i in n_list:\n",
    "        differences.append(abs(average_n-i))\n",
    "    mad_value = 0\n",
    "    # Calculate the MAD\n",
    "    for i in differences:\n",
    "        mad_value = mad_value+i\n",
    "    mad_value = mad_value/len(n_list)\n",
    "    return mad_value\n",
    "\n",
    "\n",
    "#mean_absolute_deviation(n_list)\n"
   ]
  },
  {
   "cell_type": "markdown",
   "id": "54ee91ee",
   "metadata": {},
   "source": [
    "**Mean absolute deviation**\n",
    "\n",
    "The mean absolute deviation tells us, for a set of numbers, how much the numbers differ from the average.\n",
    "\n",
    "To calculate the MAD, you get the mean for a set of numbers, find the difference between each number and the average and then get the average of  those differences.\n",
    "\n",
    "This tells us how much, on average, the numbers deviate from the mean. "
   ]
  },
  {
   "cell_type": "markdown",
   "id": "4b7c30ed",
   "metadata": {},
   "source": [
    "**Percentiles**\n",
    "\n",
    "Percentiles tell you what percentage of data falls at or below a certain percentage.\n",
    "\n",
    "Therefore if a data point is in the 90th percentile, this means that 90% of the data points in that distribution are equal to or lower to the percentile."
   ]
  },
  {
   "cell_type": "markdown",
   "id": "4aa9a9ba",
   "metadata": {},
   "source": [
    "**Z Scores**\n",
    "\n",
    "Z scores tell you if a data point falls above and below the mean.\n",
    "\n",
    "Z Score = observed value - mean/standard deviation\n",
    "\n",
    "A positive z score indicates that the value in question lies a certain amount above or below the mean. \n",
    "\n",
    "![Z-Scores](https://www.simplypsychology.org/Z-score-formula.jpg \"Z-Scores\")"
   ]
  }
 ],
 "metadata": {
  "kernelspec": {
   "display_name": "Python 3 (ipykernel)",
   "language": "python",
   "name": "python3"
  },
  "language_info": {
   "codemirror_mode": {
    "name": "ipython",
    "version": 3
   },
   "file_extension": ".py",
   "mimetype": "text/x-python",
   "name": "python",
   "nbconvert_exporter": "python",
   "pygments_lexer": "ipython3",
   "version": "3.10.1"
  }
 },
 "nbformat": 4,
 "nbformat_minor": 5
}
